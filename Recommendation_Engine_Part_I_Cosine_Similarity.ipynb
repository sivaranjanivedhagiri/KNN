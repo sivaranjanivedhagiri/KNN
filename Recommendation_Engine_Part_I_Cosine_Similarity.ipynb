{
  "nbformat": 4,
  "nbformat_minor": 0,
  "metadata": {
    "colab": {
      "name": "Copy of Recommendation_Engine_Part_I_Cosine_Similarity.ipynb",
      "provenance": [],
      "collapsed_sections": [],
      "include_colab_link": true
    },
    "hide_input": false,
    "kernelspec": {
      "display_name": "Python 3",
      "language": "python",
      "name": "python3"
    },
    "language_info": {
      "codemirror_mode": {
        "name": "ipython",
        "version": 3
      },
      "file_extension": ".py",
      "mimetype": "text/x-python",
      "name": "python",
      "nbconvert_exporter": "python",
      "pygments_lexer": "ipython3",
      "version": "3.6.7"
    },
    "toc": {
      "base_numbering": 1,
      "nav_menu": {},
      "number_sections": false,
      "sideBar": true,
      "skip_h1_title": false,
      "title_cell": "Table of Contents",
      "title_sidebar": "Contents",
      "toc_cell": false,
      "toc_position": {},
      "toc_section_display": true,
      "toc_window_display": false
    },
    "varInspector": {
      "cols": {
        "lenName": 16,
        "lenType": 16,
        "lenVar": 40
      },
      "kernels_config": {
        "python": {
          "delete_cmd_postfix": "",
          "delete_cmd_prefix": "del ",
          "library": "var_list.py",
          "varRefreshCmd": "print(var_dic_list())"
        },
        "r": {
          "delete_cmd_postfix": ") ",
          "delete_cmd_prefix": "rm(",
          "library": "var_list.r",
          "varRefreshCmd": "cat(var_dic_list()) "
        }
      },
      "types_to_exclude": [
        "module",
        "function",
        "builtin_function_or_method",
        "instance",
        "_Feature"
      ],
      "window_display": false
    }
  },
  "cells": [
    {
      "cell_type": "markdown",
      "metadata": {
        "id": "view-in-github",
        "colab_type": "text"
      },
      "source": [
        "<a href=\"https://colab.research.google.com/github/sivaranjanivedhagiri/KNN/blob/master/Recommendation_Engine_Part_I_Cosine_Similarity.ipynb\" target=\"_parent\"><img src=\"https://colab.research.google.com/assets/colab-badge.svg\" alt=\"Open In Colab\"/></a>"
      ]
    },
    {
      "cell_type": "markdown",
      "metadata": {
        "id": "QcETaD_bzGmX"
      },
      "source": [
        "<img src = 'https://github.com/insaid2018/Term-1/blob/master/Images/INSAID_Full%20Logo.png?raw=true' width=\"240\" height=\"360\">\n",
        "\n",
        "# <center> <font color = red> Recommendation Engine Part I - Cosine Similarity </center>\n",
        "\n",
        "<img src = \"https://raw.githubusercontent.com/insaid2018/Term-4/master/images/start.png\">"
      ]
    },
    {
      "cell_type": "markdown",
      "metadata": {
        "id": "uVz2W1k-wvGs"
      },
      "source": [
        "## Table of Contents\n",
        "\n",
        "1. [Introduction](#section1)<br>\n",
        "2. [Structure](#section2)<br>\n",
        "3. [Recommendation System Approaches](#section3)<br>\n",
        "   - 3.1 [Content based Approach](#section301)<br>\n",
        "     - 3.1.1 [How to Create Profile Vector?](#section3011)<br>\n",
        "     - 3.1.2 [One Hot Encoding](#section3012)<br>\n",
        "     - 3.1.3 [TF-IDF (Term Frequency - Inverse Document Frequency)](#section3013)<br>\n",
        "   - 3.2 [Cosine Similarity](#section302)<br>\n",
        "   - 3.3 [Collaborative Filtering](#section303)<br>\n",
        "   - 3.4 [Neighbourhood based Approach](#section304)<br>\n",
        "   - 3.5 [Model based Approach](#section305)<br>\n",
        "   - 3.6 [Hybrid Models](#section306)<br>\n",
        "4. [The MovieLens Dataset](#section4)<br>\n",
        "5. [Data Exploration](#section5)<br>\n",
        "6. [Content based Recommendation Model](#section6)<br>\n",
        "7. [Collaborative Filtering Recommendation Model](#section7)<br>\n",
        "8. [Splitting the data](#section8)<br>\n",
        "9. [Model Evaluation](#section9)<br>\n",
        "10. [Model based Collaborative Filtering](#section10)<br> \n",
        "11. [Conclusion](#section11)<br> "
      ]
    },
    {
      "cell_type": "markdown",
      "metadata": {
        "id": "1SxKnUrZINBk"
      },
      "source": [
        "#### **Note: Kindly run this notebook on Google Colab to avoid Memory issues.**"
      ]
    },
    {
      "cell_type": "markdown",
      "metadata": {
        "id": "Z5IPU0fWzGma"
      },
      "source": [
        "<a id=section1></a>\n",
        "# 1. Introduction"
      ]
    },
    {
      "cell_type": "markdown",
      "metadata": {
        "id": "30tO-jnDzGmd"
      },
      "source": [
        "A **recommender system** or a **recommendation system** is a subclass of information filtering system that seeks to predict the \"rating\" or \"preference\" a user would give to an item. The primary focus is in commercial applications.<br><br>\n",
        "\n",
        "Recommender systems are utilized in a variety of areas, and are most commonly recognized as\n",
        "- Playlist generators for video and music services like Netflix, YouTube and Spotify, \n",
        "- Product recommenders for services such as Amazon or \n",
        "- Content recommenders for social media platforms such as Facebook and Twitter.\n",
        "    \n",
        "The system can operate using a single input, like music, or multiple inputs within and across platforms like news, books, search queries and ahve been developed to explore research articles and experts, collaborators, financial services and life insurance. "
      ]
    },
    {
      "cell_type": "markdown",
      "metadata": {
        "id": "pzz4F_BIzGmf"
      },
      "source": [
        "<img src = \"https://raw.githubusercontent.com/insaid2018/Term-4/master/images/rec1.png\">"
      ]
    },
    {
      "cell_type": "markdown",
      "metadata": {
        "id": "ZRZ0MLeszGmh"
      },
      "source": [
        "<a id=section2></a>\n",
        "# 2. Structure"
      ]
    },
    {
      "cell_type": "markdown",
      "metadata": {
        "id": "XC7XWYCyzGmj"
      },
      "source": [
        "<img src = \"https://raw.githubusercontent.com/insaid2018/Term-4/master/images/rec.jpg\">"
      ]
    },
    {
      "cell_type": "markdown",
      "metadata": {
        "id": "qf8BK_ZRzGml"
      },
      "source": [
        "<a id=section3></a>\n",
        "# 3. Recommendation System Approaches"
      ]
    },
    {
      "cell_type": "markdown",
      "metadata": {
        "id": "a4MBBg9wwvGy"
      },
      "source": [
        "<a id=section301></a>\n",
        "# 3.1 Content based Approach"
      ]
    },
    {
      "cell_type": "markdown",
      "metadata": {
        "id": "tQbTKeGpzGmn"
      },
      "source": [
        "This algorithm recommends products which are similar to the ones that a user has liked in the past.<br><br>\n",
        "__Consider the example of Netflix__ : \n",
        "<img src = \"https://raw.githubusercontent.com/insaid2018/Term-4/master/images/rec_netflix.png\">\n",
        "- They save all the __information related to each user__ in a vector form called __profile vector__. \n",
        "- Profile vector contains the past behaviour of the user, i.e. the movies liked/disliked by the user and the ratings given by them. \n",
        "- All the __information related to movies__ is stored in another vector called __item vector__. \n",
        "- Item vector contais the details of each movies, like genre, cast, director, etc."
      ]
    },
    {
      "cell_type": "markdown",
      "metadata": {
        "id": "RLw_q_S8zGmp"
      },
      "source": [
        "<a id=section3011></a>\n",
        "## 3.1.1 How to create Profile Vector?"
      ]
    },
    {
      "cell_type": "markdown",
      "metadata": {
        "id": "SnjLs1kizGmr"
      },
      "source": [
        "- Each item will have an item profile\n",
        "- A table structure will list these properties\n",
        "- Comparing what and how many features match and collect scores\n",
        "- Recommend highest scored item\n",
        "- Code will be based on a algorithm, by given some item, the most similar item will be found.\n",
        "- Best scoring match will be provide to the user\n",
        "- This method relies on item features only, and not the user preferences."
      ]
    },
    {
      "cell_type": "markdown",
      "metadata": {
        "id": "EL2KykNVzGmu"
      },
      "source": [
        "5 items profile are being constructed as an example, basd on top 5 sushi places in India. Sushi A, Sushi B, Sushi C, Sushi D and Sushi E.<br>\n",
        "\n",
        "<img src = \"https://raw.githubusercontent.com/insaid2018/Term-4/master/images/reco1.PNG\">"
      ]
    },
    {
      "cell_type": "markdown",
      "metadata": {
        "id": "ZTzDdYaQzGmv"
      },
      "source": [
        "Focusing on the featured words in the tables: Salmon, Tuna, Eel, Crab and Ramen.\n",
        "\n",
        "<img src = \"https://raw.githubusercontent.com/insaid2018/Term-4/master/images/reco3.PNG\">"
      ]
    },
    {
      "cell_type": "markdown",
      "metadata": {
        "id": "hbWGtyTFzGmw"
      },
      "source": [
        "Similarities were being compared between 5 sushi places, to see how many matches. It showed:\n",
        "- 4 matches between Sushi A and Sushi B.\n",
        "- 5 matches between Sushi A and Sushi C.\n",
        "- 4 matches between Sushi A and Sushi D.\n",
        "- 3 matches between Sushi A and Sushi E.\n",
        "\n",
        "\n",
        "**The Best match for Sushi A is Sushi C**"
      ]
    },
    {
      "cell_type": "markdown",
      "metadata": {
        "id": "zwK4_2sTzGmx"
      },
      "source": [
        "<a id=section3012></a>\n",
        "## 3.1.2 One Hot Encoding "
      ]
    },
    {
      "cell_type": "markdown",
      "metadata": {
        "id": "0woUf2aXzGmz"
      },
      "source": [
        "Giving categorical data to a computer for processing is like talking to a tree in Mandarin and expecting a reply.<br>\n",
        "- A one hot encoding is a representation of categorical variables as binary vectors\n",
        "- It is first required that the categorical values be mapped to integer values.\n",
        "- Then, each integer value is respresented as a binary vector that is al zero values except the index of the integer, which is marked wit a 1."
      ]
    },
    {
      "cell_type": "markdown",
      "metadata": {
        "id": "IK_25XduzGm0"
      },
      "source": [
        "<div class=\"alert alert-block alert-info\">\n",
        "<b>Source:</b> sklearn.preprocessing.OneHotEncoder\n",
        "</div>"
      ]
    },
    {
      "cell_type": "markdown",
      "metadata": {
        "id": "HTPM3ztxzGm1"
      },
      "source": [
        "<a id=section3013></a>\n",
        "## 3.1.3 TF-IDF (Term Frequency - Inverse Document Frequency)"
      ]
    },
    {
      "cell_type": "markdown",
      "metadata": {
        "id": "ht5gJGOMzGm3"
      },
      "source": [
        "- <font color = red>TF</font> - It signifies the occurrence of the word in a document.\n",
        "\n",
        "\n",
        "<img src = \"https://raw.githubusercontent.com/insaid2018/Term-4/master/images/tf.PNG\">\n",
        "\n",
        "- <font color = red>IDF</font> - It signifies the rarity of the word as the word occuring in the document.\n",
        "\n",
        "<img src = \"https://raw.githubusercontent.com/insaid2018/Term-4/master/images/idf.PNG\">\n",
        "\n",
        "- <font color = red>TF-IDF</font> - It is a measure used to evaluate how important a word is to a document in a document corpus. The importance of word increases proportionally to the number of times a word appears in the document but is offset by the frequency of the word in the corpus.\n",
        "\n",
        "\n",
        "TF-IDF is used mainly because of two reasons:\n",
        "- Suppose we search for \"the rise of AI\" on Google. It is certain that \"the\" will occur more frequently than \"AI\", but the relative importance of AI is higher.\n",
        "- In such case, TF-IDF weighting negates the effect of high frequency words in determining the importance of an item. "
      ]
    },
    {
      "cell_type": "markdown",
      "metadata": {
        "id": "eignefcszGm4"
      },
      "source": [
        "<a id=section302></a>\n",
        "# 3.2 Cosine Similarity"
      ]
    },
    {
      "cell_type": "markdown",
      "metadata": {
        "id": "KIuT_ArHzGm5"
      },
      "source": [
        "The content based filtering algorithm finds the cosine of the angle between the profile vector and item vector, i.e. __cosine similarity__.\n",
        "\n",
        "<img src = \"https://raw.githubusercontent.com/insaid2018/Term-4/master/images/cos.png\">\n",
        "\n",
        "Based on the cosine value, which ranges from __-1 to 1__, the movies are arranged in __descending order__ and one of the below two approaches is used for recommendations:\n",
        "\n",
        "- __Top-n approach__ : where the top n items are recommended.\n",
        "- __Rating scale approach__ : Where a threshold is set and all the items above that threshold are recommended"
      ]
    },
    {
      "cell_type": "markdown",
      "metadata": {
        "id": "PWNEwoCRzGm6"
      },
      "source": [
        "<a id=section303></a>\n",
        "# 3.3 Collaborative Filtering"
      ]
    },
    {
      "cell_type": "markdown",
      "metadata": {
        "id": "-AuSRNZOzGm9"
      },
      "source": [
        "Collaborative filtering, also referred as social filtering, filters information by using the recommendations of other people.\n",
        "- It is based on idea that people who agreed in their evaluation of certain items in the past are likely to agree again in the future.\n",
        "- A person who wants to watch a movie for example, might ask for recommendations from others.\n",
        "- This information is used in the decision on which movie to see.\n",
        "\n",
        "\n",
        "This technique is commonly used to build personalized recommendations on the Web. Some popular websites that make use of the collabaorative filtering technology include <font color = red>**Amazon**, **Netflix**, **iTunes**, **LastFM**</font>.<br><br>\n",
        "In collaborative filtering, algorithms are used too make automatic predictions about a user's interests by compiling preferences from several users.<br><br>\n",
        "\n",
        "<img src = \"https://raw.githubusercontent.com/insaid2018/Term-4/master/images/reco.gif\">\n",
        "\n",
        "**Types of Collaborative filtering techniques**<br>\n",
        "- <font color = blue> Neighbourhood Base Approach</font>\n",
        "    - User Based\n",
        "    - Item Based\n",
        "    \n",
        "- <font color = blue>Model Based Approach</font>\n",
        "    - Nearest Neighbours\n",
        "    - Matrix Factorization(SVD)\n",
        "   \n",
        "- <font color = blue>Hybrid Models</font>"
      ]
    },
    {
      "cell_type": "markdown",
      "metadata": {
        "id": "XZKGwuEuzGm-"
      },
      "source": [
        "<a id=section304></a>\n",
        "# 3.4 Neighbourhood based Approach"
      ]
    },
    {
      "cell_type": "markdown",
      "metadata": {
        "id": "HmFY72mBzGnA"
      },
      "source": [
        "Recommender systems based on neighborhood automate the common principle of word-of-mouth, where one relies on the opinion of like-minded people or other trusted sources to evaluate the value of an item (movie, book, articles, album, etc.) according to his own preferences."
      ]
    },
    {
      "cell_type": "markdown",
      "metadata": {
        "id": "-VxZyt29zGnA"
      },
      "source": [
        "<img src = \"https://raw.githubusercontent.com/insaid2018/Term-4/master/images/rec13.png\">"
      ]
    },
    {
      "cell_type": "markdown",
      "metadata": {
        "id": "b0wgHN-szGnC"
      },
      "source": [
        "In the image below, there are three user rating on five movies.\n",
        "- The rating is from 1 to 5.\n",
        "- 1 indidcates that the user does not like the movie at all.\n",
        "- 5 indicated the user adores it.\n",
        "- ? means that the movie hasn't been rated by the user.\n",
        "\n",
        "<img src = \"https://raw.githubusercontent.com/insaid2018/Term-4/master/images/reco5.PNG\">"
      ]
    },
    {
      "cell_type": "markdown",
      "metadata": {
        "id": "xAKjQg-LzGnD"
      },
      "source": [
        "The objective is to recommend top-N movies to a specific user, in here for Alex. In order to accomplish it,t he ratings of movies that are not not rated by Alex need to be prdicted first."
      ]
    },
    {
      "cell_type": "markdown",
      "metadata": {
        "id": "BZ2JuKkQzGnE"
      },
      "source": [
        "#### User Based Collbaorative Filtering<br>\n",
        "**<font color = red>Step 1:</font> Claculating similarity between Alex and all other users.**"
      ]
    },
    {
      "cell_type": "markdown",
      "metadata": {
        "id": "DC_AEsNkzGnF"
      },
      "source": [
        "The calculation for the similarity between Alex and Bob can be derived as follows: \n",
        "\n",
        "\n",
        "\\begin{align}\n",
        "sim(Alex, Bob) = \\frac{(4 * 5 + 2 * 3 + 4 * 3)}{[sqrt(4²+ 2²+ 4²) * sqrt(5² + 3² + 3²)]} = 0.97\\\\\n",
        "\\end{align}"
      ]
    },
    {
      "cell_type": "markdown",
      "metadata": {
        "id": "J8cOwqa3zGnG"
      },
      "source": [
        "**<font color = red>Step 2:</font> Predict the ratings of the movies thata re rated by Alex**"
      ]
    },
    {
      "cell_type": "markdown",
      "metadata": {
        "id": "PaFG9MZgzGnH"
      },
      "source": [
        "First k value is needs to be calculated by injecting the similarity values:\n",
        "\n",
        "\\begin{align}\n",
        "k = \\frac{1}{(0.97+1)} = 0.51\\\\\n",
        "\\end{align}"
      ]
    },
    {
      "cell_type": "markdown",
      "metadata": {
        "id": "VtnUDevRzGnI"
      },
      "source": [
        "Now the movie Thor unrated by Alex can be worked by following calculation\n",
        "\n",
        "\\begin{align}\n",
        "R(Alex, Thor) =\\ k * [sim(Alex, Bob) * R(Bob, Thor)+ sim(Alex, Tom) * R(Tom, Thor)]= 0.51 * (0.97 * 4 + 1 * 4) = 4.02\\\\\n",
        "\\end{align}"
      ]
    },
    {
      "cell_type": "markdown",
      "metadata": {
        "id": "XCOUOprjzGnK"
      },
      "source": [
        "<img src = \"https://raw.githubusercontent.com/insaid2018/Term-4/master/images/reco6.PNG\">"
      ]
    },
    {
      "cell_type": "markdown",
      "metadata": {
        "id": "CbqAgs7KzGnL"
      },
      "source": [
        "**<font color = red>Step 3:</font> Select top-2 rated movies**<br>\n",
        "Since now the non-rated movie have been predicted, it is starightforward to find top-2 movies, which are Spider-man and Thor.  "
      ]
    },
    {
      "cell_type": "markdown",
      "metadata": {
        "id": "MiSxm8NKzGnM"
      },
      "source": [
        "#### Item-Based Collaborative Filtering"
      ]
    },
    {
      "cell_type": "markdown",
      "metadata": {
        "id": "JLD7GLlFzGnO"
      },
      "source": [
        "**<font color = red>Step 1:</font>Transpose the user-item matrix to the item-user matrix**"
      ]
    },
    {
      "cell_type": "markdown",
      "metadata": {
        "id": "BPAH1YKXzGnP"
      },
      "source": [
        "<img src = \"https://raw.githubusercontent.com/insaid2018/Term-4/master/images/reco7.PNG\">"
      ]
    },
    {
      "cell_type": "markdown",
      "metadata": {
        "id": "EdMOl8A3zGnQ"
      },
      "source": [
        "**<font color = red>Step 2:</font> Calculate the similarity between any two items and fill up the item-item similarity matrix**"
      ]
    },
    {
      "cell_type": "markdown",
      "metadata": {
        "id": "Bdd90V5hzGnR"
      },
      "source": [
        "Calculating similarity between Avenger and Star wars is demonstrated below:\n",
        "\n",
        "\\begin{align}\n",
        "sim(Avengers, Star wars) = \\frac{(4 * 2 + 5 * 3)}{[sqrt(4² + 5²) * sqrt(2² + 3²)]} = 0.99624059\\\\\n",
        "\\end{align}"
      ]
    },
    {
      "cell_type": "markdown",
      "metadata": {
        "id": "7CX3sR8_zGnT"
      },
      "source": [
        "In the similar way, the item-item similarity matrix is calculated and filled in the below table, where 0 means the similarity between the two movies cannot be calculated due to **data sparsity**."
      ]
    },
    {
      "cell_type": "markdown",
      "metadata": {
        "id": "99mIWqtnzGnU"
      },
      "source": [
        "<img src = \"https://raw.githubusercontent.com/insaid2018/Term-4/master/images/reco8.PNG\">"
      ]
    },
    {
      "cell_type": "markdown",
      "metadata": {
        "id": "KwF_6MTAzGnV"
      },
      "source": [
        "**<font color = red>Step 3:</font> Predict the ratings of movies that are rated by Alex**"
      ]
    },
    {
      "cell_type": "markdown",
      "metadata": {
        "id": "Y20xWxTSzGnV"
      },
      "source": [
        "After builidng the item-item similarity matrix, the rating can be injected which are not present as following:\n",
        "\n",
        "\\begin{align}\n",
        "R(Alex, Thor) = \\frac{(sim(Thor,Avengers) * R(Alex,Avengers) + sim(Thor, Iron man) * R(Alex, Iron man))}{(sim(Thor, Avengers) + sim(Thor, Iron man))} = 4\\\\\n",
        "\\end{align}"
      ]
    },
    {
      "cell_type": "markdown",
      "metadata": {
        "id": "kU-J5IM5zGnX"
      },
      "source": [
        "**<font color = red>Step 4:</font> Select top-2 rated movies for Alex**"
      ]
    },
    {
      "cell_type": "markdown",
      "metadata": {
        "id": "PXNvtXDxzGnX"
      },
      "source": [
        "It in now obvious here that three movies tie for second place, so the top-2 rated movies by Alex is comprised of Spider-man and one of the three tied movies - Avengers, Thor and Iron man.\n",
        "\n",
        "<img src = \"https://raw.githubusercontent.com/insaid2018/Term-4/master/images/reco9.PNG\">"
      ]
    },
    {
      "cell_type": "markdown",
      "metadata": {
        "id": "0-JiWR62zGnY"
      },
      "source": [
        "<a id=section305></a>\n",
        "# 3.5. Model based Approach"
      ]
    },
    {
      "cell_type": "markdown",
      "metadata": {
        "id": "lvY43I2WzGnZ"
      },
      "source": [
        "<img src = \"https://raw.githubusercontent.com/insaid2018/Term-4/master/images/modelbased.PNG\">"
      ]
    },
    {
      "cell_type": "markdown",
      "metadata": {
        "id": "DpDYbCYtzGnb"
      },
      "source": [
        "#### Clustering based approach"
      ]
    },
    {
      "cell_type": "markdown",
      "metadata": {
        "id": "ZrQ9q3oxzGnd"
      },
      "source": [
        "In clustering based approach, the recommendations are transformed into a clustering like problem, where the similarity measure is based on \"How close two items are, while generating recommendations\"?\n",
        "- The measure for generating recommednation will be on the basis of similarity of two items like vector distance between these itmes.\n",
        "- The idea is same as that of memory based recommendations, using similarity between user/items and use them as weights to predict a rating from a user and an item.\n",
        "- In this the only difference is that similarities are calculated based on an unspervised learning model, rather than Pearson correlation or cosine similarity.\n",
        "- In this, we limit the number of similar users as k, which makes the system more scalable."
      ]
    },
    {
      "cell_type": "markdown",
      "metadata": {
        "id": "JPX8k9UdzGnf"
      },
      "source": [
        "<img src = \"https://raw.githubusercontent.com/insaid2018/Term-4/master/images/clustering.jpg\">"
      ]
    },
    {
      "cell_type": "markdown",
      "metadata": {
        "id": "8TxHEGGCzGno"
      },
      "source": [
        "<a id=section306></a>\n",
        "# 3.6 Hybrid Models"
      ]
    },
    {
      "cell_type": "markdown",
      "metadata": {
        "id": "3L7YokaXzGnr"
      },
      "source": [
        "Both content-based filtering and collaborative filtering have there strengths and weaknesses.<br>\n",
        "Content-based filtering:\n",
        "- Content description\n",
        "- Over-specialization\n",
        "- Subjective Domain problem\n",
        "\n",
        "Collabprative filtering:\n",
        "- Early rater problem\n",
        "- Sparsity\n",
        "- Data Scalability\n",
        "\n",
        "A system that combines content-based filtering and collaborative filtering could take advantage from both the representation of the content as well as similarities among users."
      ]
    },
    {
      "cell_type": "markdown",
      "metadata": {
        "id": "tsaKtx3gzGns"
      },
      "source": [
        "**Collaboration via Content**<br><br>\n",
        "- In this, both the rated items and content of the items are used to construct a user profile. \n",
        "- The selection of terms which describe the content of the items is done using content-based techniques.\n",
        "- The weight of terms indicate how important they are to the users.\n",
        "\n",
        "Five terms and movie ratings:\n",
        "<img src = \"https://raw.githubusercontent.com/insaid2018/Term-4/master/images/cvc.PNG\">"
      ]
    },
    {
      "cell_type": "markdown",
      "metadata": {
        "id": "JHvFcsUCzGnt"
      },
      "source": [
        "In here,\n",
        "- In collaborative, instead of determining the correlation with users ratings, term weights are used.\n",
        "- Unlike content based filtering, predicitions are based on the impressions of other users which could lead to recommendations outside the normal environment of a user."
      ]
    },
    {
      "cell_type": "markdown",
      "metadata": {
        "id": "wpl2qcZbzGnu"
      },
      "source": [
        "### Pro's and Con's of Hybrid Models"
      ]
    },
    {
      "cell_type": "markdown",
      "metadata": {
        "id": "9nlYhf_hzGnu"
      },
      "source": [
        "Pros:\n",
        "- Fast to implement\n",
        "- Fast to execute\n",
        "- Not much storage space required\n",
        "- Very successful in broad applications for large populations such as shelf layout in retail stores.\n",
        "\n",
        "Cons:\n",
        "- Not suitable of knowledge of prefernce change rapidly.\n",
        "- Sometime may lead to stupid recommendations"
      ]
    },
    {
      "cell_type": "markdown",
      "metadata": {
        "id": "d6qbbQlUzGnv"
      },
      "source": [
        "<a id=section4></a>\n",
        "# 4. The MovieLens Dataset\n",
        "One of the most common datasets that is available on the internet for building a Recommender System is the [MovieLens DataSet](https://grouplens.org/datasets/movielens/). This version of the dataset that we're working with ([1M](https://grouplens.org/datasets/movielens/1m/)) contains 1,000,209 anonymous ratings of approximately 3,900 movies made by 6,040 MovieLens users who joined MovieLens in 2000.\n",
        "\n",
        "The data was collected by GroupLens researchers over various periods of time, depending on the size of the set. This 1M version was released on February 2003. Users were selected at random for inclusion. All users selected had rated at least 20 movies. Each user is represented by an id, and no other information is provided.\n",
        "\n",
        "The original data are contained in three files, [movies.dat](https://github.com/khanhnamle1994/movielens/blob/master/dat/movies.dat), [ratings.dat](https://github.com/khanhnamle1994/movielens/blob/master/dat/ratings.dat) and [users.dat](https://github.com/khanhnamle1994/movielens/blob/master/dat/users.dat). To make it easier to work with the data, we converted them into csv files.\n",
        "\n",
        "<img src =\"https://raw.githubusercontent.com/insaid2018/Term-4/master/images/movie.jpeg\">"
      ]
    },
    {
      "cell_type": "code",
      "metadata": {
        "id": "VD0SVfvapAy0"
      },
      "source": [
        "# Recommend Movie Based on Content ---> Genre "
      ],
      "execution_count": null,
      "outputs": []
    },
    {
      "cell_type": "code",
      "metadata": {
        "id": "I_YRg_pMzGnx"
      },
      "source": [
        "import pandas as pd\n",
        "import numpy as np\n",
        "import matplotlib.pyplot as plt\n",
        "\n",
        "# Reading ratings file\n",
        "# Ignore the timestamp column\n",
        "ratings = pd.read_csv('https://raw.githubusercontent.com/insaid2018/Term-4/master/Data/Assignment/ratings.csv', sep='\\t', encoding='latin-1', usecols=['user_id', 'movie_id', 'rating'])\n",
        "\n",
        "# Reading users file\n",
        "users = pd.read_csv('https://raw.githubusercontent.com/insaid2018/Term-4/master/Data/Assignment/users.csv', sep='\\t', encoding='latin-1', usecols=['user_id', 'gender', 'zipcode', 'age_desc', 'occ_desc'])\n",
        "\n",
        "# Reading movies file\n",
        "movies = pd.read_csv('https://raw.githubusercontent.com/insaid2018/Term-4/master/Data/Assignment/movies.csv', sep='\\t', encoding='latin-1', usecols=['movie_id', 'title', 'genres'])"
      ],
      "execution_count": null,
      "outputs": []
    },
    {
      "cell_type": "markdown",
      "metadata": {
        "id": "bJWb-q8mzGn2"
      },
      "source": [
        "Now lets take a peak into the content of each file to understand them better.\n",
        "\n",
        "### Ratings Dataset"
      ]
    },
    {
      "cell_type": "code",
      "metadata": {
        "id": "ALtZ-bxGzGn2",
        "colab": {
          "base_uri": "https://localhost:8080/"
        },
        "outputId": "c1010027-2114-417b-855f-9528652d7820"
      },
      "source": [
        "# Check the top 5 rows\n",
        "print(ratings.head())"
      ],
      "execution_count": null,
      "outputs": [
        {
          "output_type": "stream",
          "text": [
            "   user_id  movie_id  rating\n",
            "0        1      1193       5\n",
            "1        1       661       3\n",
            "2        1       914       3\n",
            "3        1      3408       4\n",
            "4        1      2355       5\n"
          ],
          "name": "stdout"
        }
      ]
    },
    {
      "cell_type": "code",
      "metadata": {
        "id": "m1dI75z0zGn6",
        "colab": {
          "base_uri": "https://localhost:8080/",
          "height": 202
        },
        "outputId": "1718253d-7aae-4aba-cdb3-2fc9829128b4"
      },
      "source": [
        "# Check the file info\n",
        "print(ratings.info())"
      ],
      "execution_count": null,
      "outputs": [
        {
          "output_type": "stream",
          "text": [
            "<class 'pandas.core.frame.DataFrame'>\n",
            "RangeIndex: 1000209 entries, 0 to 1000208\n",
            "Data columns (total 3 columns):\n",
            " #   Column    Non-Null Count    Dtype\n",
            "---  ------    --------------    -----\n",
            " 0   user_id   1000209 non-null  int64\n",
            " 1   movie_id  1000209 non-null  int64\n",
            " 2   rating    1000209 non-null  int64\n",
            "dtypes: int64(3)\n",
            "memory usage: 22.9 MB\n",
            "None\n"
          ],
          "name": "stdout"
        }
      ]
    },
    {
      "cell_type": "markdown",
      "metadata": {
        "id": "QHEZlaMBzGn-"
      },
      "source": [
        "This confirms that there are 1M ratings for different user and movie combinations.\n",
        "\n",
        "### Users Dataset"
      ]
    },
    {
      "cell_type": "code",
      "metadata": {
        "id": "iOy7FqUczGn-",
        "colab": {
          "base_uri": "https://localhost:8080/",
          "height": 118
        },
        "outputId": "8c66b1c8-3217-4c94-e801-f975b1791c2c"
      },
      "source": [
        "# Check the top 5 rows\n",
        "print(users.head())"
      ],
      "execution_count": null,
      "outputs": [
        {
          "output_type": "stream",
          "text": [
            "   user_id gender zipcode  age_desc              occ_desc\n",
            "0        1      F   48067  Under 18          K-12 student\n",
            "1        2      M   70072       56+         self-employed\n",
            "2        3      M   55117     25-34             scientist\n",
            "3        4      M   02460     45-49  executive/managerial\n",
            "4        5      M   55455     25-34                writer\n"
          ],
          "name": "stdout"
        }
      ]
    },
    {
      "cell_type": "code",
      "metadata": {
        "id": "E-r9GgXmpjkR"
      },
      "source": [
        "# how will you buid a recommendation system based n user data?\n",
        "# is this a supervised or unsupervised problem? \n",
        "# Hint - you can use any one also that you have studied so far! \n",
        "# Find State or city from the zipcode ? --> Feature Engineering will come?\n",
        "\n",
        "# We are going to recommend 5 movies by 5 different models \n",
        "\n",
        "# Unspervised Domain + Guessing (Informed)\n",
        "\n",
        "# Model 1 ---> Driven by clusters -- KMeans -KNN--> Assignment!\n",
        "# Modle 2 ----> Random  (Any movie)\n",
        "# Model 3 ---> Generes   --- Cosine Similarity \n",
        "# Model 4 ---> Based on ZIP Code \n",
        "# Model 5 --->  Based on Rating /Age/Gender / AgeofMovie "
      ],
      "execution_count": null,
      "outputs": []
    },
    {
      "cell_type": "code",
      "metadata": {
        "id": "KmSndzmDzGoD",
        "colab": {
          "base_uri": "https://localhost:8080/",
          "height": 235
        },
        "outputId": "c16e5ebb-86ae-49d5-b2ce-0969e99ba067"
      },
      "source": [
        "# Check the file info\n",
        "print(users.info())"
      ],
      "execution_count": null,
      "outputs": [
        {
          "output_type": "stream",
          "text": [
            "<class 'pandas.core.frame.DataFrame'>\n",
            "RangeIndex: 6040 entries, 0 to 6039\n",
            "Data columns (total 5 columns):\n",
            " #   Column    Non-Null Count  Dtype \n",
            "---  ------    --------------  ----- \n",
            " 0   user_id   6040 non-null   int64 \n",
            " 1   gender    6040 non-null   object\n",
            " 2   zipcode   6040 non-null   object\n",
            " 3   age_desc  6040 non-null   object\n",
            " 4   occ_desc  6040 non-null   object\n",
            "dtypes: int64(1), object(4)\n",
            "memory usage: 236.1+ KB\n",
            "None\n"
          ],
          "name": "stdout"
        }
      ]
    },
    {
      "cell_type": "markdown",
      "metadata": {
        "id": "lpL6nzwwzGoG"
      },
      "source": [
        "This confirms that there are 6040 users and we have 5 features for each (unique user ID, gender, age, occupation and the zip code they are living in).\n",
        "\n",
        "### Movies Dataset"
      ]
    },
    {
      "cell_type": "code",
      "metadata": {
        "id": "OKbJxVESzGoH",
        "colab": {
          "base_uri": "https://localhost:8080/",
          "height": 118
        },
        "outputId": "67a9a8c0-fc0c-40bc-f671-04d604005030"
      },
      "source": [
        "# Check the top 5 rows\n",
        "print(movies.head())"
      ],
      "execution_count": null,
      "outputs": [
        {
          "output_type": "stream",
          "text": [
            "   movie_id                               title                        genres\n",
            "0         1                    Toy Story (1995)   Animation|Children's|Comedy\n",
            "1         2                      Jumanji (1995)  Adventure|Children's|Fantasy\n",
            "2         3             Grumpier Old Men (1995)                Comedy|Romance\n",
            "3         4            Waiting to Exhale (1995)                  Comedy|Drama\n",
            "4         5  Father of the Bride Part II (1995)                        Comedy\n"
          ],
          "name": "stdout"
        }
      ]
    },
    {
      "cell_type": "code",
      "metadata": {
        "id": "-dn0DTq4zGoK",
        "colab": {
          "base_uri": "https://localhost:8080/",
          "height": 202
        },
        "outputId": "3a09c372-d2c4-4dd7-c6de-aaf3f9a6f36d"
      },
      "source": [
        "# Check the file info\n",
        "print(movies.info())"
      ],
      "execution_count": null,
      "outputs": [
        {
          "output_type": "stream",
          "text": [
            "<class 'pandas.core.frame.DataFrame'>\n",
            "RangeIndex: 3883 entries, 0 to 3882\n",
            "Data columns (total 3 columns):\n",
            " #   Column    Non-Null Count  Dtype \n",
            "---  ------    --------------  ----- \n",
            " 0   movie_id  3883 non-null   int64 \n",
            " 1   title     3883 non-null   object\n",
            " 2   genres    3883 non-null   object\n",
            "dtypes: int64(1), object(2)\n",
            "memory usage: 91.1+ KB\n",
            "None\n"
          ],
          "name": "stdout"
        }
      ]
    },
    {
      "cell_type": "markdown",
      "metadata": {
        "id": "ibERsMYjzGoN"
      },
      "source": [
        "This dataset contains attributes of the 3883 movies. There are 3 columns including the movie ID, their titles, and their genres. Genres are pipe-separated and are selected from 18 genres (Action, Adventure, Animation, Children's, Comedy, Crime, Documentary, Drama, Fantasy, Film-Noir, Horror, Musical, Mystery, Romance, Sci-Fi, Thriller, War, Western)."
      ]
    },
    {
      "cell_type": "markdown",
      "metadata": {
        "id": "YUXUVeQPzGoO"
      },
      "source": [
        "<a id=section5></a>\n",
        "# 5. Data Exploration\n",
        "\n",
        "### Ratings"
      ]
    },
    {
      "cell_type": "code",
      "metadata": {
        "id": "eIk9BdplzGoP",
        "colab": {
          "base_uri": "https://localhost:8080/"
        },
        "outputId": "9ca8c39c-c628-46a4-ae99-01d408a26e73"
      },
      "source": [
        "# Get summary statistics of rating\n",
        "ratings['rating'].describe()"
      ],
      "execution_count": null,
      "outputs": [
        {
          "output_type": "execute_result",
          "data": {
            "text/plain": [
              "count    1.000209e+06\n",
              "mean     3.581564e+00\n",
              "std      1.117102e+00\n",
              "min      1.000000e+00\n",
              "25%      3.000000e+00\n",
              "50%      4.000000e+00\n",
              "75%      4.000000e+00\n",
              "max      5.000000e+00\n",
              "Name: rating, dtype: float64"
            ]
          },
          "metadata": {
            "tags": []
          },
          "execution_count": 3
        }
      ]
    },
    {
      "cell_type": "code",
      "metadata": {
        "id": "KQsze5t1zGoS",
        "colab": {
          "base_uri": "https://localhost:8080/",
          "height": 370
        },
        "outputId": "afe160e9-0668-4ac3-90c2-676ad5a6e944"
      },
      "source": [
        "import seaborn as sns\n",
        "sns.set_style('whitegrid')\n",
        "sns.set(font_scale=1.5)\n",
        "%matplotlib inline\n",
        "\n",
        "# Display distribution of rating\n",
        "sns.distplot(ratings['rating'].fillna(ratings['rating'].median()))"
      ],
      "execution_count": null,
      "outputs": [
        {
          "output_type": "stream",
          "text": [
            "/usr/local/lib/python3.6/dist-packages/seaborn/distributions.py:2551: FutureWarning: `distplot` is a deprecated function and will be removed in a future version. Please adapt your code to use either `displot` (a figure-level function with similar flexibility) or `histplot` (an axes-level function for histograms).\n",
            "  warnings.warn(msg, FutureWarning)\n"
          ],
          "name": "stderr"
        },
        {
          "output_type": "execute_result",
          "data": {
            "text/plain": [
              "<matplotlib.axes._subplots.AxesSubplot at 0x7ff516d046d8>"
            ]
          },
          "metadata": {
            "tags": []
          },
          "execution_count": 4
        },
        {
          "output_type": "display_data",
          "data": {
            "image/png": "[encoded data removed]",
            "text/plain": [
              "<Figure size 432x288 with 1 Axes>"
            ]
          },
          "metadata": {
            "tags": [],
            "needs_background": "light"
          }
        }
      ]
    },
    {
      "cell_type": "markdown",
      "metadata": {
        "id": "nXpuW6cizGoV"
      },
      "source": [
        "- It appears that users are quite generous in their ratings. \n",
        "- The mean rating is 3.58 on a scale of 5. Half the movies have a rating of 4 and 5.\n",
        "- Each user rated at least 20 movies, so I doubt the distribution could be caused just by chance variance in the quality of movies.\n",
        "\n",
        "Let's also take a look at a subset of 20 movies with the highest rating."
      ]
    },
    {
      "cell_type": "markdown",
      "metadata": {
        "id": "wifspEz6zGoW"
      },
      "source": [
        "#### Join all 3 files into one dataframe"
      ]
    },
    {
      "cell_type": "code",
      "metadata": {
        "id": "CZizbbv0zGoW"
      },
      "source": [
        "dataset = pd.merge(pd.merge(movies, ratings),users)\n",
        "# doing the merge is optional, we could do that by movie dataset. "
      ],
      "execution_count": null,
      "outputs": []
    },
    {
      "cell_type": "code",
      "metadata": {
        "colab": {
          "base_uri": "https://localhost:8080/",
          "height": 202
        },
        "id": "iJ_8OxKBs49y",
        "outputId": "0ef4ed6b-fe2a-4730-ca61-56e52c8e2e81"
      },
      "source": [
        "dataset.head()"
      ],
      "execution_count": null,
      "outputs": [
        {
          "output_type": "execute_result",
          "data": {
            "text/html": [
              "<div>\n",
              "<style scoped>\n",
              "    .dataframe tbody tr th:only-of-type {\n",
              "        vertical-align: middle;\n",
              "    }\n",
              "\n",
              "    .dataframe tbody tr th {\n",
              "        vertical-align: top;\n",
              "    }\n",
              "\n",
              "    .dataframe thead th {\n",
              "        text-align: right;\n",
              "    }\n",
              "</style>\n",
              "<table border=\"1\" class=\"dataframe\">\n",
              "  <thead>\n",
              "    <tr style=\"text-align: right;\">\n",
              "      <th></th>\n",
              "      <th>movie_id</th>\n",
              "      <th>title</th>\n",
              "      <th>genres</th>\n",
              "      <th>user_id</th>\n",
              "      <th>rating</th>\n",
              "      <th>gender</th>\n",
              "      <th>zipcode</th>\n",
              "      <th>age_desc</th>\n",
              "      <th>occ_desc</th>\n",
              "    </tr>\n",
              "  </thead>\n",
              "  <tbody>\n",
              "    <tr>\n",
              "      <th>0</th>\n",
              "      <td>1</td>\n",
              "      <td>Toy Story (1995)</td>\n",
              "      <td>Animation|Children's|Comedy</td>\n",
              "      <td>1</td>\n",
              "      <td>5</td>\n",
              "      <td>F</td>\n",
              "      <td>48067</td>\n",
              "      <td>Under 18</td>\n",
              "      <td>K-12 student</td>\n",
              "    </tr>\n",
              "    <tr>\n",
              "      <th>1</th>\n",
              "      <td>48</td>\n",
              "      <td>Pocahontas (1995)</td>\n",
              "      <td>Animation|Children's|Musical|Romance</td>\n",
              "      <td>1</td>\n",
              "      <td>5</td>\n",
              "      <td>F</td>\n",
              "      <td>48067</td>\n",
              "      <td>Under 18</td>\n",
              "      <td>K-12 student</td>\n",
              "    </tr>\n",
              "    <tr>\n",
              "      <th>2</th>\n",
              "      <td>150</td>\n",
              "      <td>Apollo 13 (1995)</td>\n",
              "      <td>Drama</td>\n",
              "      <td>1</td>\n",
              "      <td>5</td>\n",
              "      <td>F</td>\n",
              "      <td>48067</td>\n",
              "      <td>Under 18</td>\n",
              "      <td>K-12 student</td>\n",
              "    </tr>\n",
              "    <tr>\n",
              "      <th>3</th>\n",
              "      <td>260</td>\n",
              "      <td>Star Wars: Episode IV - A New Hope (1977)</td>\n",
              "      <td>Action|Adventure|Fantasy|Sci-Fi</td>\n",
              "      <td>1</td>\n",
              "      <td>4</td>\n",
              "      <td>F</td>\n",
              "      <td>48067</td>\n",
              "      <td>Under 18</td>\n",
              "      <td>K-12 student</td>\n",
              "    </tr>\n",
              "    <tr>\n",
              "      <th>4</th>\n",
              "      <td>527</td>\n",
              "      <td>Schindler's List (1993)</td>\n",
              "      <td>Drama|War</td>\n",
              "      <td>1</td>\n",
              "      <td>5</td>\n",
              "      <td>F</td>\n",
              "      <td>48067</td>\n",
              "      <td>Under 18</td>\n",
              "      <td>K-12 student</td>\n",
              "    </tr>\n",
              "  </tbody>\n",
              "</table>\n",
              "</div>"
            ],
            "text/plain": [
              "   movie_id                                      title  ...  age_desc      occ_desc\n",
              "0         1                           Toy Story (1995)  ...  Under 18  K-12 student\n",
              "1        48                          Pocahontas (1995)  ...  Under 18  K-12 student\n",
              "2       150                           Apollo 13 (1995)  ...  Under 18  K-12 student\n",
              "3       260  Star Wars: Episode IV - A New Hope (1977)  ...  Under 18  K-12 student\n",
              "4       527                    Schindler's List (1993)  ...  Under 18  K-12 student\n",
              "\n",
              "[5 rows x 9 columns]"
            ]
          },
          "metadata": {
            "tags": []
          },
          "execution_count": 6
        }
      ]
    },
    {
      "cell_type": "markdown",
      "metadata": {
        "id": "WXoWnte1zGoZ"
      },
      "source": [
        "#### Display 20 movies with highest ratings"
      ]
    },
    {
      "cell_type": "code",
      "metadata": {
        "id": "uimNZ5CjzGoa",
        "colab": {
          "base_uri": "https://localhost:8080/",
          "height": 662
        },
        "outputId": "4ccc90f9-b914-4f6a-9f97-48a4a45d1d40"
      },
      "source": [
        "dataset[['title','genres','rating']].sort_values('rating', ascending=False).head(20)"
      ],
      "execution_count": null,
      "outputs": [
        {
          "output_type": "execute_result",
          "data": {
            "text/html": [
              "<div>\n",
              "<style scoped>\n",
              "    .dataframe tbody tr th:only-of-type {\n",
              "        vertical-align: middle;\n",
              "    }\n",
              "\n",
              "    .dataframe tbody tr th {\n",
              "        vertical-align: top;\n",
              "    }\n",
              "\n",
              "    .dataframe thead th {\n",
              "        text-align: right;\n",
              "    }\n",
              "</style>\n",
              "<table border=\"1\" class=\"dataframe\">\n",
              "  <thead>\n",
              "    <tr style=\"text-align: right;\">\n",
              "      <th></th>\n",
              "      <th>title</th>\n",
              "      <th>genres</th>\n",
              "      <th>rating</th>\n",
              "    </tr>\n",
              "  </thead>\n",
              "  <tbody>\n",
              "    <tr>\n",
              "      <th>0</th>\n",
              "      <td>Toy Story (1995)</td>\n",
              "      <td>Animation|Children's|Comedy</td>\n",
              "      <td>5</td>\n",
              "    </tr>\n",
              "    <tr>\n",
              "      <th>489283</th>\n",
              "      <td>American Beauty (1999)</td>\n",
              "      <td>Comedy|Drama</td>\n",
              "      <td>5</td>\n",
              "    </tr>\n",
              "    <tr>\n",
              "      <th>489259</th>\n",
              "      <td>Election (1999)</td>\n",
              "      <td>Comedy</td>\n",
              "      <td>5</td>\n",
              "    </tr>\n",
              "    <tr>\n",
              "      <th>489257</th>\n",
              "      <td>Matrix, The (1999)</td>\n",
              "      <td>Action|Sci-Fi|Thriller</td>\n",
              "      <td>5</td>\n",
              "    </tr>\n",
              "    <tr>\n",
              "      <th>489256</th>\n",
              "      <td>Dead Ringers (1988)</td>\n",
              "      <td>Drama|Thriller</td>\n",
              "      <td>5</td>\n",
              "    </tr>\n",
              "    <tr>\n",
              "      <th>489237</th>\n",
              "      <td>Rushmore (1998)</td>\n",
              "      <td>Comedy</td>\n",
              "      <td>5</td>\n",
              "    </tr>\n",
              "    <tr>\n",
              "      <th>489236</th>\n",
              "      <td>Simple Plan, A (1998)</td>\n",
              "      <td>Crime|Thriller</td>\n",
              "      <td>5</td>\n",
              "    </tr>\n",
              "    <tr>\n",
              "      <th>489226</th>\n",
              "      <td>Hands on a Hard Body (1996)</td>\n",
              "      <td>Documentary</td>\n",
              "      <td>5</td>\n",
              "    </tr>\n",
              "    <tr>\n",
              "      <th>489224</th>\n",
              "      <td>Pleasantville (1998)</td>\n",
              "      <td>Comedy</td>\n",
              "      <td>5</td>\n",
              "    </tr>\n",
              "    <tr>\n",
              "      <th>489212</th>\n",
              "      <td>Say Anything... (1989)</td>\n",
              "      <td>Comedy|Drama|Romance</td>\n",
              "      <td>5</td>\n",
              "    </tr>\n",
              "    <tr>\n",
              "      <th>489207</th>\n",
              "      <td>Beetlejuice (1988)</td>\n",
              "      <td>Comedy|Fantasy</td>\n",
              "      <td>5</td>\n",
              "    </tr>\n",
              "    <tr>\n",
              "      <th>489190</th>\n",
              "      <td>Roger &amp; Me (1989)</td>\n",
              "      <td>Comedy|Documentary</td>\n",
              "      <td>5</td>\n",
              "    </tr>\n",
              "    <tr>\n",
              "      <th>489172</th>\n",
              "      <td>Buffalo 66 (1998)</td>\n",
              "      <td>Action|Comedy|Drama</td>\n",
              "      <td>5</td>\n",
              "    </tr>\n",
              "    <tr>\n",
              "      <th>489171</th>\n",
              "      <td>Out of Sight (1998)</td>\n",
              "      <td>Action|Crime|Romance</td>\n",
              "      <td>5</td>\n",
              "    </tr>\n",
              "    <tr>\n",
              "      <th>489170</th>\n",
              "      <td>I Went Down (1997)</td>\n",
              "      <td>Action|Comedy|Crime</td>\n",
              "      <td>5</td>\n",
              "    </tr>\n",
              "    <tr>\n",
              "      <th>489168</th>\n",
              "      <td>Opposite of Sex, The (1998)</td>\n",
              "      <td>Comedy|Drama</td>\n",
              "      <td>5</td>\n",
              "    </tr>\n",
              "    <tr>\n",
              "      <th>489157</th>\n",
              "      <td>Good Will Hunting (1997)</td>\n",
              "      <td>Drama</td>\n",
              "      <td>5</td>\n",
              "    </tr>\n",
              "    <tr>\n",
              "      <th>489152</th>\n",
              "      <td>Fast, Cheap &amp; Out of Control (1997)</td>\n",
              "      <td>Documentary</td>\n",
              "      <td>5</td>\n",
              "    </tr>\n",
              "    <tr>\n",
              "      <th>489149</th>\n",
              "      <td>L.A. Confidential (1997)</td>\n",
              "      <td>Crime|Film-Noir|Mystery|Thriller</td>\n",
              "      <td>5</td>\n",
              "    </tr>\n",
              "    <tr>\n",
              "      <th>489145</th>\n",
              "      <td>Contact (1997)</td>\n",
              "      <td>Drama|Sci-Fi</td>\n",
              "      <td>5</td>\n",
              "    </tr>\n",
              "  </tbody>\n",
              "</table>\n",
              "</div>"
            ],
            "text/plain": [
              "                                      title  ... rating\n",
              "0                          Toy Story (1995)  ...      5\n",
              "489283               American Beauty (1999)  ...      5\n",
              "489259                      Election (1999)  ...      5\n",
              "489257                   Matrix, The (1999)  ...      5\n",
              "489256                  Dead Ringers (1988)  ...      5\n",
              "489237                      Rushmore (1998)  ...      5\n",
              "489236                Simple Plan, A (1998)  ...      5\n",
              "489226          Hands on a Hard Body (1996)  ...      5\n",
              "489224                 Pleasantville (1998)  ...      5\n",
              "489212               Say Anything... (1989)  ...      5\n",
              "489207                   Beetlejuice (1988)  ...      5\n",
              "489190                    Roger & Me (1989)  ...      5\n",
              "489172                    Buffalo 66 (1998)  ...      5\n",
              "489171                  Out of Sight (1998)  ...      5\n",
              "489170                   I Went Down (1997)  ...      5\n",
              "489168          Opposite of Sex, The (1998)  ...      5\n",
              "489157             Good Will Hunting (1997)  ...      5\n",
              "489152  Fast, Cheap & Out of Control (1997)  ...      5\n",
              "489149             L.A. Confidential (1997)  ...      5\n",
              "489145                       Contact (1997)  ...      5\n",
              "\n",
              "[20 rows x 3 columns]"
            ]
          },
          "metadata": {
            "tags": []
          },
          "execution_count": 7
        }
      ]
    },
    {
      "cell_type": "markdown",
      "metadata": {
        "id": "Voz_DbOnzGoc"
      },
      "source": [
        "### Genres\n",
        "The genres variable will surely be important while building the recommendation engines since it describes the content of the film (i.e. Animation, Horror, Sci-Fi). A basic assumption is that films in the same genre should have similar contents. We'll attempt to see exactly which genres are the most popular."
      ]
    },
    {
      "cell_type": "code",
      "metadata": {
        "id": "KM47BfoTtYPV"
      },
      "source": [
        "# To count the number of generes for ach user and the moves that have watched \n",
        "# frequency of generes \n",
        "\n",
        "# map and count \n",
        "# \n",
        "\n"
      ],
      "execution_count": null,
      "outputs": []
    },
    {
      "cell_type": "code",
      "metadata": {
        "colab": {
          "base_uri": "https://localhost:8080/"
        },
        "id": "I-Uzddq3vWzu",
        "outputId": "242de9d4-d996-47cd-8549-805d33de1dbc"
      },
      "source": [
        "%%time\n",
        "final_genere = []\n",
        "# row level function that does run for all rows\n",
        "for each in movies['genres'].str.split('|'): \n",
        "  for each2 in each:\n",
        "    final_genere.append(each2)"
      ],
      "execution_count": null,
      "outputs": [
        {
          "output_type": "stream",
          "text": [
            "CPU times: user 4.56 ms, sys: 0 ns, total: 4.56 ms\n",
            "Wall time: 4.51 ms\n"
          ],
          "name": "stdout"
        }
      ]
    },
    {
      "cell_type": "code",
      "metadata": {
        "colab": {
          "base_uri": "https://localhost:8080/"
        },
        "id": "UUAAKIjpwYTB",
        "outputId": "6a882386-7628-4a6b-ab17-6852ed7f4125"
      },
      "source": [
        "%%time  \n",
        "# Stick to this for counting if you are new to Python \n",
        "from collections import Counter\n",
        "final_genere = []\n",
        "for each in movies['genres'].str.split('|'):\n",
        "  final_genere.extend(each)\n",
        "\n",
        "count = Counter(final_genere) "
      ],
      "execution_count": null,
      "outputs": [
        {
          "output_type": "stream",
          "text": [
            "CPU times: user 6.8 ms, sys: 0 ns, total: 6.8 ms\n",
            "Wall time: 6.95 ms\n"
          ],
          "name": "stdout"
        }
      ]
    },
    {
      "cell_type": "code",
      "metadata": {
        "colab": {
          "base_uri": "https://localhost:8080/",
          "height": 293
        },
        "id": "Dc9eaNk2zhuZ",
        "outputId": "e488941f-650b-40f1-e865-b59c290d00c7"
      },
      "source": [
        "pd.DataFrame(count,index=[0]).T.plot()\n",
        "# Add a countplot to the dataframe "
      ],
      "execution_count": null,
      "outputs": [
        {
          "output_type": "execute_result",
          "data": {
            "text/plain": [
              "<matplotlib.axes._subplots.AxesSubplot at 0x7ff50a48f470>"
            ]
          },
          "metadata": {
            "tags": []
          },
          "execution_count": 42
        },
        {
          "output_type": "display_data",
          "data": {
            "image/png": "[encoded data removed]",
            "text/plain": [
              "<Figure size 432x288 with 1 Axes>"
            ]
          },
          "metadata": {
            "tags": [],
            "needs_background": "light"
          }
        }
      ]
    },
    {
      "cell_type": "code",
      "metadata": {
        "colab": {
          "base_uri": "https://localhost:8080/"
        },
        "id": "VqH1pMcKyULU",
        "outputId": "2cebc216-5117-4aa1-af52-62b0350d83c8"
      },
      "source": [
        "for each_element in np.unique(final_genere):\n",
        "  print(each_element, \" - \", final_genere.count(each_element))"
      ],
      "execution_count": null,
      "outputs": [
        {
          "output_type": "stream",
          "text": [
            "Action  -  503\n",
            "Adventure  -  283\n",
            "Animation  -  105\n",
            "Children's  -  251\n",
            "Comedy  -  1200\n",
            "Crime  -  211\n",
            "Documentary  -  127\n",
            "Drama  -  1603\n",
            "Fantasy  -  68\n",
            "Film-Noir  -  44\n",
            "Horror  -  343\n",
            "Musical  -  114\n",
            "Mystery  -  106\n",
            "Romance  -  471\n",
            "Sci-Fi  -  276\n",
            "Thriller  -  492\n",
            "War  -  143\n",
            "Western  -  68\n"
          ],
          "name": "stdout"
        }
      ]
    },
    {
      "cell_type": "code",
      "metadata": {
        "colab": {
          "base_uri": "https://localhost:8080/"
        },
        "id": "oI0rlKSPx3xR",
        "outputId": "2a6db759-0634-451c-8ce9-4aeb7ea2f577"
      },
      "source": [
        "count"
      ],
      "execution_count": null,
      "outputs": [
        {
          "output_type": "execute_result",
          "data": {
            "text/plain": [
              "Counter({'Action': 503,\n",
              "         'Adventure': 283,\n",
              "         'Animation': 105,\n",
              "         \"Children's\": 251,\n",
              "         'Comedy': 1200,\n",
              "         'Crime': 211,\n",
              "         'Documentary': 127,\n",
              "         'Drama': 1603,\n",
              "         'Fantasy': 68,\n",
              "         'Film-Noir': 44,\n",
              "         'Horror': 343,\n",
              "         'Musical': 114,\n",
              "         'Mystery': 106,\n",
              "         'Romance': 471,\n",
              "         'Sci-Fi': 276,\n",
              "         'Thriller': 492,\n",
              "         'War': 143,\n",
              "         'Western': 68})"
            ]
          },
          "metadata": {
            "tags": []
          },
          "execution_count": 26
        }
      ]
    },
    {
      "cell_type": "code",
      "metadata": {
        "colab": {
          "base_uri": "https://localhost:8080/"
        },
        "id": "ZQ3_GK1iwLi4",
        "outputId": "30562991-818b-4232-b38b-f2ca45219daa"
      },
      "source": [
        "len(final_genere)"
      ],
      "execution_count": null,
      "outputs": [
        {
          "output_type": "execute_result",
          "data": {
            "text/plain": [
              "6408"
            ]
          },
          "metadata": {
            "tags": []
          },
          "execution_count": 22
        }
      ]
    },
    {
      "cell_type": "code",
      "metadata": {
        "colab": {
          "base_uri": "https://localhost:8080/"
        },
        "id": "u4evZigVxXRp",
        "outputId": "c13b7c04-a1ef-4bb5-e1e2-c1a91cf09d13"
      },
      "source": [
        "# Counter Library \n",
        "from collections import Counter\n",
        "Counter(final_genere) "
      ],
      "execution_count": null,
      "outputs": [
        {
          "output_type": "execute_result",
          "data": {
            "text/plain": [
              "Counter({'Action': 503,\n",
              "         'Adventure': 283,\n",
              "         'Animation': 105,\n",
              "         \"Children's\": 251,\n",
              "         'Comedy': 1200,\n",
              "         'Crime': 211,\n",
              "         'Documentary': 127,\n",
              "         'Drama': 1603,\n",
              "         'Fantasy': 68,\n",
              "         'Film-Noir': 44,\n",
              "         'Horror': 343,\n",
              "         'Musical': 114,\n",
              "         'Mystery': 106,\n",
              "         'Romance': 471,\n",
              "         'Sci-Fi': 276,\n",
              "         'Thriller': 492,\n",
              "         'War': 143,\n",
              "         'Western': 68})"
            ]
          },
          "metadata": {
            "tags": []
          },
          "execution_count": 23
        }
      ]
    },
    {
      "cell_type": "code",
      "metadata": {
        "id": "R-Mv2tNjzGod"
      },
      "source": [
        "# Make a census of the genre keywords\n",
        "\n",
        "genre_labels = set()\n",
        "for s in movies['genres'].str.split('|').values:\n",
        "    genre_labels = genre_labels.union(set(s))"
      ],
      "execution_count": null,
      "outputs": []
    },
    {
      "cell_type": "code",
      "metadata": {
        "id": "_NGeVhosTJ2V"
      },
      "source": [
        "l = []\n",
        "for each in movies['genres'].str.split('|').values:\n",
        "  for each2 in each:\n",
        "    l.append(each2)"
      ],
      "execution_count": null,
      "outputs": []
    },
    {
      "cell_type": "code",
      "metadata": {
        "id": "JynOaqHSTZLn"
      },
      "source": [
        "from collections import Counter\n",
        "Counter(l) "
      ],
      "execution_count": null,
      "outputs": []
    },
    {
      "cell_type": "code",
      "metadata": {
        "id": "tD4DNjF6wvIe"
      },
      "source": [
        "# Function that counts the number of times each of the genre keywords appear\n",
        "\n",
        "# Skip This logic if you are new to Pythom \n",
        "\n",
        "def count_word(dataset, ref_col, census):\n",
        "    keyword_count = dict()\n",
        "    for s in census: \n",
        "        keyword_count[s] = 0\n",
        "    for census_keywords in dataset[ref_col].str.split('|'):        \n",
        "        if type(census_keywords) == float and pd.isnull(census_keywords): \n",
        "            continue        \n",
        "        for s in [s for s in census_keywords if s in census]: \n",
        "            if pd.notnull(s): \n",
        "                keyword_count[s] += 1\n",
        "    \n",
        "# convert the dictionary in a list to sort the keywords by frequency\n",
        "\n",
        "    keyword_occurences = []\n",
        "    for k,v in keyword_count.items():\n",
        "        keyword_occurences.append([k,v])\n",
        "    keyword_occurences.sort(key = lambda x:x[1], reverse = True)\n",
        "    return keyword_occurences, keyword_count"
      ],
      "execution_count": null,
      "outputs": []
    },
    {
      "cell_type": "code",
      "metadata": {
        "id": "A4exfxmHwvIh",
        "colab": {
          "base_uri": "https://localhost:8080/",
          "height": 101
        },
        "outputId": "cd3213f3-6336-4282-f555-aaec9f081330"
      },
      "source": [
        "# Calling this function gives access to a list of genre keywords which are sorted by decreasing frequency\n",
        "\n",
        "keyword_occurences, dum = count_word(movies, 'genres', genre_labels)\n",
        "keyword_occurences[:5]"
      ],
      "execution_count": null,
      "outputs": [
        {
          "output_type": "execute_result",
          "data": {
            "text/plain": [
              "[['Drama', 1603],\n",
              " ['Comedy', 1200],\n",
              " ['Action', 503],\n",
              " ['Thriller', 492],\n",
              " ['Romance', 471]]"
            ]
          },
          "metadata": {
            "tags": []
          },
          "execution_count": 14
        }
      ]
    },
    {
      "cell_type": "markdown",
      "metadata": {
        "id": "_xr9MtzKzGog"
      },
      "source": [
        "The top 5 genres are, in that respect order: \n",
        "1. Drama, \n",
        "2. Comedy, \n",
        "3. Action, \n",
        "4. Thriller, and \n",
        "5. Romance."
      ]
    },
    {
      "cell_type": "markdown",
      "metadata": {
        "id": "ordzrZhfzGog"
      },
      "source": [
        "<a id=section6></a>\n",
        "# 6. Content based Recommendation Model\n",
        "\n",
        "### Implementation\n",
        "We will build a Content-Based Recommendation Engine that computes similarity between movies based on movie genres. It will suggest movies that are most similar to a particular movie based on its genre. \n",
        "- To do so, we will make use of the file **movies.csv**."
      ]
    },
    {
      "cell_type": "code",
      "metadata": {
        "colab": {
          "base_uri": "https://localhost:8080/",
          "height": 202
        },
        "id": "gILimzMJ0jHl",
        "outputId": "4bea8b71-9313-459d-b2f7-2f27670d1cc5"
      },
      "source": [
        "movies.head()"
      ],
      "execution_count": null,
      "outputs": [
        {
          "output_type": "execute_result",
          "data": {
            "text/html": [
              "<div>\n",
              "<style scoped>\n",
              "    .dataframe tbody tr th:only-of-type {\n",
              "        vertical-align: middle;\n",
              "    }\n",
              "\n",
              "    .dataframe tbody tr th {\n",
              "        vertical-align: top;\n",
              "    }\n",
              "\n",
              "    .dataframe thead th {\n",
              "        text-align: right;\n",
              "    }\n",
              "</style>\n",
              "<table border=\"1\" class=\"dataframe\">\n",
              "  <thead>\n",
              "    <tr style=\"text-align: right;\">\n",
              "      <th></th>\n",
              "      <th>movie_id</th>\n",
              "      <th>title</th>\n",
              "      <th>genres</th>\n",
              "    </tr>\n",
              "  </thead>\n",
              "  <tbody>\n",
              "    <tr>\n",
              "      <th>0</th>\n",
              "      <td>1</td>\n",
              "      <td>Toy Story (1995)</td>\n",
              "      <td>Animation|Children's|Comedy</td>\n",
              "    </tr>\n",
              "    <tr>\n",
              "      <th>1</th>\n",
              "      <td>2</td>\n",
              "      <td>Jumanji (1995)</td>\n",
              "      <td>Adventure|Children's|Fantasy</td>\n",
              "    </tr>\n",
              "    <tr>\n",
              "      <th>2</th>\n",
              "      <td>3</td>\n",
              "      <td>Grumpier Old Men (1995)</td>\n",
              "      <td>Comedy|Romance</td>\n",
              "    </tr>\n",
              "    <tr>\n",
              "      <th>3</th>\n",
              "      <td>4</td>\n",
              "      <td>Waiting to Exhale (1995)</td>\n",
              "      <td>Comedy|Drama</td>\n",
              "    </tr>\n",
              "    <tr>\n",
              "      <th>4</th>\n",
              "      <td>5</td>\n",
              "      <td>Father of the Bride Part II (1995)</td>\n",
              "      <td>Comedy</td>\n",
              "    </tr>\n",
              "  </tbody>\n",
              "</table>\n",
              "</div>"
            ],
            "text/plain": [
              "   movie_id                               title                        genres\n",
              "0         1                    Toy Story (1995)   Animation|Children's|Comedy\n",
              "1         2                      Jumanji (1995)  Adventure|Children's|Fantasy\n",
              "2         3             Grumpier Old Men (1995)                Comedy|Romance\n",
              "3         4            Waiting to Exhale (1995)                  Comedy|Drama\n",
              "4         5  Father of the Bride Part II (1995)                        Comedy"
            ]
          },
          "metadata": {
            "tags": []
          },
          "execution_count": 43
        }
      ]
    },
    {
      "cell_type": "code",
      "metadata": {
        "id": "DPIosoah0uRg"
      },
      "source": [
        "#TfidfVectorizer and CountVectorizer takes colum of text where each row is :\n",
        "\n",
        "# This is original \n",
        "\"I love India \"\n",
        "\"I love Data Science\"\n",
        "\n",
        "# What library Expects\n",
        "[\"I\", \"love\",\"India\"]\n",
        "[\"I\",\"love\",\"Data\",\"Science\"]\n",
        "\n"
      ],
      "execution_count": null,
      "outputs": []
    },
    {
      "cell_type": "code",
      "metadata": {
        "colab": {
          "base_uri": "https://localhost:8080/"
        },
        "id": "q24nGQoW1OrA",
        "outputId": "b0a5b8a1-5983-406b-c6ae-8173602ca3aa"
      },
      "source": [
        "movies['genres'].str.split('|')"
      ],
      "execution_count": null,
      "outputs": [
        {
          "output_type": "execute_result",
          "data": {
            "text/plain": [
              "0        [Animation, Children's, Comedy]\n",
              "1       [Adventure, Children's, Fantasy]\n",
              "2                      [Comedy, Romance]\n",
              "3                        [Comedy, Drama]\n",
              "4                               [Comedy]\n",
              "                      ...               \n",
              "3878                            [Comedy]\n",
              "3879                             [Drama]\n",
              "3880                             [Drama]\n",
              "3881                             [Drama]\n",
              "3882                   [Drama, Thriller]\n",
              "Name: genres, Length: 3883, dtype: object"
            ]
          },
          "metadata": {
            "tags": []
          },
          "execution_count": 44
        }
      ]
    },
    {
      "cell_type": "code",
      "metadata": {
        "id": "7b1IEZk4zGoi"
      },
      "source": [
        "# Break up the big genre string into a string array\n",
        "movies['genres2'] = movies['genres'].str.split('|')\n",
        "\n",
        "# Convert genres to string value\n",
        "movies['genres2'] = movies['genres2'].fillna(\"\").astype('str')"
      ],
      "execution_count": null,
      "outputs": []
    },
    {
      "cell_type": "code",
      "metadata": {
        "colab": {
          "base_uri": "https://localhost:8080/",
          "height": 202
        },
        "id": "SGSub7cR1lC5",
        "outputId": "1c7665dc-1ca5-42b7-d4ee-b37672afcdf5"
      },
      "source": [
        "movies.head()"
      ],
      "execution_count": null,
      "outputs": [
        {
          "output_type": "execute_result",
          "data": {
            "text/html": [
              "<div>\n",
              "<style scoped>\n",
              "    .dataframe tbody tr th:only-of-type {\n",
              "        vertical-align: middle;\n",
              "    }\n",
              "\n",
              "    .dataframe tbody tr th {\n",
              "        vertical-align: top;\n",
              "    }\n",
              "\n",
              "    .dataframe thead th {\n",
              "        text-align: right;\n",
              "    }\n",
              "</style>\n",
              "<table border=\"1\" class=\"dataframe\">\n",
              "  <thead>\n",
              "    <tr style=\"text-align: right;\">\n",
              "      <th></th>\n",
              "      <th>movie_id</th>\n",
              "      <th>title</th>\n",
              "      <th>genres</th>\n",
              "      <th>genres2</th>\n",
              "    </tr>\n",
              "  </thead>\n",
              "  <tbody>\n",
              "    <tr>\n",
              "      <th>0</th>\n",
              "      <td>1</td>\n",
              "      <td>Toy Story (1995)</td>\n",
              "      <td>Animation|Children's|Comedy</td>\n",
              "      <td>['Animation', \"Children's\", 'Comedy']</td>\n",
              "    </tr>\n",
              "    <tr>\n",
              "      <th>1</th>\n",
              "      <td>2</td>\n",
              "      <td>Jumanji (1995)</td>\n",
              "      <td>Adventure|Children's|Fantasy</td>\n",
              "      <td>['Adventure', \"Children's\", 'Fantasy']</td>\n",
              "    </tr>\n",
              "    <tr>\n",
              "      <th>2</th>\n",
              "      <td>3</td>\n",
              "      <td>Grumpier Old Men (1995)</td>\n",
              "      <td>Comedy|Romance</td>\n",
              "      <td>['Comedy', 'Romance']</td>\n",
              "    </tr>\n",
              "    <tr>\n",
              "      <th>3</th>\n",
              "      <td>4</td>\n",
              "      <td>Waiting to Exhale (1995)</td>\n",
              "      <td>Comedy|Drama</td>\n",
              "      <td>['Comedy', 'Drama']</td>\n",
              "    </tr>\n",
              "    <tr>\n",
              "      <th>4</th>\n",
              "      <td>5</td>\n",
              "      <td>Father of the Bride Part II (1995)</td>\n",
              "      <td>Comedy</td>\n",
              "      <td>['Comedy']</td>\n",
              "    </tr>\n",
              "  </tbody>\n",
              "</table>\n",
              "</div>"
            ],
            "text/plain": [
              "   movie_id  ...                                 genres2\n",
              "0         1  ...   ['Animation', \"Children's\", 'Comedy']\n",
              "1         2  ...  ['Adventure', \"Children's\", 'Fantasy']\n",
              "2         3  ...                   ['Comedy', 'Romance']\n",
              "3         4  ...                     ['Comedy', 'Drama']\n",
              "4         5  ...                              ['Comedy']\n",
              "\n",
              "[5 rows x 4 columns]"
            ]
          },
          "metadata": {
            "tags": []
          },
          "execution_count": 47
        }
      ]
    },
    {
      "cell_type": "markdown",
      "metadata": {
        "id": "-A1EZAuszGok"
      },
      "source": [
        "- We do not have a quantitative metric to judge our machine's performance so this will have to be done qualitatively. \n",
        "- In order to do so, we'll use **TfidfVectorizer** function from **scikit-learn**, which transforms text to feature vectors that can be used as input to estimator."
      ]
    },
    {
      "cell_type": "code",
      "metadata": {
        "id": "FY_ARKjz1uwx"
      },
      "source": [
        "#ngram \n",
        "ngram = 1\n",
        "ngram = 2\n",
        "\n",
        "# to retain some context in token \n",
        "# preserves the context of word \n",
        "\n",
        "\"I live in Gurgaon and its mostly polluted\"\n",
        "ngram = 1  # everything splits into single token(words)\n",
        "\"I\",\"Live\",\"in\",\"gurgaon\"\n",
        "ngram = 2\n",
        "\"i live\", \"in gurgain\", \"and its\",\"mostly polluted\"\n",
        "ngram = 3\n",
        "\"i live in\", \"gurgaon and its\" ....................\n",
        "\n",
        "\n",
        "\n",
        "DocumentTerm Matrix \n",
        "single token , 2Token(ngram=2)\n",
        "\"i\",\"live\"..........................\"i live\", \" \n",
        "\n",
        "  "
      ],
      "execution_count": null,
      "outputs": []
    },
    {
      "cell_type": "code",
      "metadata": {
        "id": "brxKF8C_zGok",
        "colab": {
          "base_uri": "https://localhost:8080/"
        },
        "outputId": "0c6faffa-10e8-48ce-833a-1fdf41ec6be3"
      },
      "source": [
        "from sklearn.feature_extraction.text import TfidfVectorizer\n",
        "\n",
        "tf = TfidfVectorizer(analyzer='word',ngram_range=(1, 2))\n",
        "# tf1 = TfidfVectorizer(analyzer='word',ngram_range=(3,4))\n",
        "\n",
        "tfidf_matrix = tf.fit_transform(movies['genres2'])\n",
        "tfidf_matrix.shape"
      ],
      "execution_count": null,
      "outputs": [
        {
          "output_type": "execute_result",
          "data": {
            "text/plain": [
              "(3883, 127)"
            ]
          },
          "metadata": {
            "tags": []
          },
          "execution_count": 32
        }
      ]
    },
    {
      "cell_type": "code",
      "metadata": {
        "id": "Rg59AngI6bva"
      },
      "source": [
        "# this is what your document term matrix or vectorization of your Text Column looks like. \n",
        "model_data = pd.DataFrame(tfidf_matrix.todense(),columns=tf.get_feature_names())"
      ],
      "execution_count": null,
      "outputs": []
    },
    {
      "cell_type": "code",
      "metadata": {
        "colab": {
          "base_uri": "https://localhost:8080/",
          "height": 269
        },
        "id": "zv1R3TTWsrow",
        "outputId": "8a056855-0d3c-4c15-b3a3-438187dabe1e"
      },
      "source": [
        "model_data.head()"
      ],
      "execution_count": null,
      "outputs": [
        {
          "output_type": "execute_result",
          "data": {
            "text/html": [
              "<div>\n",
              "<style scoped>\n",
              "    .dataframe tbody tr th:only-of-type {\n",
              "        vertical-align: middle;\n",
              "    }\n",
              "\n",
              "    .dataframe tbody tr th {\n",
              "        vertical-align: top;\n",
              "    }\n",
              "\n",
              "    .dataframe thead th {\n",
              "        text-align: right;\n",
              "    }\n",
              "</style>\n",
              "<table border=\"1\" class=\"dataframe\">\n",
              "  <thead>\n",
              "    <tr style=\"text-align: right;\">\n",
              "      <th></th>\n",
              "      <th>action</th>\n",
              "      <th>action adventure</th>\n",
              "      <th>action animation</th>\n",
              "      <th>action children</th>\n",
              "      <th>action comedy</th>\n",
              "      <th>action crime</th>\n",
              "      <th>action drama</th>\n",
              "      <th>action horror</th>\n",
              "      <th>action mystery</th>\n",
              "      <th>action romance</th>\n",
              "      <th>action sci</th>\n",
              "      <th>action thriller</th>\n",
              "      <th>action war</th>\n",
              "      <th>action western</th>\n",
              "      <th>adventure</th>\n",
              "      <th>adventure animation</th>\n",
              "      <th>adventure children</th>\n",
              "      <th>adventure comedy</th>\n",
              "      <th>adventure crime</th>\n",
              "      <th>adventure drama</th>\n",
              "      <th>adventure fantasy</th>\n",
              "      <th>adventure horror</th>\n",
              "      <th>adventure musical</th>\n",
              "      <th>adventure mystery</th>\n",
              "      <th>adventure romance</th>\n",
              "      <th>adventure sci</th>\n",
              "      <th>adventure thriller</th>\n",
              "      <th>adventure war</th>\n",
              "      <th>adventure western</th>\n",
              "      <th>animation</th>\n",
              "      <th>animation children</th>\n",
              "      <th>animation comedy</th>\n",
              "      <th>animation film</th>\n",
              "      <th>animation horror</th>\n",
              "      <th>animation musical</th>\n",
              "      <th>animation mystery</th>\n",
              "      <th>animation sci</th>\n",
              "      <th>children</th>\n",
              "      <th>children comedy</th>\n",
              "      <th>children drama</th>\n",
              "      <th>...</th>\n",
              "      <th>fantasy war</th>\n",
              "      <th>fi</th>\n",
              "      <th>fi thriller</th>\n",
              "      <th>fi war</th>\n",
              "      <th>fi western</th>\n",
              "      <th>film</th>\n",
              "      <th>film noir</th>\n",
              "      <th>horror</th>\n",
              "      <th>horror musical</th>\n",
              "      <th>horror mystery</th>\n",
              "      <th>horror romance</th>\n",
              "      <th>horror sci</th>\n",
              "      <th>horror thriller</th>\n",
              "      <th>musical</th>\n",
              "      <th>musical romance</th>\n",
              "      <th>musical sci</th>\n",
              "      <th>musical war</th>\n",
              "      <th>mystery</th>\n",
              "      <th>mystery romance</th>\n",
              "      <th>mystery sci</th>\n",
              "      <th>mystery thriller</th>\n",
              "      <th>noir</th>\n",
              "      <th>noir horror</th>\n",
              "      <th>noir mystery</th>\n",
              "      <th>noir romance</th>\n",
              "      <th>noir sci</th>\n",
              "      <th>noir thriller</th>\n",
              "      <th>romance</th>\n",
              "      <th>romance sci</th>\n",
              "      <th>romance thriller</th>\n",
              "      <th>romance war</th>\n",
              "      <th>romance western</th>\n",
              "      <th>sci</th>\n",
              "      <th>sci fi</th>\n",
              "      <th>thriller</th>\n",
              "      <th>thriller war</th>\n",
              "      <th>thriller western</th>\n",
              "      <th>war</th>\n",
              "      <th>war western</th>\n",
              "      <th>western</th>\n",
              "    </tr>\n",
              "  </thead>\n",
              "  <tbody>\n",
              "    <tr>\n",
              "      <th>0</th>\n",
              "      <td>0.0</td>\n",
              "      <td>0.0</td>\n",
              "      <td>0.0</td>\n",
              "      <td>0.0</td>\n",
              "      <td>0.0</td>\n",
              "      <td>0.0</td>\n",
              "      <td>0.0</td>\n",
              "      <td>0.0</td>\n",
              "      <td>0.0</td>\n",
              "      <td>0.0</td>\n",
              "      <td>0.0</td>\n",
              "      <td>0.0</td>\n",
              "      <td>0.0</td>\n",
              "      <td>0.0</td>\n",
              "      <td>0.000000</td>\n",
              "      <td>0.0</td>\n",
              "      <td>0.000000</td>\n",
              "      <td>0.0</td>\n",
              "      <td>0.0</td>\n",
              "      <td>0.0</td>\n",
              "      <td>0.0</td>\n",
              "      <td>0.0</td>\n",
              "      <td>0.0</td>\n",
              "      <td>0.0</td>\n",
              "      <td>0.0</td>\n",
              "      <td>0.0</td>\n",
              "      <td>0.0</td>\n",
              "      <td>0.0</td>\n",
              "      <td>0.0</td>\n",
              "      <td>0.497928</td>\n",
              "      <td>0.521821</td>\n",
              "      <td>0.0</td>\n",
              "      <td>0.0</td>\n",
              "      <td>0.0</td>\n",
              "      <td>0.0</td>\n",
              "      <td>0.0</td>\n",
              "      <td>0.0</td>\n",
              "      <td>0.404213</td>\n",
              "      <td>0.510929</td>\n",
              "      <td>0.0</td>\n",
              "      <td>...</td>\n",
              "      <td>0.0</td>\n",
              "      <td>0.0</td>\n",
              "      <td>0.0</td>\n",
              "      <td>0.0</td>\n",
              "      <td>0.0</td>\n",
              "      <td>0.0</td>\n",
              "      <td>0.0</td>\n",
              "      <td>0.0</td>\n",
              "      <td>0.0</td>\n",
              "      <td>0.0</td>\n",
              "      <td>0.0</td>\n",
              "      <td>0.0</td>\n",
              "      <td>0.0</td>\n",
              "      <td>0.0</td>\n",
              "      <td>0.0</td>\n",
              "      <td>0.0</td>\n",
              "      <td>0.0</td>\n",
              "      <td>0.0</td>\n",
              "      <td>0.0</td>\n",
              "      <td>0.0</td>\n",
              "      <td>0.0</td>\n",
              "      <td>0.0</td>\n",
              "      <td>0.0</td>\n",
              "      <td>0.0</td>\n",
              "      <td>0.0</td>\n",
              "      <td>0.0</td>\n",
              "      <td>0.0</td>\n",
              "      <td>0.000000</td>\n",
              "      <td>0.0</td>\n",
              "      <td>0.0</td>\n",
              "      <td>0.0</td>\n",
              "      <td>0.0</td>\n",
              "      <td>0.0</td>\n",
              "      <td>0.0</td>\n",
              "      <td>0.0</td>\n",
              "      <td>0.0</td>\n",
              "      <td>0.0</td>\n",
              "      <td>0.0</td>\n",
              "      <td>0.0</td>\n",
              "      <td>0.0</td>\n",
              "    </tr>\n",
              "    <tr>\n",
              "      <th>1</th>\n",
              "      <td>0.0</td>\n",
              "      <td>0.0</td>\n",
              "      <td>0.0</td>\n",
              "      <td>0.0</td>\n",
              "      <td>0.0</td>\n",
              "      <td>0.0</td>\n",
              "      <td>0.0</td>\n",
              "      <td>0.0</td>\n",
              "      <td>0.0</td>\n",
              "      <td>0.0</td>\n",
              "      <td>0.0</td>\n",
              "      <td>0.0</td>\n",
              "      <td>0.0</td>\n",
              "      <td>0.0</td>\n",
              "      <td>0.339904</td>\n",
              "      <td>0.0</td>\n",
              "      <td>0.467617</td>\n",
              "      <td>0.0</td>\n",
              "      <td>0.0</td>\n",
              "      <td>0.0</td>\n",
              "      <td>0.0</td>\n",
              "      <td>0.0</td>\n",
              "      <td>0.0</td>\n",
              "      <td>0.0</td>\n",
              "      <td>0.0</td>\n",
              "      <td>0.0</td>\n",
              "      <td>0.0</td>\n",
              "      <td>0.0</td>\n",
              "      <td>0.0</td>\n",
              "      <td>0.000000</td>\n",
              "      <td>0.000000</td>\n",
              "      <td>0.0</td>\n",
              "      <td>0.0</td>\n",
              "      <td>0.0</td>\n",
              "      <td>0.0</td>\n",
              "      <td>0.0</td>\n",
              "      <td>0.0</td>\n",
              "      <td>0.351142</td>\n",
              "      <td>0.000000</td>\n",
              "      <td>0.0</td>\n",
              "      <td>...</td>\n",
              "      <td>0.0</td>\n",
              "      <td>0.0</td>\n",
              "      <td>0.0</td>\n",
              "      <td>0.0</td>\n",
              "      <td>0.0</td>\n",
              "      <td>0.0</td>\n",
              "      <td>0.0</td>\n",
              "      <td>0.0</td>\n",
              "      <td>0.0</td>\n",
              "      <td>0.0</td>\n",
              "      <td>0.0</td>\n",
              "      <td>0.0</td>\n",
              "      <td>0.0</td>\n",
              "      <td>0.0</td>\n",
              "      <td>0.0</td>\n",
              "      <td>0.0</td>\n",
              "      <td>0.0</td>\n",
              "      <td>0.0</td>\n",
              "      <td>0.0</td>\n",
              "      <td>0.0</td>\n",
              "      <td>0.0</td>\n",
              "      <td>0.0</td>\n",
              "      <td>0.0</td>\n",
              "      <td>0.0</td>\n",
              "      <td>0.0</td>\n",
              "      <td>0.0</td>\n",
              "      <td>0.0</td>\n",
              "      <td>0.000000</td>\n",
              "      <td>0.0</td>\n",
              "      <td>0.0</td>\n",
              "      <td>0.0</td>\n",
              "      <td>0.0</td>\n",
              "      <td>0.0</td>\n",
              "      <td>0.0</td>\n",
              "      <td>0.0</td>\n",
              "      <td>0.0</td>\n",
              "      <td>0.0</td>\n",
              "      <td>0.0</td>\n",
              "      <td>0.0</td>\n",
              "      <td>0.0</td>\n",
              "    </tr>\n",
              "    <tr>\n",
              "      <th>2</th>\n",
              "      <td>0.0</td>\n",
              "      <td>0.0</td>\n",
              "      <td>0.0</td>\n",
              "      <td>0.0</td>\n",
              "      <td>0.0</td>\n",
              "      <td>0.0</td>\n",
              "      <td>0.0</td>\n",
              "      <td>0.0</td>\n",
              "      <td>0.0</td>\n",
              "      <td>0.0</td>\n",
              "      <td>0.0</td>\n",
              "      <td>0.0</td>\n",
              "      <td>0.0</td>\n",
              "      <td>0.0</td>\n",
              "      <td>0.000000</td>\n",
              "      <td>0.0</td>\n",
              "      <td>0.000000</td>\n",
              "      <td>0.0</td>\n",
              "      <td>0.0</td>\n",
              "      <td>0.0</td>\n",
              "      <td>0.0</td>\n",
              "      <td>0.0</td>\n",
              "      <td>0.0</td>\n",
              "      <td>0.0</td>\n",
              "      <td>0.0</td>\n",
              "      <td>0.0</td>\n",
              "      <td>0.0</td>\n",
              "      <td>0.0</td>\n",
              "      <td>0.0</td>\n",
              "      <td>0.000000</td>\n",
              "      <td>0.000000</td>\n",
              "      <td>0.0</td>\n",
              "      <td>0.0</td>\n",
              "      <td>0.0</td>\n",
              "      <td>0.0</td>\n",
              "      <td>0.0</td>\n",
              "      <td>0.0</td>\n",
              "      <td>0.000000</td>\n",
              "      <td>0.000000</td>\n",
              "      <td>0.0</td>\n",
              "      <td>...</td>\n",
              "      <td>0.0</td>\n",
              "      <td>0.0</td>\n",
              "      <td>0.0</td>\n",
              "      <td>0.0</td>\n",
              "      <td>0.0</td>\n",
              "      <td>0.0</td>\n",
              "      <td>0.0</td>\n",
              "      <td>0.0</td>\n",
              "      <td>0.0</td>\n",
              "      <td>0.0</td>\n",
              "      <td>0.0</td>\n",
              "      <td>0.0</td>\n",
              "      <td>0.0</td>\n",
              "      <td>0.0</td>\n",
              "      <td>0.0</td>\n",
              "      <td>0.0</td>\n",
              "      <td>0.0</td>\n",
              "      <td>0.0</td>\n",
              "      <td>0.0</td>\n",
              "      <td>0.0</td>\n",
              "      <td>0.0</td>\n",
              "      <td>0.0</td>\n",
              "      <td>0.0</td>\n",
              "      <td>0.0</td>\n",
              "      <td>0.0</td>\n",
              "      <td>0.0</td>\n",
              "      <td>0.0</td>\n",
              "      <td>0.547642</td>\n",
              "      <td>0.0</td>\n",
              "      <td>0.0</td>\n",
              "      <td>0.0</td>\n",
              "      <td>0.0</td>\n",
              "      <td>0.0</td>\n",
              "      <td>0.0</td>\n",
              "      <td>0.0</td>\n",
              "      <td>0.0</td>\n",
              "      <td>0.0</td>\n",
              "      <td>0.0</td>\n",
              "      <td>0.0</td>\n",
              "      <td>0.0</td>\n",
              "    </tr>\n",
              "    <tr>\n",
              "      <th>3</th>\n",
              "      <td>0.0</td>\n",
              "      <td>0.0</td>\n",
              "      <td>0.0</td>\n",
              "      <td>0.0</td>\n",
              "      <td>0.0</td>\n",
              "      <td>0.0</td>\n",
              "      <td>0.0</td>\n",
              "      <td>0.0</td>\n",
              "      <td>0.0</td>\n",
              "      <td>0.0</td>\n",
              "      <td>0.0</td>\n",
              "      <td>0.0</td>\n",
              "      <td>0.0</td>\n",
              "      <td>0.0</td>\n",
              "      <td>0.000000</td>\n",
              "      <td>0.0</td>\n",
              "      <td>0.000000</td>\n",
              "      <td>0.0</td>\n",
              "      <td>0.0</td>\n",
              "      <td>0.0</td>\n",
              "      <td>0.0</td>\n",
              "      <td>0.0</td>\n",
              "      <td>0.0</td>\n",
              "      <td>0.0</td>\n",
              "      <td>0.0</td>\n",
              "      <td>0.0</td>\n",
              "      <td>0.0</td>\n",
              "      <td>0.0</td>\n",
              "      <td>0.0</td>\n",
              "      <td>0.000000</td>\n",
              "      <td>0.000000</td>\n",
              "      <td>0.0</td>\n",
              "      <td>0.0</td>\n",
              "      <td>0.0</td>\n",
              "      <td>0.0</td>\n",
              "      <td>0.0</td>\n",
              "      <td>0.0</td>\n",
              "      <td>0.000000</td>\n",
              "      <td>0.000000</td>\n",
              "      <td>0.0</td>\n",
              "      <td>...</td>\n",
              "      <td>0.0</td>\n",
              "      <td>0.0</td>\n",
              "      <td>0.0</td>\n",
              "      <td>0.0</td>\n",
              "      <td>0.0</td>\n",
              "      <td>0.0</td>\n",
              "      <td>0.0</td>\n",
              "      <td>0.0</td>\n",
              "      <td>0.0</td>\n",
              "      <td>0.0</td>\n",
              "      <td>0.0</td>\n",
              "      <td>0.0</td>\n",
              "      <td>0.0</td>\n",
              "      <td>0.0</td>\n",
              "      <td>0.0</td>\n",
              "      <td>0.0</td>\n",
              "      <td>0.0</td>\n",
              "      <td>0.0</td>\n",
              "      <td>0.0</td>\n",
              "      <td>0.0</td>\n",
              "      <td>0.0</td>\n",
              "      <td>0.0</td>\n",
              "      <td>0.0</td>\n",
              "      <td>0.0</td>\n",
              "      <td>0.0</td>\n",
              "      <td>0.0</td>\n",
              "      <td>0.0</td>\n",
              "      <td>0.000000</td>\n",
              "      <td>0.0</td>\n",
              "      <td>0.0</td>\n",
              "      <td>0.0</td>\n",
              "      <td>0.0</td>\n",
              "      <td>0.0</td>\n",
              "      <td>0.0</td>\n",
              "      <td>0.0</td>\n",
              "      <td>0.0</td>\n",
              "      <td>0.0</td>\n",
              "      <td>0.0</td>\n",
              "      <td>0.0</td>\n",
              "      <td>0.0</td>\n",
              "    </tr>\n",
              "    <tr>\n",
              "      <th>4</th>\n",
              "      <td>0.0</td>\n",
              "      <td>0.0</td>\n",
              "      <td>0.0</td>\n",
              "      <td>0.0</td>\n",
              "      <td>0.0</td>\n",
              "      <td>0.0</td>\n",
              "      <td>0.0</td>\n",
              "      <td>0.0</td>\n",
              "      <td>0.0</td>\n",
              "      <td>0.0</td>\n",
              "      <td>0.0</td>\n",
              "      <td>0.0</td>\n",
              "      <td>0.0</td>\n",
              "      <td>0.0</td>\n",
              "      <td>0.000000</td>\n",
              "      <td>0.0</td>\n",
              "      <td>0.000000</td>\n",
              "      <td>0.0</td>\n",
              "      <td>0.0</td>\n",
              "      <td>0.0</td>\n",
              "      <td>0.0</td>\n",
              "      <td>0.0</td>\n",
              "      <td>0.0</td>\n",
              "      <td>0.0</td>\n",
              "      <td>0.0</td>\n",
              "      <td>0.0</td>\n",
              "      <td>0.0</td>\n",
              "      <td>0.0</td>\n",
              "      <td>0.0</td>\n",
              "      <td>0.000000</td>\n",
              "      <td>0.000000</td>\n",
              "      <td>0.0</td>\n",
              "      <td>0.0</td>\n",
              "      <td>0.0</td>\n",
              "      <td>0.0</td>\n",
              "      <td>0.0</td>\n",
              "      <td>0.0</td>\n",
              "      <td>0.000000</td>\n",
              "      <td>0.000000</td>\n",
              "      <td>0.0</td>\n",
              "      <td>...</td>\n",
              "      <td>0.0</td>\n",
              "      <td>0.0</td>\n",
              "      <td>0.0</td>\n",
              "      <td>0.0</td>\n",
              "      <td>0.0</td>\n",
              "      <td>0.0</td>\n",
              "      <td>0.0</td>\n",
              "      <td>0.0</td>\n",
              "      <td>0.0</td>\n",
              "      <td>0.0</td>\n",
              "      <td>0.0</td>\n",
              "      <td>0.0</td>\n",
              "      <td>0.0</td>\n",
              "      <td>0.0</td>\n",
              "      <td>0.0</td>\n",
              "      <td>0.0</td>\n",
              "      <td>0.0</td>\n",
              "      <td>0.0</td>\n",
              "      <td>0.0</td>\n",
              "      <td>0.0</td>\n",
              "      <td>0.0</td>\n",
              "      <td>0.0</td>\n",
              "      <td>0.0</td>\n",
              "      <td>0.0</td>\n",
              "      <td>0.0</td>\n",
              "      <td>0.0</td>\n",
              "      <td>0.0</td>\n",
              "      <td>0.000000</td>\n",
              "      <td>0.0</td>\n",
              "      <td>0.0</td>\n",
              "      <td>0.0</td>\n",
              "      <td>0.0</td>\n",
              "      <td>0.0</td>\n",
              "      <td>0.0</td>\n",
              "      <td>0.0</td>\n",
              "      <td>0.0</td>\n",
              "      <td>0.0</td>\n",
              "      <td>0.0</td>\n",
              "      <td>0.0</td>\n",
              "      <td>0.0</td>\n",
              "    </tr>\n",
              "  </tbody>\n",
              "</table>\n",
              "<p>5 rows × 127 columns</p>\n",
              "</div>"
            ],
            "text/plain": [
              "   action  action adventure  action animation  ...  war  war western  western\n",
              "0     0.0               0.0               0.0  ...  0.0          0.0      0.0\n",
              "1     0.0               0.0               0.0  ...  0.0          0.0      0.0\n",
              "2     0.0               0.0               0.0  ...  0.0          0.0      0.0\n",
              "3     0.0               0.0               0.0  ...  0.0          0.0      0.0\n",
              "4     0.0               0.0               0.0  ...  0.0          0.0      0.0\n",
              "\n",
              "[5 rows x 127 columns]"
            ]
          },
          "metadata": {
            "tags": []
          },
          "execution_count": 34
        }
      ]
    },
    {
      "cell_type": "code",
      "metadata": {
        "id": "Tn_expbBzDav"
      },
      "source": [
        "# This is Ecludian Distance Method to do Recommendations. "
      ],
      "execution_count": null,
      "outputs": []
    },
    {
      "cell_type": "code",
      "metadata": {
        "id": "A88Huc1xuEV8"
      },
      "source": [
        "from sklearn.cluster import KMeans\n",
        "kmeans = KMeans(n_clusters=100, random_state=0,n_init=20,max_iter=1000)\n",
        "kmeans.fit(model_data)\n",
        "model_data['Cluster'] = kmeans.labels_"
      ],
      "execution_count": null,
      "outputs": []
    },
    {
      "cell_type": "code",
      "metadata": {
        "colab": {
          "base_uri": "https://localhost:8080/",
          "height": 269
        },
        "id": "vH6sf17VvKwr",
        "outputId": "2c76fd2c-572c-48b2-d540-7b575e422068"
      },
      "source": [
        "model_data.head()"
      ],
      "execution_count": null,
      "outputs": [
        {
          "output_type": "execute_result",
          "data": {
            "text/html": [
              "<div>\n",
              "<style scoped>\n",
              "    .dataframe tbody tr th:only-of-type {\n",
              "        vertical-align: middle;\n",
              "    }\n",
              "\n",
              "    .dataframe tbody tr th {\n",
              "        vertical-align: top;\n",
              "    }\n",
              "\n",
              "    .dataframe thead th {\n",
              "        text-align: right;\n",
              "    }\n",
              "</style>\n",
              "<table border=\"1\" class=\"dataframe\">\n",
              "  <thead>\n",
              "    <tr style=\"text-align: right;\">\n",
              "      <th></th>\n",
              "      <th>action</th>\n",
              "      <th>action adventure</th>\n",
              "      <th>action animation</th>\n",
              "      <th>action children</th>\n",
              "      <th>action comedy</th>\n",
              "      <th>action crime</th>\n",
              "      <th>action drama</th>\n",
              "      <th>action horror</th>\n",
              "      <th>action mystery</th>\n",
              "      <th>action romance</th>\n",
              "      <th>action sci</th>\n",
              "      <th>action thriller</th>\n",
              "      <th>action war</th>\n",
              "      <th>action western</th>\n",
              "      <th>adventure</th>\n",
              "      <th>adventure animation</th>\n",
              "      <th>adventure children</th>\n",
              "      <th>adventure comedy</th>\n",
              "      <th>adventure crime</th>\n",
              "      <th>adventure drama</th>\n",
              "      <th>adventure fantasy</th>\n",
              "      <th>adventure horror</th>\n",
              "      <th>adventure musical</th>\n",
              "      <th>adventure mystery</th>\n",
              "      <th>adventure romance</th>\n",
              "      <th>adventure sci</th>\n",
              "      <th>adventure thriller</th>\n",
              "      <th>adventure war</th>\n",
              "      <th>adventure western</th>\n",
              "      <th>animation</th>\n",
              "      <th>animation children</th>\n",
              "      <th>animation comedy</th>\n",
              "      <th>animation film</th>\n",
              "      <th>animation horror</th>\n",
              "      <th>animation musical</th>\n",
              "      <th>animation mystery</th>\n",
              "      <th>animation sci</th>\n",
              "      <th>children</th>\n",
              "      <th>children comedy</th>\n",
              "      <th>children drama</th>\n",
              "      <th>...</th>\n",
              "      <th>fi</th>\n",
              "      <th>fi thriller</th>\n",
              "      <th>fi war</th>\n",
              "      <th>fi western</th>\n",
              "      <th>film</th>\n",
              "      <th>film noir</th>\n",
              "      <th>horror</th>\n",
              "      <th>horror musical</th>\n",
              "      <th>horror mystery</th>\n",
              "      <th>horror romance</th>\n",
              "      <th>horror sci</th>\n",
              "      <th>horror thriller</th>\n",
              "      <th>musical</th>\n",
              "      <th>musical romance</th>\n",
              "      <th>musical sci</th>\n",
              "      <th>musical war</th>\n",
              "      <th>mystery</th>\n",
              "      <th>mystery romance</th>\n",
              "      <th>mystery sci</th>\n",
              "      <th>mystery thriller</th>\n",
              "      <th>noir</th>\n",
              "      <th>noir horror</th>\n",
              "      <th>noir mystery</th>\n",
              "      <th>noir romance</th>\n",
              "      <th>noir sci</th>\n",
              "      <th>noir thriller</th>\n",
              "      <th>romance</th>\n",
              "      <th>romance sci</th>\n",
              "      <th>romance thriller</th>\n",
              "      <th>romance war</th>\n",
              "      <th>romance western</th>\n",
              "      <th>sci</th>\n",
              "      <th>sci fi</th>\n",
              "      <th>thriller</th>\n",
              "      <th>thriller war</th>\n",
              "      <th>thriller western</th>\n",
              "      <th>war</th>\n",
              "      <th>war western</th>\n",
              "      <th>western</th>\n",
              "      <th>Cluster</th>\n",
              "    </tr>\n",
              "  </thead>\n",
              "  <tbody>\n",
              "    <tr>\n",
              "      <th>0</th>\n",
              "      <td>0.0</td>\n",
              "      <td>0.0</td>\n",
              "      <td>0.0</td>\n",
              "      <td>0.0</td>\n",
              "      <td>0.0</td>\n",
              "      <td>0.0</td>\n",
              "      <td>0.0</td>\n",
              "      <td>0.0</td>\n",
              "      <td>0.0</td>\n",
              "      <td>0.0</td>\n",
              "      <td>0.0</td>\n",
              "      <td>0.0</td>\n",
              "      <td>0.0</td>\n",
              "      <td>0.0</td>\n",
              "      <td>0.000000</td>\n",
              "      <td>0.0</td>\n",
              "      <td>0.000000</td>\n",
              "      <td>0.0</td>\n",
              "      <td>0.0</td>\n",
              "      <td>0.0</td>\n",
              "      <td>0.0</td>\n",
              "      <td>0.0</td>\n",
              "      <td>0.0</td>\n",
              "      <td>0.0</td>\n",
              "      <td>0.0</td>\n",
              "      <td>0.0</td>\n",
              "      <td>0.0</td>\n",
              "      <td>0.0</td>\n",
              "      <td>0.0</td>\n",
              "      <td>0.497928</td>\n",
              "      <td>0.521821</td>\n",
              "      <td>0.0</td>\n",
              "      <td>0.0</td>\n",
              "      <td>0.0</td>\n",
              "      <td>0.0</td>\n",
              "      <td>0.0</td>\n",
              "      <td>0.0</td>\n",
              "      <td>0.404213</td>\n",
              "      <td>0.510929</td>\n",
              "      <td>0.0</td>\n",
              "      <td>...</td>\n",
              "      <td>0.0</td>\n",
              "      <td>0.0</td>\n",
              "      <td>0.0</td>\n",
              "      <td>0.0</td>\n",
              "      <td>0.0</td>\n",
              "      <td>0.0</td>\n",
              "      <td>0.0</td>\n",
              "      <td>0.0</td>\n",
              "      <td>0.0</td>\n",
              "      <td>0.0</td>\n",
              "      <td>0.0</td>\n",
              "      <td>0.0</td>\n",
              "      <td>0.0</td>\n",
              "      <td>0.0</td>\n",
              "      <td>0.0</td>\n",
              "      <td>0.0</td>\n",
              "      <td>0.0</td>\n",
              "      <td>0.0</td>\n",
              "      <td>0.0</td>\n",
              "      <td>0.0</td>\n",
              "      <td>0.0</td>\n",
              "      <td>0.0</td>\n",
              "      <td>0.0</td>\n",
              "      <td>0.0</td>\n",
              "      <td>0.0</td>\n",
              "      <td>0.0</td>\n",
              "      <td>0.000000</td>\n",
              "      <td>0.0</td>\n",
              "      <td>0.0</td>\n",
              "      <td>0.0</td>\n",
              "      <td>0.0</td>\n",
              "      <td>0.0</td>\n",
              "      <td>0.0</td>\n",
              "      <td>0.0</td>\n",
              "      <td>0.0</td>\n",
              "      <td>0.0</td>\n",
              "      <td>0.0</td>\n",
              "      <td>0.0</td>\n",
              "      <td>0.0</td>\n",
              "      <td>86</td>\n",
              "    </tr>\n",
              "    <tr>\n",
              "      <th>1</th>\n",
              "      <td>0.0</td>\n",
              "      <td>0.0</td>\n",
              "      <td>0.0</td>\n",
              "      <td>0.0</td>\n",
              "      <td>0.0</td>\n",
              "      <td>0.0</td>\n",
              "      <td>0.0</td>\n",
              "      <td>0.0</td>\n",
              "      <td>0.0</td>\n",
              "      <td>0.0</td>\n",
              "      <td>0.0</td>\n",
              "      <td>0.0</td>\n",
              "      <td>0.0</td>\n",
              "      <td>0.0</td>\n",
              "      <td>0.339904</td>\n",
              "      <td>0.0</td>\n",
              "      <td>0.467617</td>\n",
              "      <td>0.0</td>\n",
              "      <td>0.0</td>\n",
              "      <td>0.0</td>\n",
              "      <td>0.0</td>\n",
              "      <td>0.0</td>\n",
              "      <td>0.0</td>\n",
              "      <td>0.0</td>\n",
              "      <td>0.0</td>\n",
              "      <td>0.0</td>\n",
              "      <td>0.0</td>\n",
              "      <td>0.0</td>\n",
              "      <td>0.0</td>\n",
              "      <td>0.000000</td>\n",
              "      <td>0.000000</td>\n",
              "      <td>0.0</td>\n",
              "      <td>0.0</td>\n",
              "      <td>0.0</td>\n",
              "      <td>0.0</td>\n",
              "      <td>0.0</td>\n",
              "      <td>0.0</td>\n",
              "      <td>0.351142</td>\n",
              "      <td>0.000000</td>\n",
              "      <td>0.0</td>\n",
              "      <td>...</td>\n",
              "      <td>0.0</td>\n",
              "      <td>0.0</td>\n",
              "      <td>0.0</td>\n",
              "      <td>0.0</td>\n",
              "      <td>0.0</td>\n",
              "      <td>0.0</td>\n",
              "      <td>0.0</td>\n",
              "      <td>0.0</td>\n",
              "      <td>0.0</td>\n",
              "      <td>0.0</td>\n",
              "      <td>0.0</td>\n",
              "      <td>0.0</td>\n",
              "      <td>0.0</td>\n",
              "      <td>0.0</td>\n",
              "      <td>0.0</td>\n",
              "      <td>0.0</td>\n",
              "      <td>0.0</td>\n",
              "      <td>0.0</td>\n",
              "      <td>0.0</td>\n",
              "      <td>0.0</td>\n",
              "      <td>0.0</td>\n",
              "      <td>0.0</td>\n",
              "      <td>0.0</td>\n",
              "      <td>0.0</td>\n",
              "      <td>0.0</td>\n",
              "      <td>0.0</td>\n",
              "      <td>0.000000</td>\n",
              "      <td>0.0</td>\n",
              "      <td>0.0</td>\n",
              "      <td>0.0</td>\n",
              "      <td>0.0</td>\n",
              "      <td>0.0</td>\n",
              "      <td>0.0</td>\n",
              "      <td>0.0</td>\n",
              "      <td>0.0</td>\n",
              "      <td>0.0</td>\n",
              "      <td>0.0</td>\n",
              "      <td>0.0</td>\n",
              "      <td>0.0</td>\n",
              "      <td>13</td>\n",
              "    </tr>\n",
              "    <tr>\n",
              "      <th>2</th>\n",
              "      <td>0.0</td>\n",
              "      <td>0.0</td>\n",
              "      <td>0.0</td>\n",
              "      <td>0.0</td>\n",
              "      <td>0.0</td>\n",
              "      <td>0.0</td>\n",
              "      <td>0.0</td>\n",
              "      <td>0.0</td>\n",
              "      <td>0.0</td>\n",
              "      <td>0.0</td>\n",
              "      <td>0.0</td>\n",
              "      <td>0.0</td>\n",
              "      <td>0.0</td>\n",
              "      <td>0.0</td>\n",
              "      <td>0.000000</td>\n",
              "      <td>0.0</td>\n",
              "      <td>0.000000</td>\n",
              "      <td>0.0</td>\n",
              "      <td>0.0</td>\n",
              "      <td>0.0</td>\n",
              "      <td>0.0</td>\n",
              "      <td>0.0</td>\n",
              "      <td>0.0</td>\n",
              "      <td>0.0</td>\n",
              "      <td>0.0</td>\n",
              "      <td>0.0</td>\n",
              "      <td>0.0</td>\n",
              "      <td>0.0</td>\n",
              "      <td>0.0</td>\n",
              "      <td>0.000000</td>\n",
              "      <td>0.000000</td>\n",
              "      <td>0.0</td>\n",
              "      <td>0.0</td>\n",
              "      <td>0.0</td>\n",
              "      <td>0.0</td>\n",
              "      <td>0.0</td>\n",
              "      <td>0.0</td>\n",
              "      <td>0.000000</td>\n",
              "      <td>0.000000</td>\n",
              "      <td>0.0</td>\n",
              "      <td>...</td>\n",
              "      <td>0.0</td>\n",
              "      <td>0.0</td>\n",
              "      <td>0.0</td>\n",
              "      <td>0.0</td>\n",
              "      <td>0.0</td>\n",
              "      <td>0.0</td>\n",
              "      <td>0.0</td>\n",
              "      <td>0.0</td>\n",
              "      <td>0.0</td>\n",
              "      <td>0.0</td>\n",
              "      <td>0.0</td>\n",
              "      <td>0.0</td>\n",
              "      <td>0.0</td>\n",
              "      <td>0.0</td>\n",
              "      <td>0.0</td>\n",
              "      <td>0.0</td>\n",
              "      <td>0.0</td>\n",
              "      <td>0.0</td>\n",
              "      <td>0.0</td>\n",
              "      <td>0.0</td>\n",
              "      <td>0.0</td>\n",
              "      <td>0.0</td>\n",
              "      <td>0.0</td>\n",
              "      <td>0.0</td>\n",
              "      <td>0.0</td>\n",
              "      <td>0.0</td>\n",
              "      <td>0.547642</td>\n",
              "      <td>0.0</td>\n",
              "      <td>0.0</td>\n",
              "      <td>0.0</td>\n",
              "      <td>0.0</td>\n",
              "      <td>0.0</td>\n",
              "      <td>0.0</td>\n",
              "      <td>0.0</td>\n",
              "      <td>0.0</td>\n",
              "      <td>0.0</td>\n",
              "      <td>0.0</td>\n",
              "      <td>0.0</td>\n",
              "      <td>0.0</td>\n",
              "      <td>9</td>\n",
              "    </tr>\n",
              "    <tr>\n",
              "      <th>3</th>\n",
              "      <td>0.0</td>\n",
              "      <td>0.0</td>\n",
              "      <td>0.0</td>\n",
              "      <td>0.0</td>\n",
              "      <td>0.0</td>\n",
              "      <td>0.0</td>\n",
              "      <td>0.0</td>\n",
              "      <td>0.0</td>\n",
              "      <td>0.0</td>\n",
              "      <td>0.0</td>\n",
              "      <td>0.0</td>\n",
              "      <td>0.0</td>\n",
              "      <td>0.0</td>\n",
              "      <td>0.0</td>\n",
              "      <td>0.000000</td>\n",
              "      <td>0.0</td>\n",
              "      <td>0.000000</td>\n",
              "      <td>0.0</td>\n",
              "      <td>0.0</td>\n",
              "      <td>0.0</td>\n",
              "      <td>0.0</td>\n",
              "      <td>0.0</td>\n",
              "      <td>0.0</td>\n",
              "      <td>0.0</td>\n",
              "      <td>0.0</td>\n",
              "      <td>0.0</td>\n",
              "      <td>0.0</td>\n",
              "      <td>0.0</td>\n",
              "      <td>0.0</td>\n",
              "      <td>0.000000</td>\n",
              "      <td>0.000000</td>\n",
              "      <td>0.0</td>\n",
              "      <td>0.0</td>\n",
              "      <td>0.0</td>\n",
              "      <td>0.0</td>\n",
              "      <td>0.0</td>\n",
              "      <td>0.0</td>\n",
              "      <td>0.000000</td>\n",
              "      <td>0.000000</td>\n",
              "      <td>0.0</td>\n",
              "      <td>...</td>\n",
              "      <td>0.0</td>\n",
              "      <td>0.0</td>\n",
              "      <td>0.0</td>\n",
              "      <td>0.0</td>\n",
              "      <td>0.0</td>\n",
              "      <td>0.0</td>\n",
              "      <td>0.0</td>\n",
              "      <td>0.0</td>\n",
              "      <td>0.0</td>\n",
              "      <td>0.0</td>\n",
              "      <td>0.0</td>\n",
              "      <td>0.0</td>\n",
              "      <td>0.0</td>\n",
              "      <td>0.0</td>\n",
              "      <td>0.0</td>\n",
              "      <td>0.0</td>\n",
              "      <td>0.0</td>\n",
              "      <td>0.0</td>\n",
              "      <td>0.0</td>\n",
              "      <td>0.0</td>\n",
              "      <td>0.0</td>\n",
              "      <td>0.0</td>\n",
              "      <td>0.0</td>\n",
              "      <td>0.0</td>\n",
              "      <td>0.0</td>\n",
              "      <td>0.0</td>\n",
              "      <td>0.000000</td>\n",
              "      <td>0.0</td>\n",
              "      <td>0.0</td>\n",
              "      <td>0.0</td>\n",
              "      <td>0.0</td>\n",
              "      <td>0.0</td>\n",
              "      <td>0.0</td>\n",
              "      <td>0.0</td>\n",
              "      <td>0.0</td>\n",
              "      <td>0.0</td>\n",
              "      <td>0.0</td>\n",
              "      <td>0.0</td>\n",
              "      <td>0.0</td>\n",
              "      <td>1</td>\n",
              "    </tr>\n",
              "    <tr>\n",
              "      <th>4</th>\n",
              "      <td>0.0</td>\n",
              "      <td>0.0</td>\n",
              "      <td>0.0</td>\n",
              "      <td>0.0</td>\n",
              "      <td>0.0</td>\n",
              "      <td>0.0</td>\n",
              "      <td>0.0</td>\n",
              "      <td>0.0</td>\n",
              "      <td>0.0</td>\n",
              "      <td>0.0</td>\n",
              "      <td>0.0</td>\n",
              "      <td>0.0</td>\n",
              "      <td>0.0</td>\n",
              "      <td>0.0</td>\n",
              "      <td>0.000000</td>\n",
              "      <td>0.0</td>\n",
              "      <td>0.000000</td>\n",
              "      <td>0.0</td>\n",
              "      <td>0.0</td>\n",
              "      <td>0.0</td>\n",
              "      <td>0.0</td>\n",
              "      <td>0.0</td>\n",
              "      <td>0.0</td>\n",
              "      <td>0.0</td>\n",
              "      <td>0.0</td>\n",
              "      <td>0.0</td>\n",
              "      <td>0.0</td>\n",
              "      <td>0.0</td>\n",
              "      <td>0.0</td>\n",
              "      <td>0.000000</td>\n",
              "      <td>0.000000</td>\n",
              "      <td>0.0</td>\n",
              "      <td>0.0</td>\n",
              "      <td>0.0</td>\n",
              "      <td>0.0</td>\n",
              "      <td>0.0</td>\n",
              "      <td>0.0</td>\n",
              "      <td>0.000000</td>\n",
              "      <td>0.000000</td>\n",
              "      <td>0.0</td>\n",
              "      <td>...</td>\n",
              "      <td>0.0</td>\n",
              "      <td>0.0</td>\n",
              "      <td>0.0</td>\n",
              "      <td>0.0</td>\n",
              "      <td>0.0</td>\n",
              "      <td>0.0</td>\n",
              "      <td>0.0</td>\n",
              "      <td>0.0</td>\n",
              "      <td>0.0</td>\n",
              "      <td>0.0</td>\n",
              "      <td>0.0</td>\n",
              "      <td>0.0</td>\n",
              "      <td>0.0</td>\n",
              "      <td>0.0</td>\n",
              "      <td>0.0</td>\n",
              "      <td>0.0</td>\n",
              "      <td>0.0</td>\n",
              "      <td>0.0</td>\n",
              "      <td>0.0</td>\n",
              "      <td>0.0</td>\n",
              "      <td>0.0</td>\n",
              "      <td>0.0</td>\n",
              "      <td>0.0</td>\n",
              "      <td>0.0</td>\n",
              "      <td>0.0</td>\n",
              "      <td>0.0</td>\n",
              "      <td>0.000000</td>\n",
              "      <td>0.0</td>\n",
              "      <td>0.0</td>\n",
              "      <td>0.0</td>\n",
              "      <td>0.0</td>\n",
              "      <td>0.0</td>\n",
              "      <td>0.0</td>\n",
              "      <td>0.0</td>\n",
              "      <td>0.0</td>\n",
              "      <td>0.0</td>\n",
              "      <td>0.0</td>\n",
              "      <td>0.0</td>\n",
              "      <td>0.0</td>\n",
              "      <td>3</td>\n",
              "    </tr>\n",
              "  </tbody>\n",
              "</table>\n",
              "<p>5 rows × 128 columns</p>\n",
              "</div>"
            ],
            "text/plain": [
              "   action  action adventure  action animation  ...  war western  western  Cluster\n",
              "0     0.0               0.0               0.0  ...          0.0      0.0       86\n",
              "1     0.0               0.0               0.0  ...          0.0      0.0       13\n",
              "2     0.0               0.0               0.0  ...          0.0      0.0        9\n",
              "3     0.0               0.0               0.0  ...          0.0      0.0        1\n",
              "4     0.0               0.0               0.0  ...          0.0      0.0        3\n",
              "\n",
              "[5 rows x 128 columns]"
            ]
          },
          "metadata": {
            "tags": []
          },
          "execution_count": 40
        }
      ]
    },
    {
      "cell_type": "code",
      "metadata": {
        "colab": {
          "base_uri": "https://localhost:8080/"
        },
        "id": "Iv845WbwxJBe",
        "outputId": "3a511a58-9e59-4f8c-83ae-6e8213c4f065"
      },
      "source": [
        "model_data.shape"
      ],
      "execution_count": null,
      "outputs": [
        {
          "output_type": "execute_result",
          "data": {
            "text/plain": [
              "(3883, 128)"
            ]
          },
          "metadata": {
            "tags": []
          },
          "execution_count": 57
        }
      ]
    },
    {
      "cell_type": "code",
      "metadata": {
        "colab": {
          "base_uri": "https://localhost:8080/"
        },
        "id": "XyJbXNB2xLC1",
        "outputId": "1c5a81d9-a335-4bfe-aefa-175538383aee"
      },
      "source": [
        "movies.shape"
      ],
      "execution_count": null,
      "outputs": [
        {
          "output_type": "execute_result",
          "data": {
            "text/plain": [
              "(3883, 4)"
            ]
          },
          "metadata": {
            "tags": []
          },
          "execution_count": 58
        }
      ]
    },
    {
      "cell_type": "code",
      "metadata": {
        "colab": {
          "base_uri": "https://localhost:8080/"
        },
        "id": "WaKdoV9OvPXH",
        "outputId": "f3ed43d4-c7a9-494f-90a1-a9e6114ca16b"
      },
      "source": [
        "model_data.index.values"
      ],
      "execution_count": null,
      "outputs": [
        {
          "output_type": "execute_result",
          "data": {
            "text/plain": [
              "array([   0,    1,    2, ..., 3880, 3881, 3882])"
            ]
          },
          "metadata": {
            "tags": []
          },
          "execution_count": 43
        }
      ]
    },
    {
      "cell_type": "code",
      "metadata": {
        "colab": {
          "base_uri": "https://localhost:8080/"
        },
        "id": "LJnAjv3bvXBL",
        "outputId": "2c5bb2c7-e08d-4d93-b362-a48583fa6fa2"
      },
      "source": [
        "movies.index.values"
      ],
      "execution_count": null,
      "outputs": [
        {
          "output_type": "execute_result",
          "data": {
            "text/plain": [
              "array([   0,    1,    2, ..., 3880, 3881, 3882])"
            ]
          },
          "metadata": {
            "tags": []
          },
          "execution_count": 44
        }
      ]
    },
    {
      "cell_type": "code",
      "metadata": {
        "colab": {
          "base_uri": "https://localhost:8080/"
        },
        "id": "Id-cEhAOvdPJ",
        "outputId": "6f972ec1-7e03-409d-a2b1-b446bf02a8ae"
      },
      "source": [
        "movies.iloc[0]"
      ],
      "execution_count": null,
      "outputs": [
        {
          "output_type": "execute_result",
          "data": {
            "text/plain": [
              "movie_id                                        1\n",
              "title                            Toy Story (1995)\n",
              "genres                Animation|Children's|Comedy\n",
              "genres2     ['Animation', \"Children's\", 'Comedy']\n",
              "Name: 0, dtype: object"
            ]
          },
          "metadata": {
            "tags": []
          },
          "execution_count": 61
        }
      ]
    },
    {
      "cell_type": "code",
      "metadata": {
        "colab": {
          "base_uri": "https://localhost:8080/"
        },
        "id": "QguPkBTjvlKL",
        "outputId": "863f48f7-eb7b-4fa6-f5fc-c94217d38c6e"
      },
      "source": [
        "model_data.iloc[0]['Cluster']"
      ],
      "execution_count": null,
      "outputs": [
        {
          "output_type": "execute_result",
          "data": {
            "text/plain": [
              "86.0"
            ]
          },
          "metadata": {
            "tags": []
          },
          "execution_count": 62
        }
      ]
    },
    {
      "cell_type": "code",
      "metadata": {
        "id": "6MuKQ8KIyMZi"
      },
      "source": [
        "# Recommendation Model ---> All movies whih lie in same cluster as the target movie is my recommendation "
      ],
      "execution_count": null,
      "outputs": []
    },
    {
      "cell_type": "code",
      "metadata": {
        "colab": {
          "base_uri": "https://localhost:8080/"
        },
        "id": "asY4AeKUvrZz",
        "outputId": "f8d73b88-5085-454b-cd75-14ef8198be73"
      },
      "source": [
        "model_data[model_data['Cluster']==86.0].index"
      ],
      "execution_count": null,
      "outputs": [
        {
          "output_type": "execute_result",
          "data": {
            "text/plain": [
              "Int64Index([   0,  236,  584,  667, 1050, 1526, 2009, 2011, 2012, 2033, 2072,\n",
              "            2073, 2285, 2286, 3045, 3542, 3682, 3685],\n",
              "           dtype='int64')"
            ]
          },
          "metadata": {
            "tags": []
          },
          "execution_count": 63
        }
      ]
    },
    {
      "cell_type": "code",
      "metadata": {
        "colab": {
          "base_uri": "https://localhost:8080/"
        },
        "id": "m-nW_iagyYav",
        "outputId": "4756707f-8b0e-4f8c-9a32-300a742663b4"
      },
      "source": [
        "movies.iloc[236]"
      ],
      "execution_count": null,
      "outputs": [
        {
          "output_type": "execute_result",
          "data": {
            "text/plain": [
              "movie_id                                                 239\n",
              "title                                  Goofy Movie, A (1995)\n",
              "genres                   Animation|Children's|Comedy|Romance\n",
              "genres2     ['Animation', \"Children's\", 'Comedy', 'Romance']\n",
              "Name: 236, dtype: object"
            ]
          },
          "metadata": {
            "tags": []
          },
          "execution_count": 64
        }
      ]
    },
    {
      "cell_type": "code",
      "metadata": {
        "colab": {
          "base_uri": "https://localhost:8080/",
          "height": 601
        },
        "id": "x3SGXFE-wM3Z",
        "outputId": "e0160fa6-754f-45dd-c71a-0a63363f04f1"
      },
      "source": [
        "movies[movies.index.isin(model_data[model_data['Cluster']==86.0].index)] # potetnial candidates "
      ],
      "execution_count": null,
      "outputs": [
        {
          "output_type": "execute_result",
          "data": {
            "text/html": [
              "<div>\n",
              "<style scoped>\n",
              "    .dataframe tbody tr th:only-of-type {\n",
              "        vertical-align: middle;\n",
              "    }\n",
              "\n",
              "    .dataframe tbody tr th {\n",
              "        vertical-align: top;\n",
              "    }\n",
              "\n",
              "    .dataframe thead th {\n",
              "        text-align: right;\n",
              "    }\n",
              "</style>\n",
              "<table border=\"1\" class=\"dataframe\">\n",
              "  <thead>\n",
              "    <tr style=\"text-align: right;\">\n",
              "      <th></th>\n",
              "      <th>movie_id</th>\n",
              "      <th>title</th>\n",
              "      <th>genres</th>\n",
              "      <th>genres2</th>\n",
              "    </tr>\n",
              "  </thead>\n",
              "  <tbody>\n",
              "    <tr>\n",
              "      <th>0</th>\n",
              "      <td>1</td>\n",
              "      <td>Toy Story (1995)</td>\n",
              "      <td>Animation|Children's|Comedy</td>\n",
              "      <td>['Animation', \"Children's\", 'Comedy']</td>\n",
              "    </tr>\n",
              "    <tr>\n",
              "      <th>236</th>\n",
              "      <td>239</td>\n",
              "      <td>Goofy Movie, A (1995)</td>\n",
              "      <td>Animation|Children's|Comedy|Romance</td>\n",
              "      <td>['Animation', \"Children's\", 'Comedy', 'Romance']</td>\n",
              "    </tr>\n",
              "    <tr>\n",
              "      <th>584</th>\n",
              "      <td>588</td>\n",
              "      <td>Aladdin (1992)</td>\n",
              "      <td>Animation|Children's|Comedy|Musical</td>\n",
              "      <td>['Animation', \"Children's\", 'Comedy', 'Musical']</td>\n",
              "    </tr>\n",
              "    <tr>\n",
              "      <th>667</th>\n",
              "      <td>673</td>\n",
              "      <td>Space Jam (1996)</td>\n",
              "      <td>Adventure|Animation|Children's|Comedy|Fantasy</td>\n",
              "      <td>['Adventure', 'Animation', \"Children's\", 'Come...</td>\n",
              "    </tr>\n",
              "    <tr>\n",
              "      <th>1050</th>\n",
              "      <td>1064</td>\n",
              "      <td>Aladdin and the King of Thieves (1996)</td>\n",
              "      <td>Animation|Children's|Comedy</td>\n",
              "      <td>['Animation', \"Children's\", 'Comedy']</td>\n",
              "    </tr>\n",
              "    <tr>\n",
              "      <th>1526</th>\n",
              "      <td>1566</td>\n",
              "      <td>Hercules (1997)</td>\n",
              "      <td>Adventure|Animation|Children's|Comedy|Musical</td>\n",
              "      <td>['Adventure', 'Animation', \"Children's\", 'Come...</td>\n",
              "    </tr>\n",
              "    <tr>\n",
              "      <th>2009</th>\n",
              "      <td>2078</td>\n",
              "      <td>Jungle Book, The (1967)</td>\n",
              "      <td>Animation|Children's|Comedy|Musical</td>\n",
              "      <td>['Animation', \"Children's\", 'Comedy', 'Musical']</td>\n",
              "    </tr>\n",
              "    <tr>\n",
              "      <th>2011</th>\n",
              "      <td>2080</td>\n",
              "      <td>Lady and the Tramp (1955)</td>\n",
              "      <td>Animation|Children's|Comedy|Musical|Romance</td>\n",
              "      <td>['Animation', \"Children's\", 'Comedy', 'Musical...</td>\n",
              "    </tr>\n",
              "    <tr>\n",
              "      <th>2012</th>\n",
              "      <td>2081</td>\n",
              "      <td>Little Mermaid, The (1989)</td>\n",
              "      <td>Animation|Children's|Comedy|Musical|Romance</td>\n",
              "      <td>['Animation', \"Children's\", 'Comedy', 'Musical...</td>\n",
              "    </tr>\n",
              "    <tr>\n",
              "      <th>2033</th>\n",
              "      <td>2102</td>\n",
              "      <td>Steamboat Willie (1940)</td>\n",
              "      <td>Animation|Children's|Comedy|Musical</td>\n",
              "      <td>['Animation', \"Children's\", 'Comedy', 'Musical']</td>\n",
              "    </tr>\n",
              "    <tr>\n",
              "      <th>2072</th>\n",
              "      <td>2141</td>\n",
              "      <td>American Tail, An (1986)</td>\n",
              "      <td>Animation|Children's|Comedy</td>\n",
              "      <td>['Animation', \"Children's\", 'Comedy']</td>\n",
              "    </tr>\n",
              "    <tr>\n",
              "      <th>2073</th>\n",
              "      <td>2142</td>\n",
              "      <td>American Tail: Fievel Goes West, An (1991)</td>\n",
              "      <td>Animation|Children's|Comedy</td>\n",
              "      <td>['Animation', \"Children's\", 'Comedy']</td>\n",
              "    </tr>\n",
              "    <tr>\n",
              "      <th>2285</th>\n",
              "      <td>2354</td>\n",
              "      <td>Rugrats Movie, The (1998)</td>\n",
              "      <td>Animation|Children's|Comedy</td>\n",
              "      <td>['Animation', \"Children's\", 'Comedy']</td>\n",
              "    </tr>\n",
              "    <tr>\n",
              "      <th>2286</th>\n",
              "      <td>2355</td>\n",
              "      <td>Bug's Life, A (1998)</td>\n",
              "      <td>Animation|Children's|Comedy</td>\n",
              "      <td>['Animation', \"Children's\", 'Comedy']</td>\n",
              "    </tr>\n",
              "    <tr>\n",
              "      <th>3045</th>\n",
              "      <td>3114</td>\n",
              "      <td>Toy Story 2 (1999)</td>\n",
              "      <td>Animation|Children's|Comedy</td>\n",
              "      <td>['Animation', \"Children's\", 'Comedy']</td>\n",
              "    </tr>\n",
              "    <tr>\n",
              "      <th>3542</th>\n",
              "      <td>3611</td>\n",
              "      <td>Saludos Amigos (1943)</td>\n",
              "      <td>Animation|Children's|Comedy</td>\n",
              "      <td>['Animation', \"Children's\", 'Comedy']</td>\n",
              "    </tr>\n",
              "    <tr>\n",
              "      <th>3682</th>\n",
              "      <td>3751</td>\n",
              "      <td>Chicken Run (2000)</td>\n",
              "      <td>Animation|Children's|Comedy</td>\n",
              "      <td>['Animation', \"Children's\", 'Comedy']</td>\n",
              "    </tr>\n",
              "    <tr>\n",
              "      <th>3685</th>\n",
              "      <td>3754</td>\n",
              "      <td>Adventures of Rocky and Bullwinkle, The (2000)</td>\n",
              "      <td>Animation|Children's|Comedy</td>\n",
              "      <td>['Animation', \"Children's\", 'Comedy']</td>\n",
              "    </tr>\n",
              "  </tbody>\n",
              "</table>\n",
              "</div>"
            ],
            "text/plain": [
              "      movie_id  ...                                            genres2\n",
              "0            1  ...              ['Animation', \"Children's\", 'Comedy']\n",
              "236        239  ...   ['Animation', \"Children's\", 'Comedy', 'Romance']\n",
              "584        588  ...   ['Animation', \"Children's\", 'Comedy', 'Musical']\n",
              "667        673  ...  ['Adventure', 'Animation', \"Children's\", 'Come...\n",
              "1050      1064  ...              ['Animation', \"Children's\", 'Comedy']\n",
              "1526      1566  ...  ['Adventure', 'Animation', \"Children's\", 'Come...\n",
              "2009      2078  ...   ['Animation', \"Children's\", 'Comedy', 'Musical']\n",
              "2011      2080  ...  ['Animation', \"Children's\", 'Comedy', 'Musical...\n",
              "2012      2081  ...  ['Animation', \"Children's\", 'Comedy', 'Musical...\n",
              "2033      2102  ...   ['Animation', \"Children's\", 'Comedy', 'Musical']\n",
              "2072      2141  ...              ['Animation', \"Children's\", 'Comedy']\n",
              "2073      2142  ...              ['Animation', \"Children's\", 'Comedy']\n",
              "2285      2354  ...              ['Animation', \"Children's\", 'Comedy']\n",
              "2286      2355  ...              ['Animation', \"Children's\", 'Comedy']\n",
              "3045      3114  ...              ['Animation', \"Children's\", 'Comedy']\n",
              "3542      3611  ...              ['Animation', \"Children's\", 'Comedy']\n",
              "3682      3751  ...              ['Animation', \"Children's\", 'Comedy']\n",
              "3685      3754  ...              ['Animation', \"Children's\", 'Comedy']\n",
              "\n",
              "[18 rows x 4 columns]"
            ]
          },
          "metadata": {
            "tags": []
          },
          "execution_count": 65
        }
      ]
    },
    {
      "cell_type": "code",
      "metadata": {
        "colab": {
          "base_uri": "https://localhost:8080/"
        },
        "id": "pVsu0jNHv2pk",
        "outputId": "c5acf094-86e4-4466-a52f-45599f2e29a2"
      },
      "source": [
        "movies.iloc[3462]"
      ],
      "execution_count": null,
      "outputs": [
        {
          "output_type": "execute_result",
          "data": {
            "text/plain": [
              "movie_id                                   3531\n",
              "title       All the Vermeers in New York (1990)\n",
              "genres                     Comedy|Drama|Romance\n",
              "genres2          ['Comedy', 'Drama', 'Romance']\n",
              "Name: 3462, dtype: object"
            ]
          },
          "metadata": {
            "tags": []
          },
          "execution_count": 53
        }
      ]
    },
    {
      "cell_type": "code",
      "metadata": {
        "colab": {
          "base_uri": "https://localhost:8080/",
          "height": 295
        },
        "id": "HRQhmxI3uLll",
        "outputId": "05947e60-7095-4e52-fb43-50f972165dc1"
      },
      "source": [
        "import pylab as pl\n",
        "from sklearn.cluster import KMeans\n",
        "number_of_clusters = range(2,50)\n",
        "kmeans = [KMeans(n_clusters=i,max_iter=1000,random_state=42) for i in number_of_clusters] # this is ust initialization and not fitting \n",
        "score = [-1*kmeans[i].fit(model_data).score(model_data) for i in range(len(kmeans))]\n",
        "pl.plot((number_of_clusters),score)\n",
        "pl.xlabel('Number of Clusters')\n",
        "pl.ylabel('Score')\n",
        "pl.title('Elbow Curve')\n",
        "pl.show()"
      ],
      "execution_count": null,
      "outputs": [
        {
          "output_type": "display_data",
          "data": {
            "image/png": "[encoded data removed]",
            "text/plain": [
              "<Figure size 432x288 with 1 Axes>"
            ]
          },
          "metadata": {
            "tags": [],
            "needs_background": "light"
          }
        }
      ]
    },
    {
      "cell_type": "code",
      "metadata": {
        "id": "VUTnw7P07oye"
      },
      "source": [
        "#Assingment for this week \n",
        "\n",
        "# RUNN KNN assuming any one movie and see the top 5 closest neigbours to that movie? \n",
        "#Closest in terms of distance mmetric. Find for a give movie \"0\"id what are teh closest movie for that?\n",
        "\n",
        "# RUNN Kmeans clustering on this data and first find the optimal K \n",
        "#and then for Moviw 0 id, find the cluster and then all movies in tha cluster will be your recommendation?\n"
      ],
      "execution_count": null,
      "outputs": []
    },
    {
      "cell_type": "markdown",
      "metadata": {
        "id": "e7rOxbnAzGom"
      },
      "source": [
        "- Further we will be using the **Cosine Similarity** to calculate a numeric quantity that denotes the similarity between two movies. \n",
        "- Since we have used the TF-IDF Vectorizer, calculating the Dot Product will directly give us the Cosine Similarity Score.\n",
        "- Therefore, we will use sklearn's **linear_kernel** instead of cosine_similarities since it is much faster."
      ]
    },
    {
      "cell_type": "code",
      "metadata": {
        "id": "OWgART6L4-Ti"
      },
      "source": [
        "# Cosine Theta  --> Cos 0 --> 1 , so, if theta is very small the value of cosine thetha is close to 1\n",
        "# So, parwise value which are close to 1 are similar meaning their thetha is very small. "
      ],
      "execution_count": null,
      "outputs": []
    },
    {
      "cell_type": "code",
      "metadata": {
        "id": "m-iQ4w35zGon",
        "colab": {
          "base_uri": "https://localhost:8080/"
        },
        "outputId": "ef14a82a-87b2-4496-9b76-c49be929b514"
      },
      "source": [
        "from sklearn.metrics.pairwise import linear_kernel\n",
        "cosine_sim = linear_kernel(tfidf_matrix, tfidf_matrix)\n",
        "cosine_sim[:4, :4]"
      ],
      "execution_count": null,
      "outputs": [
        {
          "output_type": "execute_result",
          "data": {
            "text/plain": [
              "array([[1.        , 0.14193614, 0.09010857, 0.1056164 ],\n",
              "       [0.14193614, 1.        , 0.        , 0.        ],\n",
              "       [0.09010857, 0.        , 1.        , 0.1719888 ],\n",
              "       [0.1056164 , 0.        , 0.1719888 , 1.        ]])"
            ]
          },
          "metadata": {
            "tags": []
          },
          "execution_count": 5
        }
      ]
    },
    {
      "cell_type": "code",
      "metadata": {
        "colab": {
          "base_uri": "https://localhost:8080/"
        },
        "id": "2PsGZgQ73REV",
        "outputId": "d996aa57-3081-4155-932a-a79ffcf74da5"
      },
      "source": [
        "cosine_sim[0][0]  # This is your cosine similarty between first row (first movie) with its own \n",
        "# this seems to be similar because its the same movie. "
      ],
      "execution_count": null,
      "outputs": [
        {
          "output_type": "execute_result",
          "data": {
            "text/plain": [
              "0.9999999999999998"
            ]
          },
          "metadata": {
            "tags": []
          },
          "execution_count": 70
        }
      ]
    },
    {
      "cell_type": "code",
      "metadata": {
        "colab": {
          "base_uri": "https://localhost:8080/"
        },
        "id": "HswjKQNp5gwJ",
        "outputId": "213382a9-98d0-4783-b339-24cd4be2f9b6"
      },
      "source": [
        "cosine_sim[0][1] # This is your cosine similarty between first row (first movie) with 2nd row (2nd movie)\n",
        "# this seems to be not similar"
      ],
      "execution_count": null,
      "outputs": [
        {
          "output_type": "execute_result",
          "data": {
            "text/plain": [
              "0.14193613540291977"
            ]
          },
          "metadata": {
            "tags": []
          },
          "execution_count": 71
        }
      ]
    },
    {
      "cell_type": "code",
      "metadata": {
        "colab": {
          "base_uri": "https://localhost:8080/"
        },
        "id": "8Ou5yhmi5ipz",
        "outputId": "aa473329-724f-448c-d7d8-8ad794d3a4fd"
      },
      "source": [
        "cosine_sim[0][2]   # This is your cosine similarty between first row (first movie) with 3rd row (3rd movie)\n",
        "# this seems to be not similar"
      ],
      "execution_count": null,
      "outputs": [
        {
          "output_type": "execute_result",
          "data": {
            "text/plain": [
              "0.09010857273968623"
            ]
          },
          "metadata": {
            "tags": []
          },
          "execution_count": 72
        }
      ]
    },
    {
      "cell_type": "code",
      "metadata": {
        "colab": {
          "base_uri": "https://localhost:8080/"
        },
        "id": "t7uNrRny6YBo",
        "outputId": "b97edef9-3fae-4067-edf1-15461edb58b5"
      },
      "source": [
        "# I want similairty between 10th movie and 100th movie and i want to know the name of it?\n",
        "cosine_sim[0][2072]\n",
        "\n",
        "# Cos 0 =1 becuase these both are same point and will give you 0 degree theta "
      ],
      "execution_count": null,
      "outputs": [
        {
          "output_type": "execute_result",
          "data": {
            "text/plain": [
              "0.9999999999999998"
            ]
          },
          "metadata": {
            "tags": []
          },
          "execution_count": 79
        }
      ]
    },
    {
      "cell_type": "code",
      "metadata": {
        "colab": {
          "base_uri": "https://localhost:8080/"
        },
        "id": "3gWgZGiN6uoz",
        "outputId": "f0297ffe-5bcf-42e7-9832-e7a8edf29982"
      },
      "source": [
        "movies.iloc[0]"
      ],
      "execution_count": null,
      "outputs": [
        {
          "output_type": "execute_result",
          "data": {
            "text/plain": [
              "movie_id                                        1\n",
              "title                            Toy Story (1995)\n",
              "genres                Animation|Children's|Comedy\n",
              "genres2     ['Animation', \"Children's\", 'Comedy']\n",
              "Name: 0, dtype: object"
            ]
          },
          "metadata": {
            "tags": []
          },
          "execution_count": 78
        }
      ]
    },
    {
      "cell_type": "code",
      "metadata": {
        "colab": {
          "base_uri": "https://localhost:8080/"
        },
        "id": "vTdo06Q_6wxT",
        "outputId": "302890b8-16ca-4652-da39-327dc1cd2d7a"
      },
      "source": [
        "movies.iloc[2072]"
      ],
      "execution_count": null,
      "outputs": [
        {
          "output_type": "execute_result",
          "data": {
            "text/plain": [
              "movie_id                                     2141\n",
              "title                    American Tail, An (1986)\n",
              "genres                Animation|Children's|Comedy\n",
              "genres2     ['Animation', \"Children's\", 'Comedy']\n",
              "Name: 2072, dtype: object"
            ]
          },
          "metadata": {
            "tags": []
          },
          "execution_count": 80
        }
      ]
    },
    {
      "cell_type": "code",
      "metadata": {
        "id": "nPXeqx-qzGoq",
        "colab": {
          "base_uri": "https://localhost:8080/",
          "height": 34
        },
        "outputId": "6fcbfc63-023e-4e9c-a55d-16ff067c3aa0"
      },
      "source": [
        "cosine_sim.shape"
      ],
      "execution_count": null,
      "outputs": [
        {
          "output_type": "execute_result",
          "data": {
            "text/plain": [
              "(3883, 3883)"
            ]
          },
          "metadata": {
            "tags": []
          },
          "execution_count": 18
        }
      ]
    },
    {
      "cell_type": "markdown",
      "metadata": {
        "id": "GL_9Mr29zGou"
      },
      "source": [
        "- Now have a pairwise cosine similarity matrix for all the movies in the dataset. \n",
        "- Create a function that returns the 20 most similar movies based on the cosine similarity score."
      ]
    },
    {
      "cell_type": "markdown",
      "metadata": {
        "id": "b8AXHs4pzGou"
      },
      "source": [
        "#### Build a 1-dimensional array with movie titles"
      ]
    },
    {
      "cell_type": "code",
      "metadata": {
        "id": "s-Mqd2TEzGov"
      },
      "source": [
        "titles = movies['title']\n",
        "indices = pd.Series(movies.index, index=movies['title'])"
      ],
      "execution_count": null,
      "outputs": []
    },
    {
      "cell_type": "code",
      "metadata": {
        "colab": {
          "base_uri": "https://localhost:8080/"
        },
        "id": "wHsLffYF81KU",
        "outputId": "11780c2a-5f95-4ccf-9931-a186d7717f8e"
      },
      "source": [
        "cosine_sim[1]  # this is my cosine vector for 2nd movie where all cosine similairty w.r.t to all movies are preesnt?"
      ],
      "execution_count": null,
      "outputs": [
        {
          "output_type": "execute_result",
          "data": {
            "text/plain": [
              "array([0.14193614, 1.        , 0.        , ..., 0.        , 0.        ,\n",
              "       0.        ])"
            ]
          },
          "metadata": {
            "tags": []
          },
          "execution_count": 81
        }
      ]
    },
    {
      "cell_type": "code",
      "metadata": {
        "colab": {
          "base_uri": "https://localhost:8080/"
        },
        "id": "Ij87Sxq_9DIE",
        "outputId": "886c9f1b-72a1-4ec4-f396-d6108db59ddf"
      },
      "source": [
        "# total 3883 values , pick top 20 values which are closer to 1. \n",
        "# Top 20 Movie \n",
        "sorted(cosine_sim[1],reverse=True)[1:21]  # don't take 0, becuase 0 is same movie. The last index is excluded.  "
      ],
      "execution_count": null,
      "outputs": [
        {
          "output_type": "execute_result",
          "data": {
            "text/plain": [
              "[1.0000000000000002,\n",
              " 1.0000000000000002,\n",
              " 1.0000000000000002,\n",
              " 1.0000000000000002,\n",
              " 1.0000000000000002,\n",
              " 1.0000000000000002,\n",
              " 1.0000000000000002,\n",
              " 1.0000000000000002,\n",
              " 1.0000000000000002,\n",
              " 1.0000000000000002,\n",
              " 0.8932641188507049,\n",
              " 0.8159654968210237,\n",
              " 0.7563413106091682,\n",
              " 0.7563413106091682,\n",
              " 0.7563413106091682,\n",
              " 0.6763883995857534,\n",
              " 0.6763883995857534,\n",
              " 0.6763883995857534,\n",
              " 0.6763883995857534,\n",
              " 0.6763883995857534]"
            ]
          },
          "metadata": {
            "tags": []
          },
          "execution_count": 93
        }
      ]
    },
    {
      "cell_type": "code",
      "metadata": {
        "colab": {
          "base_uri": "https://localhost:8080/"
        },
        "id": "-kYs3gyo_IaR",
        "outputId": "0073129d-213d-4b99-f059-f74a2643eceb"
      },
      "source": [
        "sorted(enumerate(cosine_sim[1]),reverse=True)[1:21] # this has sorted on index (id) and not on value "
      ],
      "execution_count": null,
      "outputs": [
        {
          "output_type": "execute_result",
          "data": {
            "text/plain": [
              "[(3881, 0.0),\n",
              " (3880, 0.0),\n",
              " (3879, 0.0),\n",
              " (3878, 0.0),\n",
              " (3877, 0.0),\n",
              " (3876, 0.0),\n",
              " (3875, 0.23749181598003302),\n",
              " (3874, 0.0),\n",
              " (3873, 0.0),\n",
              " (3872, 0.0),\n",
              " (3871, 0.0),\n",
              " (3870, 0.0),\n",
              " (3869, 0.0),\n",
              " (3868, 0.0),\n",
              " (3867, 0.0),\n",
              " (3866, 0.0),\n",
              " (3865, 0.0),\n",
              " (3864, 0.0),\n",
              " (3863, 0.0),\n",
              " (3862, 0.0)]"
            ]
          },
          "metadata": {
            "tags": []
          },
          "execution_count": 94
        }
      ]
    },
    {
      "cell_type": "code",
      "metadata": {
        "id": "EVnJqa0nktaH"
      },
      "source": [
        "for i in listL:\r\n",
        "  do somehting \r\n",
        "\r\n",
        "lambda i:i+10\r\n",
        "# lambda operations are very fast compared to normal for loops \r\n",
        "# list comprehensions are faster than for loops \r\n",
        "\r\n",
        "# FOR Loops are very expensive \"time\" operations "
      ],
      "execution_count": null,
      "outputs": []
    },
    {
      "cell_type": "code",
      "metadata": {
        "colab": {
          "base_uri": "https://localhost:8080/"
        },
        "id": "d1Z6sQsG_jBV",
        "outputId": "0693228f-0365-4fa8-ae42-9379fc4ba3cc"
      },
      "source": [
        "#lambda ---> function to iterate on each element. We want the iteration because each value in the list is tuple\n",
        "#lambda of x creates a iterator of tuple, and in that we are specifying the key to be the first element of tuple -- whihc is your value. \n",
        "sorted(enumerate(cosine_sim[1]),reverse=True,key=lambda x: x[1])[1:21]\n",
        "# this does the sorting on the value and not on the index "
      ],
      "execution_count": null,
      "outputs": [
        {
          "output_type": "execute_result",
          "data": {
            "text/plain": [
              "[(55, 1.0000000000000002),\n",
              " (59, 1.0000000000000002),\n",
              " (124, 1.0000000000000002),\n",
              " (996, 1.0000000000000002),\n",
              " (1898, 1.0000000000000002),\n",
              " (1936, 1.0000000000000002),\n",
              " (1974, 1.0000000000000002),\n",
              " (2092, 1.0000000000000002),\n",
              " (2093, 1.0000000000000002),\n",
              " (2330, 1.0000000000000002),\n",
              " (1489, 0.8932641188507049),\n",
              " (1542, 0.8159654968210237),\n",
              " (1006, 0.7563413106091682),\n",
              " (1698, 0.7563413106091682),\n",
              " (2024, 0.7563413106091682),\n",
              " (7, 0.6763883995857534),\n",
              " (144, 0.6763883995857534),\n",
              " (156, 0.6763883995857534),\n",
              " (235, 0.6763883995857534),\n",
              " (388, 0.6763883995857534)]"
            ]
          },
          "metadata": {
            "tags": []
          },
          "execution_count": 95
        }
      ]
    },
    {
      "cell_type": "code",
      "metadata": {
        "colab": {
          "base_uri": "https://localhost:8080/"
        },
        "id": "nS4hIg49-mnx",
        "outputId": "943f0445-db90-4521-c8d4-66f19fd8e583"
      },
      "source": [
        "list(enumerate(cosine_sim[1])) # enumerate zips the resultant of index and its value in tuple.  "
      ],
      "execution_count": null,
      "outputs": [
        {
          "output_type": "execute_result",
          "data": {
            "text/plain": [
              "[(0, 0.14193613540291977),\n",
              " (1, 1.0000000000000002),\n",
              " (2, 0.0),\n",
              " (3, 0.0),\n",
              " (4, 0.0),\n",
              " (5, 0.0),\n",
              " (6, 0.0),\n",
              " (7, 0.6763883995857534),\n",
              " (8, 0.0),\n",
              " (9, 0.1260792372169743),\n",
              " (10, 0.0),\n",
              " (11, 0.0),\n",
              " (12, 0.17166695118069666),\n",
              " (13, 0.0),\n",
              " (14, 0.1252539937451661),\n",
              " (15, 0.0),\n",
              " (16, 0.0),\n",
              " (17, 0.0),\n",
              " (18, 0.0),\n",
              " (19, 0.0),\n",
              " (20, 0.0),\n",
              " (21, 0.0),\n",
              " (22, 0.0),\n",
              " (23, 0.0),\n",
              " (24, 0.0),\n",
              " (25, 0.0),\n",
              " (26, 0.0),\n",
              " (27, 0.0),\n",
              " (28, 0.13437294803478503),\n",
              " (29, 0.0),\n",
              " (30, 0.0),\n",
              " (31, 0.0),\n",
              " (32, 0.1494575101140202),\n",
              " (33, 0.16977594374874475),\n",
              " (34, 0.0),\n",
              " (35, 0.0),\n",
              " (36, 0.0),\n",
              " (37, 0.0),\n",
              " (38, 0.0),\n",
              " (39, 0.0),\n",
              " (40, 0.0),\n",
              " (41, 0.0),\n",
              " (42, 0.0),\n",
              " (43, 0.1902487742494387),\n",
              " (44, 0.0),\n",
              " (45, 0.0),\n",
              " (46, 0.0),\n",
              " (47, 0.10226734199799832),\n",
              " (48, 0.0),\n",
              " (49, 0.0),\n",
              " (50, 0.0),\n",
              " (51, 0.0),\n",
              " (52, 0.0),\n",
              " (53, 0.20491600730432896),\n",
              " (54, 0.0),\n",
              " (55, 1.0000000000000002),\n",
              " (56, 0.0),\n",
              " (57, 0.0),\n",
              " (58, 0.0),\n",
              " (59, 1.0000000000000002),\n",
              " (60, 0.0),\n",
              " (61, 0.0),\n",
              " (62, 0.0),\n",
              " (63, 0.0),\n",
              " (64, 0.0),\n",
              " (65, 0.0),\n",
              " (66, 0.0),\n",
              " (67, 0.0),\n",
              " (68, 0.0),\n",
              " (69, 0.0),\n",
              " (70, 0.0),\n",
              " (71, 0.0),\n",
              " (72, 0.0),\n",
              " (73, 0.0),\n",
              " (74, 0.0),\n",
              " (75, 0.0),\n",
              " (76, 0.0),\n",
              " (77, 0.0),\n",
              " (78, 0.0),\n",
              " (79, 0.0),\n",
              " (80, 0.0),\n",
              " (81, 0.0),\n",
              " (82, 0.0),\n",
              " (83, 0.0),\n",
              " (84, 0.0),\n",
              " (85, 0.1677553413034071),\n",
              " (86, 0.20491600730432896),\n",
              " (87, 0.0),\n",
              " (88, 0.0),\n",
              " (89, 0.0),\n",
              " (90, 0.0),\n",
              " (91, 0.0),\n",
              " (92, 0.0),\n",
              " (93, 0.0),\n",
              " (94, 0.0),\n",
              " (95, 0.0),\n",
              " (96, 0.0),\n",
              " (97, 0.0),\n",
              " (98, 0.0),\n",
              " (99, 0.0),\n",
              " (100, 0.0),\n",
              " (101, 0.0),\n",
              " (102, 0.0),\n",
              " (103, 0.0),\n",
              " (104, 0.0),\n",
              " (105, 0.42587283328777814),\n",
              " (106, 0.0),\n",
              " (107, 0.0),\n",
              " (108, 0.0),\n",
              " (109, 0.0),\n",
              " (110, 0.11687789826028891),\n",
              " (111, 0.0),\n",
              " (112, 0.0),\n",
              " (113, 0.0),\n",
              " (114, 0.0),\n",
              " (115, 0.0),\n",
              " (116, 0.0),\n",
              " (117, 0.0),\n",
              " (118, 0.0),\n",
              " (119, 0.0),\n",
              " (120, 0.0),\n",
              " (121, 0.0),\n",
              " (122, 0.0),\n",
              " (123, 0.0),\n",
              " (124, 1.0000000000000002),\n",
              " (125, 0.0),\n",
              " (126, 0.0),\n",
              " (127, 0.0),\n",
              " (128, 0.0),\n",
              " (129, 0.0),\n",
              " (130, 0.0),\n",
              " (131, 0.0),\n",
              " (132, 0.0),\n",
              " (133, 0.0),\n",
              " (134, 0.0),\n",
              " (135, 0.0),\n",
              " (136, 0.0),\n",
              " (137, 0.0),\n",
              " (138, 0.0),\n",
              " (139, 0.0),\n",
              " (140, 0.0),\n",
              " (141, 0.0),\n",
              " (142, 0.0),\n",
              " (143, 0.0),\n",
              " (144, 0.6763883995857534),\n",
              " (145, 0.0),\n",
              " (146, 0.0),\n",
              " (147, 0.0),\n",
              " (148, 0.0),\n",
              " (149, 0.0),\n",
              " (150, 0.0),\n",
              " (151, 0.10859671177078419),\n",
              " (152, 0.0),\n",
              " (153, 0.0),\n",
              " (154, 0.0),\n",
              " (155, 0.0),\n",
              " (156, 0.6763883995857534),\n",
              " (157, 0.0),\n",
              " (158, 0.08319698332117549),\n",
              " (159, 0.0),\n",
              " (160, 0.0),\n",
              " (161, 0.0),\n",
              " (162, 0.0),\n",
              " (163, 0.0),\n",
              " (164, 0.0),\n",
              " (165, 0.0),\n",
              " (166, 0.1183702334562749),\n",
              " (167, 0.507736261674598),\n",
              " (168, 0.0),\n",
              " (169, 0.0),\n",
              " (170, 0.0),\n",
              " (171, 0.11596901526637299),\n",
              " (172, 0.0),\n",
              " (173, 0.0),\n",
              " (174, 0.0),\n",
              " (175, 0.0),\n",
              " (176, 0.0),\n",
              " (177, 0.0),\n",
              " (178, 0.0),\n",
              " (179, 0.1496933709497917),\n",
              " (180, 0.0),\n",
              " (181, 0.0),\n",
              " (182, 0.0),\n",
              " (183, 0.0),\n",
              " (184, 0.0),\n",
              " (185, 0.0),\n",
              " (186, 0.0),\n",
              " (187, 0.0),\n",
              " (188, 0.0),\n",
              " (189, 0.0),\n",
              " (190, 0.0),\n",
              " (191, 0.0),\n",
              " (192, 0.0),\n",
              " (193, 0.0),\n",
              " (194, 0.0),\n",
              " (195, 0.0),\n",
              " (196, 0.0),\n",
              " (197, 0.0),\n",
              " (198, 0.0),\n",
              " (199, 0.0),\n",
              " (200, 0.0),\n",
              " (201, 0.0),\n",
              " (202, 0.0),\n",
              " (203, 0.0),\n",
              " (204, 0.0),\n",
              " (205, 0.0),\n",
              " (206, 0.1902487742494387),\n",
              " (207, 0.0),\n",
              " (208, 0.0),\n",
              " (209, 0.0),\n",
              " (210, 0.0),\n",
              " (211, 0.0),\n",
              " (212, 0.0),\n",
              " (213, 0.0),\n",
              " (214, 0.0),\n",
              " (215, 0.0),\n",
              " (216, 0.0),\n",
              " (217, 0.0),\n",
              " (218, 0.0),\n",
              " (219, 0.0),\n",
              " (220, 0.0),\n",
              " (221, 0.0),\n",
              " (222, 0.0),\n",
              " (223, 0.0),\n",
              " (224, 0.0),\n",
              " (225, 0.0),\n",
              " (226, 0.0),\n",
              " (227, 0.0),\n",
              " (228, 0.0),\n",
              " (229, 0.0),\n",
              " (230, 0.0),\n",
              " (231, 0.0),\n",
              " (232, 0.0),\n",
              " (233, 0.0),\n",
              " (234, 0.0),\n",
              " (235, 0.6763883995857534),\n",
              " (236, 0.12345678477495442),\n",
              " (237, 0.0),\n",
              " (238, 0.17839559698279664),\n",
              " (239, 0.0),\n",
              " (240, 0.0),\n",
              " (241, 0.17166695118069666),\n",
              " (242, 0.0),\n",
              " (243, 0.0),\n",
              " (244, 0.1768653742978755),\n",
              " (245, 0.0),\n",
              " (246, 0.0),\n",
              " (247, 0.20491600730432896),\n",
              " (248, 0.0),\n",
              " (249, 0.0),\n",
              " (250, 0.0),\n",
              " (251, 0.0),\n",
              " (252, 0.0),\n",
              " (253, 0.0),\n",
              " (254, 0.0),\n",
              " (255, 0.505660246551326),\n",
              " (256, 0.0),\n",
              " (257, 0.25798849996289674),\n",
              " (258, 0.0),\n",
              " (259, 0.17839559698279664),\n",
              " (260, 0.0),\n",
              " (261, 0.0),\n",
              " (262, 0.0),\n",
              " (263, 0.0),\n",
              " (264, 0.0),\n",
              " (265, 0.0),\n",
              " (266, 0.0),\n",
              " (267, 0.0),\n",
              " (268, 0.0),\n",
              " (269, 0.0),\n",
              " (270, 0.0),\n",
              " (271, 0.0),\n",
              " (272, 0.0),\n",
              " (273, 0.0),\n",
              " (274, 0.0),\n",
              " (275, 0.0),\n",
              " (276, 0.0),\n",
              " (277, 0.0),\n",
              " (278, 0.0),\n",
              " (279, 0.0),\n",
              " (280, 0.0),\n",
              " (281, 0.0),\n",
              " (282, 0.0),\n",
              " (283, 0.0),\n",
              " (284, 0.0),\n",
              " (285, 0.0),\n",
              " (286, 0.0),\n",
              " (287, 0.0),\n",
              " (288, 0.0),\n",
              " (289, 0.0),\n",
              " (290, 0.0),\n",
              " (291, 0.0),\n",
              " (292, 0.0),\n",
              " (293, 0.0),\n",
              " (294, 0.0),\n",
              " (295, 0.0),\n",
              " (296, 0.0),\n",
              " (297, 0.0),\n",
              " (298, 0.0),\n",
              " (299, 0.0),\n",
              " (300, 0.10816169314568252),\n",
              " (301, 0.0),\n",
              " (302, 0.0),\n",
              " (303, 0.0),\n",
              " (304, 0.0),\n",
              " (305, 0.0),\n",
              " (306, 0.0),\n",
              " (307, 0.0),\n",
              " (308, 0.0),\n",
              " (309, 0.0),\n",
              " (310, 0.17166695118069666),\n",
              " (311, 0.0),\n",
              " (312, 0.0),\n",
              " (313, 0.11596901526637299),\n",
              " (314, 0.35809290322257425),\n",
              " (315, 0.0),\n",
              " (316, 0.0),\n",
              " (317, 0.0),\n",
              " (318, 0.0),\n",
              " (319, 0.0),\n",
              " (320, 0.0),\n",
              " (321, 0.0),\n",
              " (322, 0.0),\n",
              " (323, 0.0),\n",
              " (324, 0.0),\n",
              " (325, 0.11596901526637299),\n",
              " (326, 0.0),\n",
              " (327, 0.0),\n",
              " (328, 0.0),\n",
              " (329, 0.0),\n",
              " (330, 0.0),\n",
              " (331, 0.0),\n",
              " (332, 0.0),\n",
              " (333, 0.0),\n",
              " (334, 0.0),\n",
              " (335, 0.0),\n",
              " (336, 0.1677553413034071),\n",
              " (337, 0.0),\n",
              " (338, 0.0),\n",
              " (339, 0.35114236300474577),\n",
              " (340, 0.0),\n",
              " (341, 0.0),\n",
              " (342, 0.0),\n",
              " (343, 0.0),\n",
              " (344, 0.0),\n",
              " (345, 0.1260792372169743),\n",
              " (346, 0.0),\n",
              " (347, 0.0),\n",
              " (348, 0.0),\n",
              " (349, 0.0),\n",
              " (350, 0.0),\n",
              " (351, 0.20491600730432896),\n",
              " (352, 0.0),\n",
              " (353, 0.0),\n",
              " (354, 0.0),\n",
              " (355, 0.0),\n",
              " (356, 0.0),\n",
              " (357, 0.0),\n",
              " (358, 0.4190105460843763),\n",
              " (359, 0.0),\n",
              " (360, 0.12236978998228572),\n",
              " (361, 0.0),\n",
              " (362, 0.0),\n",
              " (363, 0.1937685257700237),\n",
              " (364, 0.0),\n",
              " (365, 0.0),\n",
              " (366, 0.0),\n",
              " (367, 0.0),\n",
              " (368, 0.0),\n",
              " (369, 0.0),\n",
              " (370, 0.20491600730432896),\n",
              " (371, 0.0),\n",
              " (372, 0.0),\n",
              " (373, 0.0),\n",
              " (374, 0.0),\n",
              " (375, 0.0),\n",
              " (376, 0.11808862927077189),\n",
              " (377, 0.0),\n",
              " (378, 0.0),\n",
              " (379, 0.0),\n",
              " (380, 0.0),\n",
              " (381, 0.0),\n",
              " (382, 0.0),\n",
              " (383, 0.0),\n",
              " (384, 0.0),\n",
              " (385, 0.0),\n",
              " (386, 0.0),\n",
              " (387, 0.0),\n",
              " (388, 0.6763883995857534),\n",
              " (389, 0.0),\n",
              " (390, 0.0),\n",
              " (391, 0.0),\n",
              " (392, 0.0),\n",
              " (393, 0.0),\n",
              " (394, 0.0),\n",
              " (395, 0.0),\n",
              " (396, 0.0),\n",
              " (397, 0.0),\n",
              " (398, 0.0),\n",
              " (399, 0.0),\n",
              " (400, 0.0),\n",
              " (401, 0.0),\n",
              " (402, 0.0),\n",
              " (403, 0.0),\n",
              " (404, 0.0),\n",
              " (405, 0.0),\n",
              " (406, 0.0),\n",
              " (407, 0.0),\n",
              " (408, 0.0),\n",
              " (409, 0.0),\n",
              " (410, 0.0),\n",
              " (411, 0.0),\n",
              " (412, 0.0),\n",
              " (413, 0.0),\n",
              " (414, 0.0),\n",
              " (415, 0.0),\n",
              " (416, 0.0),\n",
              " (417, 0.6763883995857534),\n",
              " (418, 0.0),\n",
              " (419, 0.0),\n",
              " (420, 0.0),\n",
              " (421, 0.0),\n",
              " (422, 0.0),\n",
              " (423, 0.0),\n",
              " (424, 0.0),\n",
              " (425, 0.0),\n",
              " (426, 0.0),\n",
              " (427, 0.0),\n",
              " (428, 0.0),\n",
              " (429, 0.0),\n",
              " (430, 0.11687789826028891),\n",
              " (431, 0.0),\n",
              " (432, 0.0),\n",
              " (433, 0.0),\n",
              " (434, 0.0),\n",
              " (435, 0.0),\n",
              " (436, 0.0),\n",
              " (437, 0.0),\n",
              " (438, 0.0),\n",
              " (439, 0.0),\n",
              " (440, 0.0),\n",
              " (441, 0.0),\n",
              " (442, 0.0),\n",
              " (443, 0.0),\n",
              " (444, 0.0),\n",
              " (445, 0.0),\n",
              " (446, 0.0),\n",
              " (447, 0.0),\n",
              " (448, 0.0),\n",
              " (449, 0.0),\n",
              " (450, 0.0),\n",
              " (451, 0.507736261674598),\n",
              " (452, 0.0),\n",
              " (453, 0.0),\n",
              " (454, 0.0),\n",
              " (455, 0.0),\n",
              " (456, 0.0),\n",
              " (457, 0.0),\n",
              " (458, 0.1902487742494387),\n",
              " (459, 0.0),\n",
              " (460, 0.09916832842820784),\n",
              " (461, 0.0),\n",
              " (462, 0.0),\n",
              " (463, 0.0),\n",
              " (464, 0.0),\n",
              " (465, 0.0),\n",
              " (466, 0.0),\n",
              " (467, 0.0),\n",
              " (468, 0.0),\n",
              " (469, 0.0),\n",
              " (470, 0.0),\n",
              " (471, 0.0),\n",
              " (472, 0.0),\n",
              " (473, 0.0),\n",
              " (474, 0.0),\n",
              " (475, 0.0),\n",
              " (476, 0.11596901526637299),\n",
              " (477, 0.0),\n",
              " (478, 0.0),\n",
              " (479, 0.0),\n",
              " (480, 0.6763883995857534),\n",
              " (481, 0.0),\n",
              " (482, 0.0),\n",
              " (483, 0.0),\n",
              " (484, 0.0),\n",
              " (485, 0.0),\n",
              " (486, 0.0),\n",
              " (487, 0.0),\n",
              " (488, 0.0),\n",
              " (489, 0.0),\n",
              " (490, 0.0),\n",
              " (491, 0.0),\n",
              " (492, 0.0),\n",
              " (493, 0.0),\n",
              " (494, 0.0),\n",
              " (495, 0.0),\n",
              " (496, 0.0),\n",
              " (497, 0.0),\n",
              " (498, 0.1496933709497917),\n",
              " (499, 0.0),\n",
              " (500, 0.0),\n",
              " (501, 0.0),\n",
              " (502, 0.0),\n",
              " (503, 0.0),\n",
              " (504, 0.0),\n",
              " (505, 0.0),\n",
              " (506, 0.0),\n",
              " (507, 0.0),\n",
              " (508, 0.0),\n",
              " (509, 0.0),\n",
              " (510, 0.0),\n",
              " (511, 0.0),\n",
              " (512, 0.0),\n",
              " (513, 0.0),\n",
              " (514, 0.0),\n",
              " (515, 0.0),\n",
              " (516, 0.0),\n",
              " (517, 0.0),\n",
              " (518, 0.0),\n",
              " (519, 0.0),\n",
              " (520, 0.0),\n",
              " (521, 0.0),\n",
              " (522, 0.0),\n",
              " (523, 0.0),\n",
              " (524, 0.0),\n",
              " (525, 0.0),\n",
              " (526, 0.0),\n",
              " (527, 0.17839559698279664),\n",
              " (528, 0.0),\n",
              " (529, 0.0),\n",
              " (530, 0.0),\n",
              " (531, 0.0),\n",
              " (532, 0.0),\n",
              " (533, 0.0),\n",
              " (534, 0.0),\n",
              " (535, 0.0),\n",
              " (536, 0.0),\n",
              " (537, 0.0),\n",
              " (538, 0.0),\n",
              " (539, 0.0),\n",
              " (540, 0.0),\n",
              " (541, 0.0),\n",
              " (542, 0.3691995590474703),\n",
              " (543, 0.1260792372169743),\n",
              " (544, 0.0),\n",
              " (545, 0.0),\n",
              " (546, 0.0),\n",
              " (547, 0.13617558928093795),\n",
              " (548, 0.13669265155750962),\n",
              " (549, 0.0),\n",
              " (550, 0.0),\n",
              " (551, 0.0),\n",
              " (552, 0.0),\n",
              " (553, 0.0),\n",
              " (554, 0.5812262675987265),\n",
              " (555, 0.0),\n",
              " (556, 0.0),\n",
              " (557, 0.0),\n",
              " (558, 0.0),\n",
              " (559, 0.0),\n",
              " (560, 0.0),\n",
              " (561, 0.0),\n",
              " (562, 0.0),\n",
              " (563, 0.0),\n",
              " (564, 0.0),\n",
              " (565, 0.20491600730432896),\n",
              " (566, 0.0),\n",
              " (567, 0.0),\n",
              " (568, 0.0),\n",
              " (569, 0.0),\n",
              " (570, 0.0),\n",
              " (571, 0.20491600730432896),\n",
              " (572, 0.0),\n",
              " (573, 0.6763883995857534),\n",
              " (574, 0.0),\n",
              " (575, 0.0),\n",
              " (576, 0.0),\n",
              " (577, 0.0),\n",
              " (578, 0.0),\n",
              " (579, 0.0),\n",
              " (580, 0.0),\n",
              " (581, 0.0),\n",
              " (582, 0.20491600730432896),\n",
              " (583, 0.0),\n",
              " (584, 0.11197884704765064),\n",
              " (585, 0.0),\n",
              " (586, 0.10994878430166424),\n",
              " (587, 0.0),\n",
              " (588, 0.10510776687376731),\n",
              " (589, 0.0),\n",
              " (590, 0.12236978998228572),\n",
              " (591, 0.12236978998228572),\n",
              " (592, 0.17166695118069666),\n",
              " (593, 0.0),\n",
              " (594, 0.0),\n",
              " (595, 0.0),\n",
              " (596, 0.0),\n",
              " (597, 0.0),\n",
              " (598, 0.0),\n",
              " (599, 0.0),\n",
              " (600, 0.0),\n",
              " (601, 0.0),\n",
              " (602, 0.0),\n",
              " (603, 0.0),\n",
              " (604, 0.0),\n",
              " (605, 0.6763883995857534),\n",
              " (606, 0.07652318315574244),\n",
              " (607, 0.0),\n",
              " (608, 0.0),\n",
              " (609, 0.0),\n",
              " (610, 0.0),\n",
              " (611, 0.0),\n",
              " (612, 0.17166695118069666),\n",
              " (613, 0.0),\n",
              " (614, 0.0),\n",
              " (615, 0.0),\n",
              " (616, 0.0),\n",
              " (617, 0.0),\n",
              " (618, 0.0),\n",
              " (619, 0.0),\n",
              " (620, 0.0),\n",
              " (621, 0.0),\n",
              " (622, 0.0),\n",
              " (623, 0.0),\n",
              " (624, 0.0),\n",
              " (625, 0.0),\n",
              " (626, 0.12236978998228572),\n",
              " (627, 0.0),\n",
              " (628, 0.0),\n",
              " (629, 0.0),\n",
              " (630, 0.0),\n",
              " (631, 0.0),\n",
              " (632, 0.0),\n",
              " (633, 0.0),\n",
              " (634, 0.0),\n",
              " (635, 0.0),\n",
              " (636, 0.0),\n",
              " (637, 0.0),\n",
              " (638, 0.0),\n",
              " (639, 0.0),\n",
              " (640, 0.0),\n",
              " (641, 0.0),\n",
              " (642, 0.10997465428942818),\n",
              " (643, 0.0),\n",
              " (644, 0.0),\n",
              " (645, 0.0),\n",
              " (646, 0.0),\n",
              " (647, 0.3425566924199357),\n",
              " (648, 0.0),\n",
              " (649, 0.0),\n",
              " (650, 0.0),\n",
              " (651, 0.0),\n",
              " (652, 0.0),\n",
              " (653, 0.0),\n",
              " (654, 0.0),\n",
              " (655, 0.12236978998228572),\n",
              " (656, 0.0),\n",
              " (657, 0.0),\n",
              " (658, 0.0),\n",
              " (659, 0.0),\n",
              " (660, 0.0),\n",
              " (661, 0.0),\n",
              " (662, 0.0),\n",
              " (663, 0.0),\n",
              " (664, 0.0),\n",
              " (665, 0.0),\n",
              " (666, 0.0),\n",
              " (667, 0.34217935800715804),\n",
              " (668, 0.13437294803478503),\n",
              " (669, 0.0),\n",
              " (670, 0.0),\n",
              " (671, 0.0),\n",
              " (672, 0.0),\n",
              " (673, 0.0),\n",
              " (674, 0.0),\n",
              " (675, 0.0),\n",
              " (676, 0.0),\n",
              " (677, 0.0),\n",
              " (678, 0.0),\n",
              " (679, 0.0),\n",
              " (680, 0.10235577766527348),\n",
              " (681, 0.0),\n",
              " (682, 0.0),\n",
              " (683, 0.0),\n",
              " (684, 0.0),\n",
              " (685, 0.0),\n",
              " (686, 0.0),\n",
              " (687, 0.0),\n",
              " (688, 0.0),\n",
              " (689, 0.0),\n",
              " (690, 0.0),\n",
              " (691, 0.0),\n",
              " (692, 0.0),\n",
              " (693, 0.0),\n",
              " (694, 0.0),\n",
              " (695, 0.1902487742494387),\n",
              " (696, 0.0),\n",
              " (697, 0.0),\n",
              " (698, 0.0),\n",
              " (699, 0.0),\n",
              " (700, 0.17166695118069666),\n",
              " (701, 0.0),\n",
              " (702, 0.6763883995857534),\n",
              " (703, 0.0),\n",
              " (704, 0.0),\n",
              " (705, 0.0),\n",
              " (706, 0.0),\n",
              " (707, 0.0),\n",
              " (708, 0.0),\n",
              " (709, 0.0),\n",
              " (710, 0.0),\n",
              " (711, 0.0),\n",
              " (712, 0.0),\n",
              " (713, 0.0),\n",
              " (714, 0.0),\n",
              " (715, 0.0),\n",
              " (716, 0.0),\n",
              " (717, 0.0),\n",
              " (718, 0.0),\n",
              " (719, 0.0),\n",
              " (720, 0.0),\n",
              " (721, 0.0),\n",
              " (722, 0.0),\n",
              " (723, 0.0),\n",
              " (724, 0.1260792372169743),\n",
              " (725, 0.0),\n",
              " (726, 0.0),\n",
              " (727, 0.10439467177463839),\n",
              " (728, 0.0),\n",
              " (729, 0.0),\n",
              " (730, 0.0),\n",
              " (731, 0.0),\n",
              " (732, 0.0),\n",
              " (733, 0.0),\n",
              " (734, 0.0),\n",
              " (735, 0.0),\n",
              " (736, 0.0),\n",
              " (737, 0.0),\n",
              " (738, 0.0),\n",
              " (739, 0.0),\n",
              " (740, 0.0),\n",
              " (741, 0.0),\n",
              " (742, 0.0),\n",
              " (743, 0.0),\n",
              " (744, 0.6763883995857534),\n",
              " (745, 0.17839559698279664),\n",
              " (746, 0.0),\n",
              " (747, 0.0),\n",
              " (748, 0.0),\n",
              " (749, 0.0),\n",
              " (750, 0.0),\n",
              " (751, 0.3399040198123365),\n",
              " (752, 0.0),\n",
              " (753, 0.0),\n",
              " (754, 0.0),\n",
              " (755, 0.0),\n",
              " (756, 0.0),\n",
              " (757, 0.0),\n",
              " (758, 0.0),\n",
              " (759, 0.0),\n",
              " (760, 0.0),\n",
              " (761, 0.0),\n",
              " (762, 0.0),\n",
              " (763, 0.0),\n",
              " (764, 0.0),\n",
              " (765, 0.0),\n",
              " (766, 0.0),\n",
              " (767, 0.0),\n",
              " (768, 0.0),\n",
              " (769, 0.0),\n",
              " (770, 0.0),\n",
              " (771, 0.0),\n",
              " (772, 0.0),\n",
              " (773, 0.12236978998228572),\n",
              " (774, 0.0),\n",
              " (775, 0.0),\n",
              " (776, 0.0),\n",
              " (777, 0.0),\n",
              " (778, 0.15943545912452098),\n",
              " (779, 0.0),\n",
              " (780, 0.0),\n",
              " (781, 0.0),\n",
              " (782, 0.472914594270857),\n",
              " (783, 0.0),\n",
              " (784, 0.0),\n",
              " (785, 0.0),\n",
              " (786, 0.0),\n",
              " (787, 0.0),\n",
              " (788, 0.1260792372169743),\n",
              " (789, 0.0),\n",
              " (790, 0.0),\n",
              " (791, 0.20491600730432896),\n",
              " (792, 0.0),\n",
              " (793, 0.0),\n",
              " (794, 0.0),\n",
              " (795, 0.0),\n",
              " (796, 0.0),\n",
              " (797, 0.0),\n",
              " (798, 0.6763883995857534),\n",
              " (799, 0.1902487742494387),\n",
              " (800, 0.35809290322257425),\n",
              " (801, 0.0),\n",
              " (802, 0.0),\n",
              " (803, 0.0),\n",
              " (804, 0.0),\n",
              " (805, 0.0),\n",
              " (806, 0.0),\n",
              " (807, 0.0),\n",
              " (808, 0.0),\n",
              " (809, 0.0),\n",
              " (810, 0.0),\n",
              " (811, 0.0),\n",
              " (812, 0.0),\n",
              " (813, 0.0),\n",
              " (814, 0.0),\n",
              " (815, 0.0),\n",
              " (816, 0.0),\n",
              " (817, 0.6763883995857534),\n",
              " (818, 0.0),\n",
              " (819, 0.0),\n",
              " (820, 0.0),\n",
              " (821, 0.0),\n",
              " (822, 0.0),\n",
              " (823, 0.0),\n",
              " (824, 0.0),\n",
              " (825, 0.1260792372169743),\n",
              " (826, 0.20491600730432896),\n",
              " (827, 0.0),\n",
              " (828, 0.0),\n",
              " (829, 0.0),\n",
              " (830, 0.0),\n",
              " (831, 0.0),\n",
              " (832, 0.0),\n",
              " (833, 0.0),\n",
              " (834, 0.0),\n",
              " (835, 0.0),\n",
              " (836, 0.0),\n",
              " (837, 0.0),\n",
              " (838, 0.10146286196762602),\n",
              " (839, 0.0),\n",
              " (840, 0.0),\n",
              " (841, 0.0),\n",
              " (842, 0.0),\n",
              " (843, 0.0),\n",
              " (844, 0.0),\n",
              " (845, 0.0),\n",
              " (846, 0.0),\n",
              " (847, 0.0),\n",
              " (848, 0.0),\n",
              " (849, 0.0),\n",
              " (850, 0.0),\n",
              " (851, 0.0),\n",
              " (852, 0.0),\n",
              " (853, 0.0),\n",
              " (854, 0.0),\n",
              " (855, 0.0),\n",
              " (856, 0.0),\n",
              " (857, 0.0),\n",
              " (858, 0.0),\n",
              " (859, 0.0),\n",
              " (860, 0.0),\n",
              " (861, 0.0),\n",
              " (862, 0.0),\n",
              " (863, 0.0),\n",
              " (864, 0.0),\n",
              " (865, 0.0),\n",
              " (866, 0.0),\n",
              " (867, 0.0),\n",
              " (868, 0.0),\n",
              " (869, 0.0),\n",
              " (870, 0.20491600730432896),\n",
              " (871, 0.0),\n",
              " (872, 0.0),\n",
              " (873, 0.3264223751420502),\n",
              " (874, 0.0),\n",
              " (875, 0.0),\n",
              " (876, 0.17166695118069666),\n",
              " (877, 0.0),\n",
              " (878, 0.0),\n",
              " (879, 0.0),\n",
              " (880, 0.0),\n",
              " (881, 0.0),\n",
              " (882, 0.0),\n",
              " (883, 0.0),\n",
              " (884, 0.0),\n",
              " (885, 0.13323672381973234),\n",
              " (886, 0.0),\n",
              " (887, 0.0),\n",
              " (888, 0.0),\n",
              " (889, 0.0),\n",
              " (890, 0.0),\n",
              " (891, 0.0),\n",
              " (892, 0.0),\n",
              " (893, 0.0),\n",
              " (894, 0.0),\n",
              " (895, 0.0),\n",
              " (896, 0.0),\n",
              " (897, 0.0),\n",
              " (898, 0.0),\n",
              " (899, 0.0),\n",
              " (900, 0.0),\n",
              " (901, 0.0),\n",
              " (902, 0.0),\n",
              " (903, 0.0),\n",
              " (904, 0.0),\n",
              " (905, 0.17839559698279664),\n",
              " (906, 0.0),\n",
              " (907, 0.39159594238189865),\n",
              " (908, 0.0),\n",
              " (909, 0.0),\n",
              " (910, 0.0),\n",
              " (911, 0.0),\n",
              " (912, 0.0),\n",
              " (913, 0.1494575101140202),\n",
              " (914, 0.0),\n",
              " (915, 0.0),\n",
              " (916, 0.0),\n",
              " (917, 0.0),\n",
              " (918, 0.0),\n",
              " (919, 0.0),\n",
              " (920, 0.0),\n",
              " (921, 0.0),\n",
              " (922, 0.0),\n",
              " (923, 0.0),\n",
              " (924, 0.0),\n",
              " (925, 0.0),\n",
              " (926, 0.0),\n",
              " (927, 0.0),\n",
              " (928, 0.1902487742494387),\n",
              " (929, 0.3399040198123365),\n",
              " (930, 0.0),\n",
              " (931, 0.0),\n",
              " (932, 0.0),\n",
              " (933, 0.0),\n",
              " (934, 0.0),\n",
              " (935, 0.0),\n",
              " (936, 0.0),\n",
              " (937, 0.0),\n",
              " (938, 0.0),\n",
              " (939, 0.0),\n",
              " (940, 0.17013748123321282),\n",
              " (941, 0.0),\n",
              " (942, 0.0),\n",
              " (943, 0.0),\n",
              " (944, 0.0),\n",
              " (945, 0.0),\n",
              " (946, 0.0),\n",
              " (947, 0.0),\n",
              " (948, 0.0),\n",
              " (949, 0.0),\n",
              " (950, 0.0),\n",
              " (951, 0.0),\n",
              " (952, 0.0),\n",
              " (953, 0.0),\n",
              " (954, 0.0),\n",
              " (955, 0.0),\n",
              " (956, 0.0),\n",
              " (957, 0.09902810014169594),\n",
              " (958, 0.0),\n",
              " (959, 0.0),\n",
              " (960, 0.0),\n",
              " (961, 0.0),\n",
              " (962, 0.0),\n",
              " (963, 0.0),\n",
              " (964, 0.0),\n",
              " (965, 0.0),\n",
              " (966, 0.0),\n",
              " (967, 0.0),\n",
              " (968, 0.0),\n",
              " (969, 0.0),\n",
              " (970, 0.0),\n",
              " (971, 0.0),\n",
              " (972, 0.0),\n",
              " (973, 0.0),\n",
              " (974, 0.6763883995857534),\n",
              " (975, 0.0),\n",
              " (976, 0.0),\n",
              " (977, 0.0),\n",
              " (978, 0.1260792372169743),\n",
              " (979, 0.0),\n",
              " (980, 0.0),\n",
              " (981, 0.0),\n",
              " (982, 0.0),\n",
              " (983, 0.0),\n",
              " (984, 0.0),\n",
              " (985, 0.0),\n",
              " (986, 0.0),\n",
              " (987, 0.0),\n",
              " (988, 0.0),\n",
              " (989, 0.0),\n",
              " (990, 0.0),\n",
              " (991, 0.0),\n",
              " (992, 0.20491600730432896),\n",
              " (993, 0.0),\n",
              " (994, 0.1249571120178778),\n",
              " (995, 0.0),\n",
              " (996, 1.0000000000000002),\n",
              " (997, 0.20491600730432896),\n",
              " (998, 0.5482849542692554),\n",
              " (999, 0.17839559698279664),\n",
              " ...]"
            ]
          },
          "metadata": {
            "tags": []
          },
          "execution_count": 91
        }
      ]
    },
    {
      "cell_type": "markdown",
      "metadata": {
        "id": "1x61Q-XTzGox"
      },
      "source": [
        "#### Function that get movie recommendations based on the cosine similarity score of movie genres"
      ]
    },
    {
      "cell_type": "code",
      "metadata": {
        "colab": {
          "base_uri": "https://localhost:8080/"
        },
        "id": "ZlwUenkCeW1t",
        "outputId": "b02eca58-0ab3-4ce0-f8f7-2fae7198be30"
      },
      "source": [
        "sorted(list(enumerate(cosine_sim[1])), key=lambda x: x[1], reverse=True)[1:20]"
      ],
      "execution_count": null,
      "outputs": [
        {
          "output_type": "execute_result",
          "data": {
            "text/plain": [
              "[(55, 1.0000000000000002),\n",
              " (59, 1.0000000000000002),\n",
              " (124, 1.0000000000000002),\n",
              " (996, 1.0000000000000002),\n",
              " (1898, 1.0000000000000002),\n",
              " (1936, 1.0000000000000002),\n",
              " (1974, 1.0000000000000002),\n",
              " (2092, 1.0000000000000002),\n",
              " (2093, 1.0000000000000002),\n",
              " (2330, 1.0000000000000002),\n",
              " (1489, 0.8932641188507049),\n",
              " (1542, 0.8159654968210237),\n",
              " (1006, 0.7563413106091682),\n",
              " (1698, 0.7563413106091682),\n",
              " (2024, 0.7563413106091682),\n",
              " (7, 0.6763883995857534),\n",
              " (144, 0.6763883995857534),\n",
              " (156, 0.6763883995857534),\n",
              " (235, 0.6763883995857534)]"
            ]
          },
          "metadata": {
            "tags": []
          },
          "execution_count": 16
        }
      ]
    },
    {
      "cell_type": "code",
      "metadata": {
        "id": "Ql7g2p07zGox"
      },
      "source": [
        "def genre_recommendations(title):\n",
        "    idx = indices[title]\n",
        "    sim_scores = list(enumerate(cosine_sim[idx])) # to get the vector of that title, i need the index \n",
        "    sim_scores = sorted(sim_scores, key=lambda x: x[1], reverse=True) # sort on value \n",
        "    sim_scores = sim_scores[1:21]\n",
        "    movie_indices = [i[0] for i in sim_scores]\n",
        "    return titles.iloc[movie_indices]"
      ],
      "execution_count": null,
      "outputs": []
    },
    {
      "cell_type": "code",
      "metadata": {
        "id": "yzejqxhdBg0V"
      },
      "source": [
        "def genre_recommendations(title):\n",
        "    idx = indices[title]\n",
        "    sim_scores = list(enumerate(cosine_sim[idx])) # to get the vector of that title, i need the index \n",
        "    sim_scores = sorted(sim_scores, key=lambda x: x[1], reverse=True) # sort on value \n",
        "    sim_scores = sim_scores[1:21]\n",
        "    movie_indices = [i[0] for i in sim_scores]\n",
        "    return movies[movies.index.isin(movie_indices)]"
      ],
      "execution_count": null,
      "outputs": []
    },
    {
      "cell_type": "markdown",
      "metadata": {
        "id": "ynlgukRYzGoz"
      },
      "source": [
        "Let's try and get the top recommendations for a few movies and see how good the recommendations are."
      ]
    },
    {
      "cell_type": "code",
      "metadata": {
        "id": "iUW2-U9BzGo0",
        "colab": {
          "base_uri": "https://localhost:8080/",
          "height": 355
        },
        "outputId": "e0009058-2e95-41a3-dc4b-34bf71cd2789"
      },
      "source": [
        "genre_recommendations('Good Will Hunting (1997)').head(10)"
      ],
      "execution_count": null,
      "outputs": [
        {
          "output_type": "execute_result",
          "data": {
            "text/html": [
              "<div>\n",
              "<style scoped>\n",
              "    .dataframe tbody tr th:only-of-type {\n",
              "        vertical-align: middle;\n",
              "    }\n",
              "\n",
              "    .dataframe tbody tr th {\n",
              "        vertical-align: top;\n",
              "    }\n",
              "\n",
              "    .dataframe thead th {\n",
              "        text-align: right;\n",
              "    }\n",
              "</style>\n",
              "<table border=\"1\" class=\"dataframe\">\n",
              "  <thead>\n",
              "    <tr style=\"text-align: right;\">\n",
              "      <th></th>\n",
              "      <th>movie_id</th>\n",
              "      <th>title</th>\n",
              "      <th>genres</th>\n",
              "      <th>genres2</th>\n",
              "    </tr>\n",
              "  </thead>\n",
              "  <tbody>\n",
              "    <tr>\n",
              "      <th>25</th>\n",
              "      <td>26</td>\n",
              "      <td>Othello (1995)</td>\n",
              "      <td>Drama</td>\n",
              "      <td>['Drama']</td>\n",
              "    </tr>\n",
              "    <tr>\n",
              "      <th>26</th>\n",
              "      <td>27</td>\n",
              "      <td>Now and Then (1995)</td>\n",
              "      <td>Drama</td>\n",
              "      <td>['Drama']</td>\n",
              "    </tr>\n",
              "    <tr>\n",
              "      <th>29</th>\n",
              "      <td>30</td>\n",
              "      <td>Shanghai Triad (Yao a yao yao dao waipo qiao) ...</td>\n",
              "      <td>Drama</td>\n",
              "      <td>['Drama']</td>\n",
              "    </tr>\n",
              "    <tr>\n",
              "      <th>30</th>\n",
              "      <td>31</td>\n",
              "      <td>Dangerous Minds (1995)</td>\n",
              "      <td>Drama</td>\n",
              "      <td>['Drama']</td>\n",
              "    </tr>\n",
              "    <tr>\n",
              "      <th>35</th>\n",
              "      <td>36</td>\n",
              "      <td>Dead Man Walking (1995)</td>\n",
              "      <td>Drama</td>\n",
              "      <td>['Drama']</td>\n",
              "    </tr>\n",
              "    <tr>\n",
              "      <th>39</th>\n",
              "      <td>40</td>\n",
              "      <td>Cry, the Beloved Country (1995)</td>\n",
              "      <td>Drama</td>\n",
              "      <td>['Drama']</td>\n",
              "    </tr>\n",
              "    <tr>\n",
              "      <th>42</th>\n",
              "      <td>43</td>\n",
              "      <td>Restoration (1995)</td>\n",
              "      <td>Drama</td>\n",
              "      <td>['Drama']</td>\n",
              "    </tr>\n",
              "    <tr>\n",
              "      <th>52</th>\n",
              "      <td>53</td>\n",
              "      <td>Lamerica (1994)</td>\n",
              "      <td>Drama</td>\n",
              "      <td>['Drama']</td>\n",
              "    </tr>\n",
              "    <tr>\n",
              "      <th>54</th>\n",
              "      <td>55</td>\n",
              "      <td>Georgia (1995)</td>\n",
              "      <td>Drama</td>\n",
              "      <td>['Drama']</td>\n",
              "    </tr>\n",
              "    <tr>\n",
              "      <th>56</th>\n",
              "      <td>57</td>\n",
              "      <td>Home for the Holidays (1995)</td>\n",
              "      <td>Drama</td>\n",
              "      <td>['Drama']</td>\n",
              "    </tr>\n",
              "  </tbody>\n",
              "</table>\n",
              "</div>"
            ],
            "text/plain": [
              "    movie_id  ...    genres2\n",
              "25        26  ...  ['Drama']\n",
              "26        27  ...  ['Drama']\n",
              "29        30  ...  ['Drama']\n",
              "30        31  ...  ['Drama']\n",
              "35        36  ...  ['Drama']\n",
              "39        40  ...  ['Drama']\n",
              "42        43  ...  ['Drama']\n",
              "52        53  ...  ['Drama']\n",
              "54        55  ...  ['Drama']\n",
              "56        57  ...  ['Drama']\n",
              "\n",
              "[10 rows x 4 columns]"
            ]
          },
          "metadata": {
            "tags": []
          },
          "execution_count": 102
        }
      ]
    },
    {
      "cell_type": "code",
      "metadata": {
        "id": "oXV5MuAnzGo3",
        "colab": {
          "base_uri": "https://localhost:8080/",
          "height": 355
        },
        "outputId": "2a18950b-593d-40f3-9353-309348f118eb"
      },
      "source": [
        "genre_recommendations('Toy Story (1995)').head(10)"
      ],
      "execution_count": null,
      "outputs": [
        {
          "output_type": "execute_result",
          "data": {
            "text/html": [
              "<div>\n",
              "<style scoped>\n",
              "    .dataframe tbody tr th:only-of-type {\n",
              "        vertical-align: middle;\n",
              "    }\n",
              "\n",
              "    .dataframe tbody tr th {\n",
              "        vertical-align: top;\n",
              "    }\n",
              "\n",
              "    .dataframe thead th {\n",
              "        text-align: right;\n",
              "    }\n",
              "</style>\n",
              "<table border=\"1\" class=\"dataframe\">\n",
              "  <thead>\n",
              "    <tr style=\"text-align: right;\">\n",
              "      <th></th>\n",
              "      <th>movie_id</th>\n",
              "      <th>title</th>\n",
              "      <th>genres</th>\n",
              "      <th>genres2</th>\n",
              "    </tr>\n",
              "  </thead>\n",
              "  <tbody>\n",
              "    <tr>\n",
              "      <th>12</th>\n",
              "      <td>13</td>\n",
              "      <td>Balto (1995)</td>\n",
              "      <td>Animation|Children's</td>\n",
              "      <td>['Animation', \"Children's\"]</td>\n",
              "    </tr>\n",
              "    <tr>\n",
              "      <th>236</th>\n",
              "      <td>239</td>\n",
              "      <td>Goofy Movie, A (1995)</td>\n",
              "      <td>Animation|Children's|Comedy|Romance</td>\n",
              "      <td>['Animation', \"Children's\", 'Comedy', 'Romance']</td>\n",
              "    </tr>\n",
              "    <tr>\n",
              "      <th>241</th>\n",
              "      <td>244</td>\n",
              "      <td>Gumby: The Movie (1995)</td>\n",
              "      <td>Animation|Children's</td>\n",
              "      <td>['Animation', \"Children's\"]</td>\n",
              "    </tr>\n",
              "    <tr>\n",
              "      <th>310</th>\n",
              "      <td>313</td>\n",
              "      <td>Swan Princess, The (1994)</td>\n",
              "      <td>Animation|Children's</td>\n",
              "      <td>['Animation', \"Children's\"]</td>\n",
              "    </tr>\n",
              "    <tr>\n",
              "      <th>592</th>\n",
              "      <td>596</td>\n",
              "      <td>Pinocchio (1940)</td>\n",
              "      <td>Animation|Children's</td>\n",
              "      <td>['Animation', \"Children's\"]</td>\n",
              "    </tr>\n",
              "    <tr>\n",
              "      <th>612</th>\n",
              "      <td>616</td>\n",
              "      <td>Aristocats, The (1970)</td>\n",
              "      <td>Animation|Children's</td>\n",
              "      <td>['Animation', \"Children's\"]</td>\n",
              "    </tr>\n",
              "    <tr>\n",
              "      <th>700</th>\n",
              "      <td>709</td>\n",
              "      <td>Oliver &amp; Company (1988)</td>\n",
              "      <td>Animation|Children's</td>\n",
              "      <td>['Animation', \"Children's\"]</td>\n",
              "    </tr>\n",
              "    <tr>\n",
              "      <th>876</th>\n",
              "      <td>888</td>\n",
              "      <td>Land Before Time III: The Time of the Great Gi...</td>\n",
              "      <td>Animation|Children's</td>\n",
              "      <td>['Animation', \"Children's\"]</td>\n",
              "    </tr>\n",
              "    <tr>\n",
              "      <th>1010</th>\n",
              "      <td>1023</td>\n",
              "      <td>Winnie the Pooh and the Blustery Day (1968)</td>\n",
              "      <td>Animation|Children's</td>\n",
              "      <td>['Animation', \"Children's\"]</td>\n",
              "    </tr>\n",
              "    <tr>\n",
              "      <th>1012</th>\n",
              "      <td>1025</td>\n",
              "      <td>Sword in the Stone, The (1963)</td>\n",
              "      <td>Animation|Children's</td>\n",
              "      <td>['Animation', \"Children's\"]</td>\n",
              "    </tr>\n",
              "  </tbody>\n",
              "</table>\n",
              "</div>"
            ],
            "text/plain": [
              "      movie_id  ...                                           genres2\n",
              "12          13  ...                       ['Animation', \"Children's\"]\n",
              "236        239  ...  ['Animation', \"Children's\", 'Comedy', 'Romance']\n",
              "241        244  ...                       ['Animation', \"Children's\"]\n",
              "310        313  ...                       ['Animation', \"Children's\"]\n",
              "592        596  ...                       ['Animation', \"Children's\"]\n",
              "612        616  ...                       ['Animation', \"Children's\"]\n",
              "700        709  ...                       ['Animation', \"Children's\"]\n",
              "876        888  ...                       ['Animation', \"Children's\"]\n",
              "1010      1023  ...                       ['Animation', \"Children's\"]\n",
              "1012      1025  ...                       ['Animation', \"Children's\"]\n",
              "\n",
              "[10 rows x 4 columns]"
            ]
          },
          "metadata": {
            "tags": []
          },
          "execution_count": 103
        }
      ]
    },
    {
      "cell_type": "code",
      "metadata": {
        "id": "xPcxASEmzGo5",
        "colab": {
          "base_uri": "https://localhost:8080/",
          "height": 202
        },
        "outputId": "4a6496b4-83f4-492b-e326-60b36751649d"
      },
      "source": [
        "genre_recommendations('Saving Private Ryan (1998)').head(10)"
      ],
      "execution_count": null,
      "outputs": [
        {
          "output_type": "execute_result",
          "data": {
            "text/plain": [
              "461            Heaven & Earth (1993)\n",
              "1204        Full Metal Jacket (1987)\n",
              "1214     Boat, The (Das Boot) (1981)\n",
              "1222                    Glory (1989)\n",
              "1545                G.I. Jane (1997)\n",
              "1959      Saving Private Ryan (1998)\n",
              "2358       Thin Red Line, The (1998)\n",
              "2993         Longest Day, The (1962)\n",
              "3559            Flying Tigers (1942)\n",
              "3574    Fighting Seabees, The (1944)\n",
              "Name: title, dtype: object"
            ]
          },
          "metadata": {
            "tags": []
          },
          "execution_count": 23
        }
      ]
    },
    {
      "cell_type": "markdown",
      "metadata": {
        "id": "SH5aS6-7zGo-"
      },
      "source": [
        "As we can see, we have quite a decent list of recommendation for **Good Will Hunting** (Drama), **Toy Story** (Animation, Children's, Comedy), and **Saving Private Ryan** (Action, Thriller, War).\n",
        "\n",
        "Overall, here are the pros of using content-based recommendation:\n",
        "* No need for data on other users, thus no cold-start or sparsity problems.\n",
        "* Can recommend to users with unique tastes.\n",
        "* Can recommend new & unpopular items.\n",
        "* Can provide explanations for recommended items by listing content-features that caused an item to be recommended (in this case, movie genres)\n",
        "\n",
        "However, there are some cons of using this approach:\n",
        "* Finding the appropriate features is hard.\n",
        "* Does not recommend items outside a user's content profile.\n",
        "* Unable to exploit quality judgments of other users."
      ]
    },
    {
      "cell_type": "markdown",
      "metadata": {
        "id": "yhhhfXiNzGo-"
      },
      "source": [
        "<a id=section7></a>\n",
        "# 7. Collaborative Filtering Recommendation Model\n",
        "\n",
        "### Implementation\n",
        "We will use the file **ratings.csv** first as it contains User ID, Movie IDs and Ratings. These three elements are all we need for determining the similarity of the users based on their ratings for a particular movie.\n",
        "\n",
        "First, lets do some quick data processing:"
      ]
    },
    {
      "cell_type": "code",
      "metadata": {
        "id": "xtG3ZaoXzGo_"
      },
      "source": [
        "# Fill NaN values in user_id and movie_id column with 0\n",
        "ratings['user_id'] = ratings['user_id'].fillna(0)\n",
        "ratings['movie_id'] = ratings['movie_id'].fillna(0)\n",
        "\n",
        "# Replace NaN values in rating column with average of all values\n",
        "ratings['rating'] = ratings['rating'].fillna(ratings['rating'].mean())"
      ],
      "execution_count": null,
      "outputs": []
    },
    {
      "cell_type": "markdown",
      "metadata": {
        "id": "OFfhnlmczGpB"
      },
      "source": [
        "Due to the limited computing power, we will build the recommender system using only a subset of the ratings. We will take a random sample of 20,000 ratings (2%) from the 1M ratings."
      ]
    },
    {
      "cell_type": "code",
      "metadata": {
        "id": "_mZlqo1wzGpC",
        "colab": {
          "base_uri": "https://localhost:8080/"
        },
        "outputId": "db9161b7-ad12-47a8-896d-67db48189601"
      },
      "source": [
        "# Randomly sample 1% of the ratings dataset\n",
        "small_data = ratings.sample(frac=0.02)\n",
        "\n",
        "# Check the sample info\n",
        "print(small_data.info())"
      ],
      "execution_count": null,
      "outputs": [
        {
          "output_type": "stream",
          "text": [
            "<class 'pandas.core.frame.DataFrame'>\n",
            "Int64Index: 20004 entries, 936040 to 788239\n",
            "Data columns (total 3 columns):\n",
            " #   Column    Non-Null Count  Dtype\n",
            "---  ------    --------------  -----\n",
            " 0   user_id   20004 non-null  int64\n",
            " 1   movie_id  20004 non-null  int64\n",
            " 2   rating    20004 non-null  int64\n",
            "dtypes: int64(3)\n",
            "memory usage: 625.1 KB\n",
            "None\n"
          ],
          "name": "stdout"
        }
      ]
    },
    {
      "cell_type": "markdown",
      "metadata": {
        "id": "c4-WL_lYzGpE"
      },
      "source": [
        "<a id=section8></a>\n",
        "# 8. Splitting the data"
      ]
    },
    {
      "cell_type": "code",
      "metadata": {
        "id": "MUr3SkUczGpE"
      },
      "source": [
        "from sklearn import model_selection as cv\n",
        "train_data, test_data = cv.train_test_split(small_data, test_size=0.2)"
      ],
      "execution_count": null,
      "outputs": []
    },
    {
      "cell_type": "markdown",
      "metadata": {
        "id": "X3Xdm-PwzGpH"
      },
      "source": [
        "Now, we need to create a user-item matrix. Since we have splitted the data into testing and training, we need to create two matrices. The training matrix contains 80% of the ratings and the testing matrix contains 20% of the ratings."
      ]
    },
    {
      "cell_type": "code",
      "metadata": {
        "id": "QmvmZz8GzGpH",
        "colab": {
          "base_uri": "https://localhost:8080/"
        },
        "outputId": "2cf7f3cf-883f-4870-ab09-30a228ab6196"
      },
      "source": [
        "# Create two user-item matrices, one for training and another for testing\n",
        "train_data_matrix = train_data[['user_id', 'movie_id', 'rating']].values\n",
        "test_data_matrix = test_data[['user_id', 'movie_id', 'rating']].values\n",
        "\n",
        "# Check their shape\n",
        "print(train_data_matrix.shape)\n",
        "print(test_data_matrix.shape)"
      ],
      "execution_count": null,
      "outputs": [
        {
          "output_type": "stream",
          "text": [
            "(16003, 3)\n",
            "(4001, 3)\n"
          ],
          "name": "stdout"
        }
      ]
    },
    {
      "cell_type": "code",
      "metadata": {
        "colab": {
          "base_uri": "https://localhost:8080/"
        },
        "id": "7R1Sjd-rfAb0",
        "outputId": "3e29940e-b484-49a5-cc7d-688c1a453694"
      },
      "source": [
        "train_data_matrix"
      ],
      "execution_count": null,
      "outputs": [
        {
          "output_type": "execute_result",
          "data": {
            "text/plain": [
              "array([[4277, 3475,    4],\n",
              "       [2185, 1080,    4],\n",
              "       [1685, 1277,    3],\n",
              "       ...,\n",
              "       [2909, 2915,    4],\n",
              "       [ 957, 2318,    3],\n",
              "       [1019, 2724,    1]])"
            ]
          },
          "metadata": {
            "tags": []
          },
          "execution_count": 21
        }
      ]
    },
    {
      "cell_type": "markdown",
      "metadata": {
        "id": "_nKB7n4tzGpJ"
      },
      "source": [
        "Now, we use the **pairwise_distances** function from sklearn to calculate the [Pearson Correlation Coefficient](https://stackoverflow.com/questions/1838806/euclidean-distance-vs-pearson-correlation-vs-cosine-similarity). This method provides a safe way to take a distance matrix as input, while preserving compatibility with many other algorithms that take a vector array."
      ]
    },
    {
      "cell_type": "code",
      "metadata": {
        "colab": {
          "base_uri": "https://localhost:8080/",
          "height": 415
        },
        "id": "eSqHmn9yfXaY",
        "outputId": "9f2a9db7-6bdb-4a55-91c5-bd5c5c4f40af"
      },
      "source": [
        "train_data"
      ],
      "execution_count": null,
      "outputs": [
        {
          "output_type": "execute_result",
          "data": {
            "text/html": [
              "<div>\n",
              "<style scoped>\n",
              "    .dataframe tbody tr th:only-of-type {\n",
              "        vertical-align: middle;\n",
              "    }\n",
              "\n",
              "    .dataframe tbody tr th {\n",
              "        vertical-align: top;\n",
              "    }\n",
              "\n",
              "    .dataframe thead th {\n",
              "        text-align: right;\n",
              "    }\n",
              "</style>\n",
              "<table border=\"1\" class=\"dataframe\">\n",
              "  <thead>\n",
              "    <tr style=\"text-align: right;\">\n",
              "      <th></th>\n",
              "      <th>user_id</th>\n",
              "      <th>movie_id</th>\n",
              "      <th>rating</th>\n",
              "    </tr>\n",
              "  </thead>\n",
              "  <tbody>\n",
              "    <tr>\n",
              "      <th>712896</th>\n",
              "      <td>4277</td>\n",
              "      <td>3475</td>\n",
              "      <td>4</td>\n",
              "    </tr>\n",
              "    <tr>\n",
              "      <th>374945</th>\n",
              "      <td>2185</td>\n",
              "      <td>1080</td>\n",
              "      <td>4</td>\n",
              "    </tr>\n",
              "    <tr>\n",
              "      <th>280664</th>\n",
              "      <td>1685</td>\n",
              "      <td>1277</td>\n",
              "      <td>3</td>\n",
              "    </tr>\n",
              "    <tr>\n",
              "      <th>513123</th>\n",
              "      <td>3163</td>\n",
              "      <td>1968</td>\n",
              "      <td>4</td>\n",
              "    </tr>\n",
              "    <tr>\n",
              "      <th>947340</th>\n",
              "      <td>5720</td>\n",
              "      <td>1380</td>\n",
              "      <td>2</td>\n",
              "    </tr>\n",
              "    <tr>\n",
              "      <th>...</th>\n",
              "      <td>...</td>\n",
              "      <td>...</td>\n",
              "      <td>...</td>\n",
              "    </tr>\n",
              "    <tr>\n",
              "      <th>710871</th>\n",
              "      <td>4265</td>\n",
              "      <td>2985</td>\n",
              "      <td>4</td>\n",
              "    </tr>\n",
              "    <tr>\n",
              "      <th>976275</th>\n",
              "      <td>5886</td>\n",
              "      <td>1544</td>\n",
              "      <td>3</td>\n",
              "    </tr>\n",
              "    <tr>\n",
              "      <th>474081</th>\n",
              "      <td>2909</td>\n",
              "      <td>2915</td>\n",
              "      <td>4</td>\n",
              "    </tr>\n",
              "    <tr>\n",
              "      <th>148769</th>\n",
              "      <td>957</td>\n",
              "      <td>2318</td>\n",
              "      <td>3</td>\n",
              "    </tr>\n",
              "    <tr>\n",
              "      <th>160296</th>\n",
              "      <td>1019</td>\n",
              "      <td>2724</td>\n",
              "      <td>1</td>\n",
              "    </tr>\n",
              "  </tbody>\n",
              "</table>\n",
              "<p>16003 rows × 3 columns</p>\n",
              "</div>"
            ],
            "text/plain": [
              "        user_id  movie_id  rating\n",
              "712896     4277      3475       4\n",
              "374945     2185      1080       4\n",
              "280664     1685      1277       3\n",
              "513123     3163      1968       4\n",
              "947340     5720      1380       2\n",
              "...         ...       ...     ...\n",
              "710871     4265      2985       4\n",
              "976275     5886      1544       3\n",
              "474081     2909      2915       4\n",
              "148769      957      2318       3\n",
              "160296     1019      2724       1\n",
              "\n",
              "[16003 rows x 3 columns]"
            ]
          },
          "metadata": {
            "tags": []
          },
          "execution_count": 27
        }
      ]
    },
    {
      "cell_type": "code",
      "metadata": {
        "colab": {
          "base_uri": "https://localhost:8080/"
        },
        "id": "QMRQ_1PefG5X",
        "outputId": "676e349d-e4c5-4714-d267-2d4d449d1ebc"
      },
      "source": [
        "len(pairwise_distances(train_data, metric='correlation')[0])"
      ],
      "execution_count": null,
      "outputs": [
        {
          "output_type": "execute_result",
          "data": {
            "text/plain": [
              "16003"
            ]
          },
          "metadata": {
            "tags": []
          },
          "execution_count": 26
        }
      ]
    },
    {
      "cell_type": "code",
      "metadata": {
        "colab": {
          "base_uri": "https://localhost:8080/"
        },
        "id": "I1vCuIq1fgat",
        "outputId": "e78cfd9f-5323-452e-fa98-ad47a48c3efc"
      },
      "source": [
        "user_correlation"
      ],
      "execution_count": null,
      "outputs": [
        {
          "output_type": "execute_result",
          "data": {
            "text/plain": [
              "array([[1.        , 0.93806816, 0.99836622, ..., 0.9839728 , 0.69509319,\n",
              "        0.66318149],\n",
              "       [0.93806816, 1.        , 0.95633148, ..., 0.86125493, 0.40297454,\n",
              "        0.36280539],\n",
              "       [0.99836622, 0.95633148, 1.        , ..., 0.97217622, 0.65287908,\n",
              "        0.61933168],\n",
              "       ...,\n",
              "       [0.9839728 , 0.86125493, 0.97217622, ..., 1.        , 0.81214956,\n",
              "        0.78601666],\n",
              "       [0.69509319, 0.40297454, 0.65287908, ..., 0.81214956, 1.        ,\n",
              "        0.99905455],\n",
              "       [0.66318149, 0.36280539, 0.61933168, ..., 0.78601666, 0.99905455,\n",
              "        1.        ]])"
            ]
          },
          "metadata": {
            "tags": []
          },
          "execution_count": 28
        }
      ]
    },
    {
      "cell_type": "code",
      "metadata": {
        "id": "XZbbZApczGpJ",
        "colab": {
          "base_uri": "https://localhost:8080/"
        },
        "outputId": "f08fa808-92e9-4bb6-fd7d-cbbdb5daf471"
      },
      "source": [
        "from sklearn.metrics.pairwise import pairwise_distances\n",
        "\n",
        "# User Similarity Matrix\n",
        "user_correlation = 1 - pairwise_distances(train_data, metric='correlation')\n",
        "user_correlation[np.isnan(user_correlation)] = 0\n",
        "print(user_correlation[:4, :4])"
      ],
      "execution_count": null,
      "outputs": [
        {
          "output_type": "stream",
          "text": [
            "[[1.         0.93806816 0.99836622 0.97875914]\n",
            " [0.93806816 1.         0.95633148 0.98916988]\n",
            " [0.99836622 0.95633148 1.         0.98887437]\n",
            " [0.97875914 0.98916988 0.98887437 1.        ]]\n"
          ],
          "name": "stdout"
        }
      ]
    },
    {
      "cell_type": "code",
      "metadata": {
        "id": "LX4c73zqzGpL",
        "colab": {
          "base_uri": "https://localhost:8080/",
          "height": 67
        },
        "outputId": "7a3b9bdf-921a-4719-915d-5a45401d9bd1"
      },
      "source": [
        "# Item Similarity Matrix\n",
        "item_correlation = 1 - pairwise_distances(train_data_matrix.T, metric='correlation')\n",
        "item_correlation[np.isnan(item_correlation)] = 0\n",
        "print(item_correlation[:4, :4])"
      ],
      "execution_count": null,
      "outputs": [
        {
          "output_type": "stream",
          "text": [
            "[[ 1.         -0.02891923  0.02004303]\n",
            " [-0.02891923  1.         -0.05607814]\n",
            " [ 0.02004303 -0.05607814  1.        ]]\n"
          ],
          "name": "stdout"
        }
      ]
    },
    {
      "cell_type": "markdown",
      "metadata": {
        "id": "LIFm5Vx_zGpQ"
      },
      "source": [
        "- Using the similarity matrix, we can now predict the ratings that were not included with the data. \n",
        "- Using these predictions, we can then compare them with the test data to attempt to validate the quality of our recommender model.\n",
        "\n",
        "For the user-user CF case, we will look at the similarity between 2 users (A and B, for example) as weights that are multiplied by the ratings of a similar user B (corrected for the average rating of that user). \n",
        "- We also need to normalize it so that the ratings stay between 1 and 5 and, as a final step, sum the average ratings for the user that we are trying to predict. \n",
        "- The idea here is that some users may tend always to give high or low ratings to all movies. \n",
        "- The relative difference in the ratings that these users give is more important than the absolute values. "
      ]
    },
    {
      "cell_type": "markdown",
      "metadata": {
        "id": "O91PlnLizGpS"
      },
      "source": [
        "#### Function to predict ratings"
      ]
    },
    {
      "cell_type": "code",
      "metadata": {
        "id": "gn4hhyvczGpS"
      },
      "source": [
        "def predict(ratings, similarity, type='user'):\n",
        "    if type == 'user':\n",
        "        mean_user_rating = ratings.mean(axis=1)\n",
        "        # Use np.newaxis so that mean_user_rating has same format as ratings\n",
        "        ratings_diff = (ratings - mean_user_rating[:, np.newaxis])\n",
        "        pred = mean_user_rating[:, np.newaxis] + similarity.dot(ratings_diff) / np.array([np.abs(similarity).sum(axis=1)]).T\n",
        "    elif type == 'item':\n",
        "        pred = ratings.dot(similarity) / np.array([np.abs(similarity).sum(axis=1)])\n",
        "    return pred"
      ],
      "execution_count": null,
      "outputs": []
    },
    {
      "cell_type": "markdown",
      "metadata": {
        "id": "SOHvXv2SzGpT"
      },
      "source": [
        "<a id=section9></a>\n",
        "# 9. Model Evaluation"
      ]
    },
    {
      "cell_type": "code",
      "metadata": {
        "id": "7BSc1T1WzGpU"
      },
      "source": [
        "from sklearn.metrics import mean_squared_error\n",
        "from math import sqrt\n",
        "\n",
        "# Function to calculate RMSE\n",
        "def rmse(pred, actual):\n",
        "    # Ignore nonzero terms.\n",
        "    pred = pred[actual.nonzero()].flatten()\n",
        "    actual = actual[actual.nonzero()].flatten()\n",
        "    return sqrt(mean_squared_error(pred, actual))"
      ],
      "execution_count": null,
      "outputs": []
    },
    {
      "cell_type": "code",
      "metadata": {
        "id": "Kx1V2oVEzGpV",
        "colab": {
          "base_uri": "https://localhost:8080/",
          "height": 50
        },
        "outputId": "396d3641-f671-4548-a74c-3fb1280f96cc"
      },
      "source": [
        "# Predict ratings on the training data with both similarity score\n",
        "user_prediction = predict(train_data_matrix, user_correlation, type='user')\n",
        "item_prediction = predict(train_data_matrix, item_correlation, type='item')\n",
        "\n",
        "# RMSE on the test data\n",
        "print('User-based CF RMSE: ' + str(rmse(user_prediction, test_data_matrix)))\n",
        "print('Item-based CF RMSE: ' + str(rmse(item_prediction, test_data_matrix)))"
      ],
      "execution_count": null,
      "outputs": [
        {
          "output_type": "stream",
          "text": [
            "User-based CF RMSE: 1420.8738646834827\n",
            "Item-based CF RMSE: 1633.3004809866643\n"
          ],
          "name": "stdout"
        }
      ]
    },
    {
      "cell_type": "code",
      "metadata": {
        "id": "QrPN0JROzGpY",
        "colab": {
          "base_uri": "https://localhost:8080/",
          "height": 50
        },
        "outputId": "311abe94-f035-4481-d8a4-e96900988ba1"
      },
      "source": [
        "# RMSE on the train data\n",
        "print('User-based CF RMSE: ' + str(rmse(user_prediction, train_data_matrix)))\n",
        "print('Item-based CF RMSE: ' + str(rmse(item_prediction, train_data_matrix)))"
      ],
      "execution_count": null,
      "outputs": [
        {
          "output_type": "stream",
          "text": [
            "User-based CF RMSE: 690.8190924072442\n",
            "Item-based CF RMSE: 191.77285010643928\n"
          ],
          "name": "stdout"
        }
      ]
    },
    {
      "cell_type": "markdown",
      "metadata": {
        "id": "IS5ofZ6mzGpa"
      },
      "source": [
        "RMSE of training of model is a metric which measure how much the signal and the noise is explained by the model. We noticed that our RMSE is quite big. We suppose we might have overfitted the training data.\n",
        "\n",
        "Overall, Memory-based Collaborative Filtering is easy to implement and produce reasonable prediction quality. However, there are some drawbacks of this approach:\n",
        "\n",
        "* It doesn't address the well-known cold-start problem, that is when new user or new item enters the system. \n",
        "* It can't deal with sparse data, meaning it's hard to find users that have rated the same items.\n",
        "* It suffers when new users or items that don't have any ratings enter the system.\n",
        "* It tends to recommend popular items."
      ]
    },
    {
      "cell_type": "markdown",
      "metadata": {
        "id": "fE2a55X4zGph"
      },
      "source": [
        "<a id=section10></a>\n",
        "# 10. Model based Collaborative Filtering"
      ]
    },
    {
      "cell_type": "markdown",
      "metadata": {
        "id": "Q4deX-vBzGph"
      },
      "source": [
        "### Using K-NN"
      ]
    },
    {
      "cell_type": "code",
      "metadata": {
        "id": "y5aqsueTwvJ0",
        "colab": {
          "base_uri": "https://localhost:8080/",
          "height": 34
        },
        "outputId": "eacff63b-f4ce-41cd-fb29-1c52d4876482"
      },
      "source": [
        "n_users = ratings.user_id.unique().shape[0]\n",
        "n_movies = ratings.movie_id.unique().shape[0]\n",
        "print ('Number of users = ' + str(n_users) + ' | Number of movies = ' + str(n_movies))"
      ],
      "execution_count": null,
      "outputs": [
        {
          "output_type": "stream",
          "text": [
            "Number of users = 6040 | Number of movies = 3706\n"
          ],
          "name": "stdout"
        }
      ]
    },
    {
      "cell_type": "code",
      "metadata": {
        "id": "bDvSYbFgwvJ4",
        "colab": {
          "base_uri": "https://localhost:8080/",
          "height": 274
        },
        "outputId": "44c7e07b-a4e2-4693-90ef-6e468d526211"
      },
      "source": [
        "Ratings = ratings.pivot(index = 'user_id', columns ='movie_id', values = 'rating').fillna(0)\n",
        "Ratings.head()"
      ],
      "execution_count": null,
      "outputs": [
        {
          "output_type": "execute_result",
          "data": {
            "text/html": [
              "<div>\n",
              "<style scoped>\n",
              "    .dataframe tbody tr th:only-of-type {\n",
              "        vertical-align: middle;\n",
              "    }\n",
              "\n",
              "    .dataframe tbody tr th {\n",
              "        vertical-align: top;\n",
              "    }\n",
              "\n",
              "    .dataframe thead th {\n",
              "        text-align: right;\n",
              "    }\n",
              "</style>\n",
              "<table border=\"1\" class=\"dataframe\">\n",
              "  <thead>\n",
              "    <tr style=\"text-align: right;\">\n",
              "      <th>movie_id</th>\n",
              "      <th>1</th>\n",
              "      <th>2</th>\n",
              "      <th>3</th>\n",
              "      <th>4</th>\n",
              "      <th>5</th>\n",
              "      <th>6</th>\n",
              "      <th>7</th>\n",
              "      <th>8</th>\n",
              "      <th>9</th>\n",
              "      <th>10</th>\n",
              "      <th>11</th>\n",
              "      <th>12</th>\n",
              "      <th>13</th>\n",
              "      <th>14</th>\n",
              "      <th>15</th>\n",
              "      <th>16</th>\n",
              "      <th>17</th>\n",
              "      <th>18</th>\n",
              "      <th>19</th>\n",
              "      <th>20</th>\n",
              "      <th>21</th>\n",
              "      <th>22</th>\n",
              "      <th>23</th>\n",
              "      <th>24</th>\n",
              "      <th>25</th>\n",
              "      <th>26</th>\n",
              "      <th>27</th>\n",
              "      <th>28</th>\n",
              "      <th>29</th>\n",
              "      <th>30</th>\n",
              "      <th>31</th>\n",
              "      <th>32</th>\n",
              "      <th>33</th>\n",
              "      <th>34</th>\n",
              "      <th>35</th>\n",
              "      <th>36</th>\n",
              "      <th>37</th>\n",
              "      <th>38</th>\n",
              "      <th>39</th>\n",
              "      <th>40</th>\n",
              "      <th>...</th>\n",
              "      <th>3913</th>\n",
              "      <th>3914</th>\n",
              "      <th>3915</th>\n",
              "      <th>3916</th>\n",
              "      <th>3917</th>\n",
              "      <th>3918</th>\n",
              "      <th>3919</th>\n",
              "      <th>3920</th>\n",
              "      <th>3921</th>\n",
              "      <th>3922</th>\n",
              "      <th>3923</th>\n",
              "      <th>3924</th>\n",
              "      <th>3925</th>\n",
              "      <th>3926</th>\n",
              "      <th>3927</th>\n",
              "      <th>3928</th>\n",
              "      <th>3929</th>\n",
              "      <th>3930</th>\n",
              "      <th>3931</th>\n",
              "      <th>3932</th>\n",
              "      <th>3933</th>\n",
              "      <th>3934</th>\n",
              "      <th>3935</th>\n",
              "      <th>3936</th>\n",
              "      <th>3937</th>\n",
              "      <th>3938</th>\n",
              "      <th>3939</th>\n",
              "      <th>3940</th>\n",
              "      <th>3941</th>\n",
              "      <th>3942</th>\n",
              "      <th>3943</th>\n",
              "      <th>3944</th>\n",
              "      <th>3945</th>\n",
              "      <th>3946</th>\n",
              "      <th>3947</th>\n",
              "      <th>3948</th>\n",
              "      <th>3949</th>\n",
              "      <th>3950</th>\n",
              "      <th>3951</th>\n",
              "      <th>3952</th>\n",
              "    </tr>\n",
              "    <tr>\n",
              "      <th>user_id</th>\n",
              "      <th></th>\n",
              "      <th></th>\n",
              "      <th></th>\n",
              "      <th></th>\n",
              "      <th></th>\n",
              "      <th></th>\n",
              "      <th></th>\n",
              "      <th></th>\n",
              "      <th></th>\n",
              "      <th></th>\n",
              "      <th></th>\n",
              "      <th></th>\n",
              "      <th></th>\n",
              "      <th></th>\n",
              "      <th></th>\n",
              "      <th></th>\n",
              "      <th></th>\n",
              "      <th></th>\n",
              "      <th></th>\n",
              "      <th></th>\n",
              "      <th></th>\n",
              "      <th></th>\n",
              "      <th></th>\n",
              "      <th></th>\n",
              "      <th></th>\n",
              "      <th></th>\n",
              "      <th></th>\n",
              "      <th></th>\n",
              "      <th></th>\n",
              "      <th></th>\n",
              "      <th></th>\n",
              "      <th></th>\n",
              "      <th></th>\n",
              "      <th></th>\n",
              "      <th></th>\n",
              "      <th></th>\n",
              "      <th></th>\n",
              "      <th></th>\n",
              "      <th></th>\n",
              "      <th></th>\n",
              "      <th></th>\n",
              "      <th></th>\n",
              "      <th></th>\n",
              "      <th></th>\n",
              "      <th></th>\n",
              "      <th></th>\n",
              "      <th></th>\n",
              "      <th></th>\n",
              "      <th></th>\n",
              "      <th></th>\n",
              "      <th></th>\n",
              "      <th></th>\n",
              "      <th></th>\n",
              "      <th></th>\n",
              "      <th></th>\n",
              "      <th></th>\n",
              "      <th></th>\n",
              "      <th></th>\n",
              "      <th></th>\n",
              "      <th></th>\n",
              "      <th></th>\n",
              "      <th></th>\n",
              "      <th></th>\n",
              "      <th></th>\n",
              "      <th></th>\n",
              "      <th></th>\n",
              "      <th></th>\n",
              "      <th></th>\n",
              "      <th></th>\n",
              "      <th></th>\n",
              "      <th></th>\n",
              "      <th></th>\n",
              "      <th></th>\n",
              "      <th></th>\n",
              "      <th></th>\n",
              "      <th></th>\n",
              "      <th></th>\n",
              "      <th></th>\n",
              "      <th></th>\n",
              "      <th></th>\n",
              "      <th></th>\n",
              "    </tr>\n",
              "  </thead>\n",
              "  <tbody>\n",
              "    <tr>\n",
              "      <th>1</th>\n",
              "      <td>5.0</td>\n",
              "      <td>0.0</td>\n",
              "      <td>0.0</td>\n",
              "      <td>0.0</td>\n",
              "      <td>0.0</td>\n",
              "      <td>0.0</td>\n",
              "      <td>0.0</td>\n",
              "      <td>0.0</td>\n",
              "      <td>0.0</td>\n",
              "      <td>0.0</td>\n",
              "      <td>0.0</td>\n",
              "      <td>0.0</td>\n",
              "      <td>0.0</td>\n",
              "      <td>0.0</td>\n",
              "      <td>0.0</td>\n",
              "      <td>0.0</td>\n",
              "      <td>0.0</td>\n",
              "      <td>0.0</td>\n",
              "      <td>0.0</td>\n",
              "      <td>0.0</td>\n",
              "      <td>0.0</td>\n",
              "      <td>0.0</td>\n",
              "      <td>0.0</td>\n",
              "      <td>0.0</td>\n",
              "      <td>0.0</td>\n",
              "      <td>0.0</td>\n",
              "      <td>0.0</td>\n",
              "      <td>0.0</td>\n",
              "      <td>0.0</td>\n",
              "      <td>0.0</td>\n",
              "      <td>0.0</td>\n",
              "      <td>0.0</td>\n",
              "      <td>0.0</td>\n",
              "      <td>0.0</td>\n",
              "      <td>0.0</td>\n",
              "      <td>0.0</td>\n",
              "      <td>0.0</td>\n",
              "      <td>0.0</td>\n",
              "      <td>0.0</td>\n",
              "      <td>0.0</td>\n",
              "      <td>...</td>\n",
              "      <td>0.0</td>\n",
              "      <td>0.0</td>\n",
              "      <td>0.0</td>\n",
              "      <td>0.0</td>\n",
              "      <td>0.0</td>\n",
              "      <td>0.0</td>\n",
              "      <td>0.0</td>\n",
              "      <td>0.0</td>\n",
              "      <td>0.0</td>\n",
              "      <td>0.0</td>\n",
              "      <td>0.0</td>\n",
              "      <td>0.0</td>\n",
              "      <td>0.0</td>\n",
              "      <td>0.0</td>\n",
              "      <td>0.0</td>\n",
              "      <td>0.0</td>\n",
              "      <td>0.0</td>\n",
              "      <td>0.0</td>\n",
              "      <td>0.0</td>\n",
              "      <td>0.0</td>\n",
              "      <td>0.0</td>\n",
              "      <td>0.0</td>\n",
              "      <td>0.0</td>\n",
              "      <td>0.0</td>\n",
              "      <td>0.0</td>\n",
              "      <td>0.0</td>\n",
              "      <td>0.0</td>\n",
              "      <td>0.0</td>\n",
              "      <td>0.0</td>\n",
              "      <td>0.0</td>\n",
              "      <td>0.0</td>\n",
              "      <td>0.0</td>\n",
              "      <td>0.0</td>\n",
              "      <td>0.0</td>\n",
              "      <td>0.0</td>\n",
              "      <td>0.0</td>\n",
              "      <td>0.0</td>\n",
              "      <td>0.0</td>\n",
              "      <td>0.0</td>\n",
              "      <td>0.0</td>\n",
              "    </tr>\n",
              "    <tr>\n",
              "      <th>2</th>\n",
              "      <td>0.0</td>\n",
              "      <td>0.0</td>\n",
              "      <td>0.0</td>\n",
              "      <td>0.0</td>\n",
              "      <td>0.0</td>\n",
              "      <td>0.0</td>\n",
              "      <td>0.0</td>\n",
              "      <td>0.0</td>\n",
              "      <td>0.0</td>\n",
              "      <td>0.0</td>\n",
              "      <td>0.0</td>\n",
              "      <td>0.0</td>\n",
              "      <td>0.0</td>\n",
              "      <td>0.0</td>\n",
              "      <td>0.0</td>\n",
              "      <td>0.0</td>\n",
              "      <td>0.0</td>\n",
              "      <td>0.0</td>\n",
              "      <td>0.0</td>\n",
              "      <td>0.0</td>\n",
              "      <td>1.0</td>\n",
              "      <td>0.0</td>\n",
              "      <td>0.0</td>\n",
              "      <td>0.0</td>\n",
              "      <td>0.0</td>\n",
              "      <td>0.0</td>\n",
              "      <td>0.0</td>\n",
              "      <td>0.0</td>\n",
              "      <td>0.0</td>\n",
              "      <td>0.0</td>\n",
              "      <td>0.0</td>\n",
              "      <td>0.0</td>\n",
              "      <td>0.0</td>\n",
              "      <td>0.0</td>\n",
              "      <td>0.0</td>\n",
              "      <td>0.0</td>\n",
              "      <td>0.0</td>\n",
              "      <td>0.0</td>\n",
              "      <td>0.0</td>\n",
              "      <td>0.0</td>\n",
              "      <td>...</td>\n",
              "      <td>0.0</td>\n",
              "      <td>0.0</td>\n",
              "      <td>0.0</td>\n",
              "      <td>0.0</td>\n",
              "      <td>0.0</td>\n",
              "      <td>0.0</td>\n",
              "      <td>0.0</td>\n",
              "      <td>0.0</td>\n",
              "      <td>0.0</td>\n",
              "      <td>0.0</td>\n",
              "      <td>0.0</td>\n",
              "      <td>0.0</td>\n",
              "      <td>0.0</td>\n",
              "      <td>0.0</td>\n",
              "      <td>0.0</td>\n",
              "      <td>0.0</td>\n",
              "      <td>0.0</td>\n",
              "      <td>0.0</td>\n",
              "      <td>0.0</td>\n",
              "      <td>0.0</td>\n",
              "      <td>0.0</td>\n",
              "      <td>0.0</td>\n",
              "      <td>0.0</td>\n",
              "      <td>0.0</td>\n",
              "      <td>0.0</td>\n",
              "      <td>0.0</td>\n",
              "      <td>0.0</td>\n",
              "      <td>0.0</td>\n",
              "      <td>0.0</td>\n",
              "      <td>0.0</td>\n",
              "      <td>0.0</td>\n",
              "      <td>0.0</td>\n",
              "      <td>0.0</td>\n",
              "      <td>0.0</td>\n",
              "      <td>0.0</td>\n",
              "      <td>0.0</td>\n",
              "      <td>0.0</td>\n",
              "      <td>0.0</td>\n",
              "      <td>0.0</td>\n",
              "      <td>0.0</td>\n",
              "    </tr>\n",
              "    <tr>\n",
              "      <th>3</th>\n",
              "      <td>0.0</td>\n",
              "      <td>0.0</td>\n",
              "      <td>0.0</td>\n",
              "      <td>0.0</td>\n",
              "      <td>0.0</td>\n",
              "      <td>0.0</td>\n",
              "      <td>0.0</td>\n",
              "      <td>0.0</td>\n",
              "      <td>0.0</td>\n",
              "      <td>0.0</td>\n",
              "      <td>0.0</td>\n",
              "      <td>0.0</td>\n",
              "      <td>0.0</td>\n",
              "      <td>0.0</td>\n",
              "      <td>0.0</td>\n",
              "      <td>0.0</td>\n",
              "      <td>0.0</td>\n",
              "      <td>0.0</td>\n",
              "      <td>0.0</td>\n",
              "      <td>0.0</td>\n",
              "      <td>0.0</td>\n",
              "      <td>0.0</td>\n",
              "      <td>0.0</td>\n",
              "      <td>0.0</td>\n",
              "      <td>0.0</td>\n",
              "      <td>0.0</td>\n",
              "      <td>0.0</td>\n",
              "      <td>0.0</td>\n",
              "      <td>0.0</td>\n",
              "      <td>0.0</td>\n",
              "      <td>0.0</td>\n",
              "      <td>0.0</td>\n",
              "      <td>0.0</td>\n",
              "      <td>0.0</td>\n",
              "      <td>0.0</td>\n",
              "      <td>0.0</td>\n",
              "      <td>0.0</td>\n",
              "      <td>0.0</td>\n",
              "      <td>0.0</td>\n",
              "      <td>0.0</td>\n",
              "      <td>...</td>\n",
              "      <td>0.0</td>\n",
              "      <td>0.0</td>\n",
              "      <td>0.0</td>\n",
              "      <td>0.0</td>\n",
              "      <td>0.0</td>\n",
              "      <td>0.0</td>\n",
              "      <td>0.0</td>\n",
              "      <td>0.0</td>\n",
              "      <td>0.0</td>\n",
              "      <td>0.0</td>\n",
              "      <td>0.0</td>\n",
              "      <td>0.0</td>\n",
              "      <td>0.0</td>\n",
              "      <td>0.0</td>\n",
              "      <td>0.0</td>\n",
              "      <td>0.0</td>\n",
              "      <td>0.0</td>\n",
              "      <td>0.0</td>\n",
              "      <td>0.0</td>\n",
              "      <td>0.0</td>\n",
              "      <td>0.0</td>\n",
              "      <td>0.0</td>\n",
              "      <td>0.0</td>\n",
              "      <td>0.0</td>\n",
              "      <td>0.0</td>\n",
              "      <td>0.0</td>\n",
              "      <td>0.0</td>\n",
              "      <td>0.0</td>\n",
              "      <td>0.0</td>\n",
              "      <td>0.0</td>\n",
              "      <td>0.0</td>\n",
              "      <td>0.0</td>\n",
              "      <td>0.0</td>\n",
              "      <td>0.0</td>\n",
              "      <td>0.0</td>\n",
              "      <td>0.0</td>\n",
              "      <td>0.0</td>\n",
              "      <td>0.0</td>\n",
              "      <td>0.0</td>\n",
              "      <td>0.0</td>\n",
              "    </tr>\n",
              "    <tr>\n",
              "      <th>4</th>\n",
              "      <td>0.0</td>\n",
              "      <td>0.0</td>\n",
              "      <td>0.0</td>\n",
              "      <td>0.0</td>\n",
              "      <td>0.0</td>\n",
              "      <td>0.0</td>\n",
              "      <td>0.0</td>\n",
              "      <td>0.0</td>\n",
              "      <td>0.0</td>\n",
              "      <td>0.0</td>\n",
              "      <td>0.0</td>\n",
              "      <td>0.0</td>\n",
              "      <td>0.0</td>\n",
              "      <td>0.0</td>\n",
              "      <td>0.0</td>\n",
              "      <td>0.0</td>\n",
              "      <td>0.0</td>\n",
              "      <td>0.0</td>\n",
              "      <td>0.0</td>\n",
              "      <td>0.0</td>\n",
              "      <td>0.0</td>\n",
              "      <td>0.0</td>\n",
              "      <td>0.0</td>\n",
              "      <td>0.0</td>\n",
              "      <td>0.0</td>\n",
              "      <td>0.0</td>\n",
              "      <td>0.0</td>\n",
              "      <td>0.0</td>\n",
              "      <td>0.0</td>\n",
              "      <td>0.0</td>\n",
              "      <td>0.0</td>\n",
              "      <td>0.0</td>\n",
              "      <td>0.0</td>\n",
              "      <td>0.0</td>\n",
              "      <td>0.0</td>\n",
              "      <td>0.0</td>\n",
              "      <td>0.0</td>\n",
              "      <td>0.0</td>\n",
              "      <td>0.0</td>\n",
              "      <td>0.0</td>\n",
              "      <td>...</td>\n",
              "      <td>0.0</td>\n",
              "      <td>0.0</td>\n",
              "      <td>0.0</td>\n",
              "      <td>0.0</td>\n",
              "      <td>0.0</td>\n",
              "      <td>0.0</td>\n",
              "      <td>0.0</td>\n",
              "      <td>0.0</td>\n",
              "      <td>0.0</td>\n",
              "      <td>0.0</td>\n",
              "      <td>0.0</td>\n",
              "      <td>0.0</td>\n",
              "      <td>0.0</td>\n",
              "      <td>0.0</td>\n",
              "      <td>0.0</td>\n",
              "      <td>0.0</td>\n",
              "      <td>0.0</td>\n",
              "      <td>0.0</td>\n",
              "      <td>0.0</td>\n",
              "      <td>0.0</td>\n",
              "      <td>0.0</td>\n",
              "      <td>0.0</td>\n",
              "      <td>0.0</td>\n",
              "      <td>0.0</td>\n",
              "      <td>0.0</td>\n",
              "      <td>0.0</td>\n",
              "      <td>0.0</td>\n",
              "      <td>0.0</td>\n",
              "      <td>0.0</td>\n",
              "      <td>0.0</td>\n",
              "      <td>0.0</td>\n",
              "      <td>0.0</td>\n",
              "      <td>0.0</td>\n",
              "      <td>0.0</td>\n",
              "      <td>0.0</td>\n",
              "      <td>0.0</td>\n",
              "      <td>0.0</td>\n",
              "      <td>0.0</td>\n",
              "      <td>0.0</td>\n",
              "      <td>0.0</td>\n",
              "    </tr>\n",
              "    <tr>\n",
              "      <th>5</th>\n",
              "      <td>0.0</td>\n",
              "      <td>0.0</td>\n",
              "      <td>0.0</td>\n",
              "      <td>0.0</td>\n",
              "      <td>0.0</td>\n",
              "      <td>2.0</td>\n",
              "      <td>0.0</td>\n",
              "      <td>0.0</td>\n",
              "      <td>0.0</td>\n",
              "      <td>0.0</td>\n",
              "      <td>0.0</td>\n",
              "      <td>0.0</td>\n",
              "      <td>0.0</td>\n",
              "      <td>0.0</td>\n",
              "      <td>0.0</td>\n",
              "      <td>3.0</td>\n",
              "      <td>0.0</td>\n",
              "      <td>0.0</td>\n",
              "      <td>0.0</td>\n",
              "      <td>0.0</td>\n",
              "      <td>0.0</td>\n",
              "      <td>0.0</td>\n",
              "      <td>0.0</td>\n",
              "      <td>1.0</td>\n",
              "      <td>0.0</td>\n",
              "      <td>0.0</td>\n",
              "      <td>0.0</td>\n",
              "      <td>0.0</td>\n",
              "      <td>5.0</td>\n",
              "      <td>0.0</td>\n",
              "      <td>0.0</td>\n",
              "      <td>4.0</td>\n",
              "      <td>0.0</td>\n",
              "      <td>4.0</td>\n",
              "      <td>0.0</td>\n",
              "      <td>3.0</td>\n",
              "      <td>0.0</td>\n",
              "      <td>0.0</td>\n",
              "      <td>3.0</td>\n",
              "      <td>0.0</td>\n",
              "      <td>...</td>\n",
              "      <td>0.0</td>\n",
              "      <td>0.0</td>\n",
              "      <td>0.0</td>\n",
              "      <td>0.0</td>\n",
              "      <td>0.0</td>\n",
              "      <td>0.0</td>\n",
              "      <td>0.0</td>\n",
              "      <td>0.0</td>\n",
              "      <td>0.0</td>\n",
              "      <td>0.0</td>\n",
              "      <td>0.0</td>\n",
              "      <td>0.0</td>\n",
              "      <td>0.0</td>\n",
              "      <td>0.0</td>\n",
              "      <td>0.0</td>\n",
              "      <td>0.0</td>\n",
              "      <td>0.0</td>\n",
              "      <td>0.0</td>\n",
              "      <td>0.0</td>\n",
              "      <td>0.0</td>\n",
              "      <td>0.0</td>\n",
              "      <td>0.0</td>\n",
              "      <td>0.0</td>\n",
              "      <td>0.0</td>\n",
              "      <td>0.0</td>\n",
              "      <td>0.0</td>\n",
              "      <td>0.0</td>\n",
              "      <td>0.0</td>\n",
              "      <td>0.0</td>\n",
              "      <td>0.0</td>\n",
              "      <td>0.0</td>\n",
              "      <td>0.0</td>\n",
              "      <td>0.0</td>\n",
              "      <td>0.0</td>\n",
              "      <td>0.0</td>\n",
              "      <td>0.0</td>\n",
              "      <td>0.0</td>\n",
              "      <td>0.0</td>\n",
              "      <td>0.0</td>\n",
              "      <td>0.0</td>\n",
              "    </tr>\n",
              "  </tbody>\n",
              "</table>\n",
              "<p>5 rows × 3706 columns</p>\n",
              "</div>"
            ],
            "text/plain": [
              "movie_id  1     2     3     4     5     ...  3948  3949  3950  3951  3952\n",
              "user_id                                 ...                              \n",
              "1          5.0   0.0   0.0   0.0   0.0  ...   0.0   0.0   0.0   0.0   0.0\n",
              "2          0.0   0.0   0.0   0.0   0.0  ...   0.0   0.0   0.0   0.0   0.0\n",
              "3          0.0   0.0   0.0   0.0   0.0  ...   0.0   0.0   0.0   0.0   0.0\n",
              "4          0.0   0.0   0.0   0.0   0.0  ...   0.0   0.0   0.0   0.0   0.0\n",
              "5          0.0   0.0   0.0   0.0   0.0  ...   0.0   0.0   0.0   0.0   0.0\n",
              "\n",
              "[5 rows x 3706 columns]"
            ]
          },
          "metadata": {
            "tags": []
          },
          "execution_count": 35
        }
      ]
    },
    {
      "cell_type": "code",
      "metadata": {
        "id": "FHrzmnwSzGph",
        "colab": {
          "base_uri": "https://localhost:8080/",
          "height": 67
        },
        "outputId": "e350c65c-104e-4a66-ddcf-f2fa8659691b"
      },
      "source": [
        "from sklearn.neighbors import NearestNeighbors\n",
        "\n",
        "model_knn = NearestNeighbors(metric = 'cosine', algorithm = 'brute')\n",
        "model_knn.fit(Ratings)"
      ],
      "execution_count": null,
      "outputs": [
        {
          "output_type": "execute_result",
          "data": {
            "text/plain": [
              "NearestNeighbors(algorithm='brute', leaf_size=30, metric='cosine',\n",
              "                 metric_params=None, n_jobs=None, n_neighbors=5, p=2,\n",
              "                 radius=1.0)"
            ]
          },
          "metadata": {
            "tags": []
          },
          "execution_count": 36
        }
      ]
    },
    {
      "cell_type": "markdown",
      "metadata": {
        "id": "s_OYKBdvzGpj"
      },
      "source": [
        "#### Testing our model and making some recommendations"
      ]
    },
    {
      "cell_type": "code",
      "metadata": {
        "id": "HhR7ulQnzGpk",
        "colab": {
          "base_uri": "https://localhost:8080/",
          "height": 34
        },
        "outputId": "6df0b9ee-64a8-4a2a-a0ea-34cd397d3109"
      },
      "source": [
        "Ratings.index[0]"
      ],
      "execution_count": null,
      "outputs": [
        {
          "output_type": "execute_result",
          "data": {
            "text/plain": [
              "1"
            ]
          },
          "metadata": {
            "tags": []
          },
          "execution_count": 37
        }
      ]
    },
    {
      "cell_type": "code",
      "metadata": {
        "id": "HPlCRqj5zGpm",
        "colab": {
          "base_uri": "https://localhost:8080/",
          "height": 134
        },
        "outputId": "5311a250-130e-44c2-883d-1b9027a89d11"
      },
      "source": [
        "query_index = np.random.choice(Ratings.shape[0])\n",
        "distances, indices = model_knn.kneighbors(Ratings.iloc[query_index, :].values.reshape(1, -1), n_neighbors = 6)\n",
        "\n",
        "for i in range(0, len(distances.flatten())):\n",
        "    if i == 0:\n",
        "        print('Recommendation for {0}:\\n'.format(Ratings.index[query_index]))\n",
        "    else:\n",
        "        print('{0}: {1}, with distance of {2}:'.format(i, Ratings.index[indices.flatten()[i]],distances.flatten()[i]))"
      ],
      "execution_count": null,
      "outputs": [
        {
          "output_type": "stream",
          "text": [
            "Recommendation for 5284:\n",
            "\n",
            "1: 3269, with distance of 0.6148133454965887:\n",
            "2: 4936, with distance of 0.6278643351371822:\n",
            "3: 5921, with distance of 0.6296309512995433:\n",
            "4: 3966, with distance of 0.6305234415327649:\n",
            "5: 1304, with distance of 0.6332544317380528:\n"
          ],
          "name": "stdout"
        }
      ]
    },
    {
      "cell_type": "markdown",
      "metadata": {
        "id": "3amJ4zypzGpn"
      },
      "source": [
        "#### Checking sparisty level of the dataset"
      ]
    },
    {
      "cell_type": "code",
      "metadata": {
        "id": "00kkUQdizGpo",
        "colab": {
          "base_uri": "https://localhost:8080/",
          "height": 34
        },
        "outputId": "6afbf6f4-c066-4a72-cea7-c071b3eb3ece"
      },
      "source": [
        "sparsity = round(1.0 - len(ratings) / float(n_users * n_movies), 3)\n",
        "print('The sparsity level of MovieLens1M dataset is ' +  str(sparsity * 100) + '%')"
      ],
      "execution_count": null,
      "outputs": [
        {
          "output_type": "stream",
          "text": [
            "The sparsity level of MovieLens1M dataset is 95.5%\n"
          ],
          "name": "stdout"
        }
      ]
    },
    {
      "cell_type": "markdown",
      "metadata": {
        "id": "0lY7r8EwzGqM"
      },
      "source": [
        "<a id=section11></a>\n",
        "# 11. Conclusion\n",
        "\n",
        "- Here, we can see that the recommendations (movie_id) are different for each user. So personalization exists, i.e. for different users we have a different set of recommendations.\n",
        "\n",
        "\n",
        "- In this model, we do not have the ratings for each movie given by each user. We must find a way to predict all these missing ratings. For that, we have to find a set of features which can define how a user rates the movies. These are called **latent features**. \n",
        "\n",
        "\n",
        "- We need to find a way to extract the most important latent features from the the existing features. **Matrix factorization**, covered in the next section, is one such technique which uses the lower dimension dense matrix and helps in extracting the important latent features."
      ]
    }
  ]
}